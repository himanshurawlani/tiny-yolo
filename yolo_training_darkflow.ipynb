{
  "nbformat": 4,
  "nbformat_minor": 0,
  "metadata": {
    "colab": {
      "name": "yolo_training_darkflow.ipynb",
      "version": "0.3.2",
      "views": {},
      "default_view": {},
      "provenance": [],
      "collapsed_sections": [],
      "toc_visible": true
    },
    "kernelspec": {
      "name": "python3",
      "display_name": "Python 3"
    },
    "accelerator": "GPU"
  },
  "cells": [
    {
      "metadata": {
        "id": "s-MSSVwar3Jl",
        "colab_type": "text"
      },
      "cell_type": "markdown",
      "source": [
        "Setting up Darkflow and training YOLO"
      ]
    },
    {
      "metadata": {
        "id": "4IQx3W8LZV9U",
        "colab_type": "code",
        "colab": {
          "autoexec": {
            "startup": false,
            "wait_interval": 0
          },
          "output_extras": [
            {
              "item_id": 1
            }
          ],
          "base_uri": "https://localhost:8080/",
          "height": 34
        },
        "outputId": "9b26d726-9ae7-4d80-c01f-a56b3e5c7183",
        "executionInfo": {
          "status": "ok",
          "timestamp": 1519316485365,
          "user_tz": -330,
          "elapsed": 7688,
          "user": {
            "displayName": "Himanshu Rawlani",
            "photoUrl": "//lh4.googleusercontent.com/-25bwESRvc84/AAAAAAAAAAI/AAAAAAAAMDQ/XeEMbo9cdEI/s50-c-k-no/photo.jpg",
            "userId": "103244414105699526880"
          }
        }
      },
      "cell_type": "code",
      "source": [
        "import tensorflow as tf\n",
        "print(tf.__version__)"
      ],
      "execution_count": 1,
      "outputs": [
        {
          "output_type": "stream",
          "text": [
            "1.6.0-rc1\n"
          ],
          "name": "stdout"
        }
      ]
    },
    {
      "metadata": {
        "id": "P1uCbmElpgWp",
        "colab_type": "code",
        "colab": {
          "autoexec": {
            "startup": false,
            "wait_interval": 0
          },
          "output_extras": [
            {
              "item_id": 6
            }
          ],
          "base_uri": "https://localhost:8080/",
          "height": 118
        },
        "outputId": "f996273d-912a-497f-a631-747bb83de0d6",
        "executionInfo": {
          "status": "ok",
          "timestamp": 1519316563229,
          "user_tz": -330,
          "elapsed": 6470,
          "user": {
            "displayName": "Himanshu Rawlani",
            "photoUrl": "//lh4.googleusercontent.com/-25bwESRvc84/AAAAAAAAAAI/AAAAAAAAMDQ/XeEMbo9cdEI/s50-c-k-no/photo.jpg",
            "userId": "103244414105699526880"
          }
        }
      },
      "cell_type": "code",
      "source": [
        "!pip install opencv-contrib-python"
      ],
      "execution_count": 3,
      "outputs": [
        {
          "output_type": "stream",
          "text": [
            "Collecting opencv-contrib-python\n",
            "  Downloading opencv_contrib_python-3.4.0.12-cp36-cp36m-manylinux1_x86_64.whl (30.5MB)\n",
            "\u001b[K    100% |████████████████████████████████| 30.5MB 47kB/s \n",
            "\u001b[?25hRequirement already satisfied: numpy>=1.11.3 in /usr/local/lib/python3.6/dist-packages (from opencv-contrib-python)\n",
            "Installing collected packages: opencv-contrib-python\n",
            "Successfully installed opencv-contrib-python-3.4.0.12\n"
          ],
          "name": "stdout"
        }
      ]
    },
    {
      "metadata": {
        "id": "iICgA7hWrwzU",
        "colab_type": "code",
        "colab": {
          "autoexec": {
            "startup": false,
            "wait_interval": 0
          },
          "output_extras": [
            {
              "item_id": 16
            }
          ],
          "base_uri": "https://localhost:8080/",
          "height": 961
        },
        "outputId": "e391af04-ed4b-4d73-86ab-caf5300a052b",
        "executionInfo": {
          "status": "ok",
          "timestamp": 1519316583123,
          "user_tz": -330,
          "elapsed": 7755,
          "user": {
            "displayName": "Himanshu Rawlani",
            "photoUrl": "//lh4.googleusercontent.com/-25bwESRvc84/AAAAAAAAAAI/AAAAAAAAMDQ/XeEMbo9cdEI/s50-c-k-no/photo.jpg",
            "userId": "103244414105699526880"
          }
        }
      },
      "cell_type": "code",
      "source": [
        "!apt update && apt install -y libsm6 libxext6"
      ],
      "execution_count": 4,
      "outputs": [
        {
          "output_type": "stream",
          "text": [
            "Get:1 http://security.ubuntu.com/ubuntu artful-security InRelease [78.6 kB]\n",
            "Get:2 http://security.ubuntu.com/ubuntu artful-security/universe Sources [11.1 kB]\n",
            "Get:3 http://security.ubuntu.com/ubuntu artful-security/universe amd64 Packages [51.9 kB]\n",
            "Get:4 http://security.ubuntu.com/ubuntu artful-security/main amd64 Packages [169 kB]\n",
            "Hit:5 http://archive.ubuntu.com/ubuntu artful InRelease\n",
            "Get:6 http://archive.ubuntu.com/ubuntu artful-updates InRelease [78.6 kB]\n",
            "Get:7 http://archive.ubuntu.com/ubuntu artful-backports InRelease [72.2 kB]\n",
            "Get:8 http://archive.ubuntu.com/ubuntu artful-updates/universe Sources [26.9 kB]\n",
            "Get:9 http://archive.ubuntu.com/ubuntu artful-updates/universe amd64 Packages [104 kB]\n",
            "Get:10 http://archive.ubuntu.com/ubuntu artful-updates/main amd64 Packages [273 kB]\n",
            "Fetched 866 kB in 2s (365 kB/s)\n",
            "Reading package lists... Done\n",
            "Building dependency tree       \n",
            "Reading state information... Done\n",
            "35 packages can be upgraded. Run 'apt list --upgradable' to see them.\n",
            "Reading package lists... Done\n",
            "Building dependency tree       \n",
            "Reading state information... Done\n",
            "The following additional packages will be installed:\n",
            "  libice6 x11-common\n",
            "The following NEW packages will be installed:\n",
            "  libice6 libsm6 libxext6 x11-common\n",
            "0 upgraded, 4 newly installed, 0 to remove and 35 not upgraded.\n",
            "Need to get 108 kB of archives.\n",
            "After this operation, 626 kB of additional disk space will be used.\n",
            "Get:1 http://archive.ubuntu.com/ubuntu artful/main amd64 libxext6 amd64 2:1.3.3-1 [29.4 kB]\n",
            "Get:2 http://archive.ubuntu.com/ubuntu artful/main amd64 x11-common all 1:7.7+19ubuntu3 [22.0 kB]\n",
            "Get:3 http://archive.ubuntu.com/ubuntu artful/main amd64 libice6 amd64 2:1.0.9-2 [40.2 kB]\n",
            "Get:4 http://archive.ubuntu.com/ubuntu artful/main amd64 libsm6 amd64 2:1.2.2-1 [15.8 kB]\n",
            "Fetched 108 kB in 0s (120 kB/s)\n",
            "\n",
            "\u001b7\u001b[0;23r\u001b8\u001b[1ASelecting previously unselected package libxext6:amd64.\n",
            "(Reading database ... 16669 files and directories currently installed.)\n",
            "Preparing to unpack .../libxext6_2%3a1.3.3-1_amd64.deb ...\n",
            "\u001b7\u001b[24;0f\u001b[42m\u001b[30mProgress: [  0%]\u001b[49m\u001b[39m [..........................................................] \u001b8\u001b7\u001b[24;0f\u001b[42m\u001b[30mProgress: [  4%]\u001b[49m\u001b[39m [##........................................................] \u001b8Unpacking libxext6:amd64 (2:1.3.3-1) ...\n",
            "\u001b7\u001b[24;0f\u001b[42m\u001b[30mProgress: [  9%]\u001b[49m\u001b[39m [#####.....................................................] \u001b8\u001b7\u001b[24;0f\u001b[42m\u001b[30mProgress: [ 14%]\u001b[49m\u001b[39m [########..................................................] \u001b8Selecting previously unselected package x11-common.\n",
            "Preparing to unpack .../x11-common_1%3a7.7+19ubuntu3_all.deb ...\n",
            "\u001b7\u001b[24;0f\u001b[42m\u001b[30mProgress: [ 19%]\u001b[49m\u001b[39m [###########...............................................] \u001b8Unpacking x11-common (1:7.7+19ubuntu3) ...\n",
            "\u001b7\u001b[24;0f\u001b[42m\u001b[30mProgress: [ 23%]\u001b[49m\u001b[39m [#############.............................................] \u001b8\u001b7\u001b[24;0f\u001b[42m\u001b[30mProgress: [ 28%]\u001b[49m\u001b[39m [################..........................................] \u001b8Selecting previously unselected package libice6:amd64.\n",
            "Preparing to unpack .../libice6_2%3a1.0.9-2_amd64.deb ...\n",
            "\u001b7\u001b[24;0f\u001b[42m\u001b[30mProgress: [ 33%]\u001b[49m\u001b[39m [###################.......................................] \u001b8Unpacking libice6:amd64 (2:1.0.9-2) ...\n",
            "\u001b7\u001b[24;0f\u001b[42m\u001b[30mProgress: [ 38%]\u001b[49m\u001b[39m [######################....................................] \u001b8\u001b7\u001b[24;0f\u001b[42m\u001b[30mProgress: [ 42%]\u001b[49m\u001b[39m [########################..................................] \u001b8Selecting previously unselected package libsm6:amd64.\n",
            "Preparing to unpack .../libsm6_2%3a1.2.2-1_amd64.deb ...\n",
            "\u001b7\u001b[24;0f\u001b[42m\u001b[30mProgress: [ 47%]\u001b[49m\u001b[39m [###########################...............................] \u001b8Unpacking libsm6:amd64 (2:1.2.2-1) ...\n",
            "\u001b7\u001b[24;0f\u001b[42m\u001b[30mProgress: [ 52%]\u001b[49m\u001b[39m [##############################............................] \u001b8\u001b7\u001b[24;0f\u001b[42m\u001b[30mProgress: [ 57%]\u001b[49m\u001b[39m [#################################.........................] \u001b8Setting up libxext6:amd64 (2:1.3.3-1) ...\n",
            "\u001b7\u001b[24;0f\u001b[42m\u001b[30mProgress: [ 61%]\u001b[49m\u001b[39m [###################################.......................] \u001b8\u001b7\u001b[24;0f\u001b[42m\u001b[30mProgress: [ 66%]\u001b[49m\u001b[39m [######################################....................] \u001b8Processing triggers for libc-bin (2.26-0ubuntu2.1) ...\n",
            "Setting up x11-common (1:7.7+19ubuntu3) ...\n",
            "\u001b7\u001b[24;0f\u001b[42m\u001b[30mProgress: [ 71%]\u001b[49m\u001b[39m [#########################################.................] \u001b8update-rc.d: warning: start and stop actions are no longer supported; falling back to defaults\n",
            "invoke-rc.d: could not determine current runlevel\n",
            "invoke-rc.d: policy-rc.d denied execution of start.\n",
            "\u001b7\u001b[24;0f\u001b[42m\u001b[30mProgress: [ 76%]\u001b[49m\u001b[39m [############################################..............] \u001b8Setting up libice6:amd64 (2:1.0.9-2) ...\n",
            "\u001b7\u001b[24;0f\u001b[42m\u001b[30mProgress: [ 80%]\u001b[49m\u001b[39m [##############################################............] \u001b8\u001b7\u001b[24;0f\u001b[42m\u001b[30mProgress: [ 85%]\u001b[49m\u001b[39m [#################################################.........] \u001b8Setting up libsm6:amd64 (2:1.2.2-1) ...\n",
            "\u001b7\u001b[24;0f\u001b[42m\u001b[30mProgress: [ 90%]\u001b[49m\u001b[39m [####################################################......] \u001b8\u001b7\u001b[24;0f\u001b[42m\u001b[30mProgress: [ 95%]\u001b[49m\u001b[39m [#######################################################...] \u001b8Processing triggers for libc-bin (2.26-0ubuntu2.1) ...\n",
            "\n",
            "\u001b7\u001b[0;24r\u001b8\u001b[1A\u001b[J"
          ],
          "name": "stdout"
        }
      ]
    },
    {
      "metadata": {
        "id": "lHoAhMP9qcMX",
        "colab_type": "code",
        "colab": {
          "autoexec": {
            "startup": false,
            "wait_interval": 0
          },
          "output_extras": [
            {
              "item_id": 4
            }
          ],
          "base_uri": "https://localhost:8080/",
          "height": 101
        },
        "outputId": "217db979-d8c7-4172-8296-930d914af135",
        "executionInfo": {
          "status": "ok",
          "timestamp": 1519316592382,
          "user_tz": -330,
          "elapsed": 4176,
          "user": {
            "displayName": "Himanshu Rawlani",
            "photoUrl": "//lh4.googleusercontent.com/-25bwESRvc84/AAAAAAAAAAI/AAAAAAAAMDQ/XeEMbo9cdEI/s50-c-k-no/photo.jpg",
            "userId": "103244414105699526880"
          }
        }
      },
      "cell_type": "code",
      "source": [
        "!pip install Cython"
      ],
      "execution_count": 5,
      "outputs": [
        {
          "output_type": "stream",
          "text": [
            "Collecting Cython\n",
            "  Downloading Cython-0.27.3-cp36-cp36m-manylinux1_x86_64.whl (3.1MB)\n",
            "\u001b[K    100% |████████████████████████████████| 3.1MB 450kB/s \n",
            "\u001b[?25hInstalling collected packages: Cython\n",
            "Successfully installed Cython-0.27.3\n"
          ],
          "name": "stdout"
        }
      ]
    },
    {
      "metadata": {
        "id": "5DicSY-Xwz0r",
        "colab_type": "code",
        "colab": {
          "autoexec": {
            "startup": false,
            "wait_interval": 0
          },
          "output_extras": [
            {
              "item_id": 10
            }
          ],
          "base_uri": "https://localhost:8080/",
          "height": 118
        },
        "outputId": "83eea104-9d45-48b9-f34a-2910ab4949c5",
        "executionInfo": {
          "status": "ok",
          "timestamp": 1519316608027,
          "user_tz": -330,
          "elapsed": 7277,
          "user": {
            "displayName": "Himanshu Rawlani",
            "photoUrl": "//lh4.googleusercontent.com/-25bwESRvc84/AAAAAAAAAAI/AAAAAAAAMDQ/XeEMbo9cdEI/s50-c-k-no/photo.jpg",
            "userId": "103244414105699526880"
          }
        }
      },
      "cell_type": "code",
      "source": [
        "!git clone https://github.com/himanshurawlani/tiny-yolo-voc.git"
      ],
      "execution_count": 6,
      "outputs": [
        {
          "output_type": "stream",
          "text": [
            "Cloning into 'tiny-yolo-voc'...\n",
            "remote: Counting objects: 4205, done.\u001b[K\n",
            "remote: Compressing objects: 100% (1448/1448), done.\u001b[K\n",
            "remote: Total 4205 (delta 677), reused 1608 (delta 320), pack-reused 2231\u001b[K\n",
            "Receiving objects: 100% (4205/4205), 218.50 MiB | 56.76 MiB/s, done.\n",
            "Resolving deltas: 100% (1042/1042), done.\n"
          ],
          "name": "stdout"
        }
      ]
    },
    {
      "metadata": {
        "id": "6W8bykpaw4fO",
        "colab_type": "code",
        "colab": {
          "autoexec": {
            "startup": false,
            "wait_interval": 0
          },
          "output_extras": [
            {
              "item_id": 2
            }
          ],
          "base_uri": "https://localhost:8080/",
          "height": 235
        },
        "outputId": "aabc2a4c-0cdd-4a6e-a5ed-1dd1c7fa8f72",
        "executionInfo": {
          "status": "ok",
          "timestamp": 1519320306288,
          "user_tz": -330,
          "elapsed": 2991,
          "user": {
            "displayName": "Himanshu Rawlani",
            "photoUrl": "//lh4.googleusercontent.com/-25bwESRvc84/AAAAAAAAAAI/AAAAAAAAMDQ/XeEMbo9cdEI/s50-c-k-no/photo.jpg",
            "userId": "103244414105699526880"
          }
        }
      },
      "cell_type": "code",
      "source": [
        "!cd tiny-yolo-voc/ && git pull\n",
        "!ls -l tiny-yolo-voc/"
      ],
      "execution_count": 20,
      "outputs": [
        {
          "output_type": "stream",
          "text": [
            "Already up-to-date.\n",
            "total 1064\n",
            "drwxr-xr-x 2 root root   4096 Feb 22 17:24 bin\n",
            "drwxr-xr-x 9 root root   4096 Feb 22 16:27 darkflow\n",
            "-rw-r--r-- 1 root root   1472 Feb 22 17:24 extract_annotation_and_image_files.py\n",
            "-rw-r--r-- 1 root root 741401 Feb 22 16:23 imagenet_synset_to_human_label_map.txt\n",
            "-rw-r--r-- 1 root root 153114 Feb 22 16:23 n07753592_9454.jpg\n",
            "-rw-r--r-- 1 root root  31650 Feb 22 16:23 n07753592_956.jpg\n",
            "-rw-r--r-- 1 root root 124636 Feb 22 16:23 n07753592_9936.jpg\n",
            "-rw-r--r-- 1 root root     78 Feb 22 16:23 README.md\n",
            "-rw-r--r-- 1 root root    675 Feb 22 17:24 rename_xml_names.py\n",
            "drwxr-xr-x 2 root root   4096 Feb 22 16:23 tiny-yolo-voc\n",
            "drwxr-xr-x 3 root root   4096 Feb 22 16:23 VOCdevkit\n"
          ],
          "name": "stdout"
        }
      ]
    },
    {
      "metadata": {
        "id": "bjTAyWQBqJGh",
        "colab_type": "code",
        "colab": {
          "autoexec": {
            "startup": false,
            "wait_interval": 0
          },
          "output_extras": [
            {
              "item_id": 8
            }
          ],
          "base_uri": "https://localhost:8080/",
          "height": 84
        },
        "outputId": "b179f6b5-a9f5-4bf0-96fe-fd7ea304a511",
        "executionInfo": {
          "status": "ok",
          "timestamp": 1519316647771,
          "user_tz": -330,
          "elapsed": 19804,
          "user": {
            "displayName": "Himanshu Rawlani",
            "photoUrl": "//lh4.googleusercontent.com/-25bwESRvc84/AAAAAAAAAAI/AAAAAAAAMDQ/XeEMbo9cdEI/s50-c-k-no/photo.jpg",
            "userId": "103244414105699526880"
          }
        }
      },
      "cell_type": "code",
      "source": [
        "!pip install tiny-yolo-voc/darkflow/."
      ],
      "execution_count": 8,
      "outputs": [
        {
          "output_type": "stream",
          "text": [
            "Processing ./tiny-yolo-voc/darkflow\n",
            "Installing collected packages: darkflow\n",
            "  Running setup.py install for darkflow ... \u001b[?25l-\b \b\\\b \b|\b \b/\b \b-\b \bdone\n",
            "\u001b[?25hSuccessfully installed darkflow-1.0.0\n"
          ],
          "name": "stdout"
        }
      ]
    },
    {
      "metadata": {
        "id": "gg0EOwh0qPz2",
        "colab_type": "code",
        "colab": {
          "autoexec": {
            "startup": false,
            "wait_interval": 0
          },
          "output_extras": [
            {
              "item_id": 2
            }
          ],
          "base_uri": "https://localhost:8080/",
          "height": 659
        },
        "outputId": "9a5216c4-179a-456c-eb7f-f40cc54f7eab",
        "executionInfo": {
          "status": "ok",
          "timestamp": 1519320323888,
          "user_tz": -330,
          "elapsed": 4054,
          "user": {
            "displayName": "Himanshu Rawlani",
            "photoUrl": "//lh4.googleusercontent.com/-25bwESRvc84/AAAAAAAAAAI/AAAAAAAAMDQ/XeEMbo9cdEI/s50-c-k-no/photo.jpg",
            "userId": "103244414105699526880"
          }
        }
      },
      "cell_type": "code",
      "source": [
        "!flow --h"
      ],
      "execution_count": 21,
      "outputs": [
        {
          "output_type": "stream",
          "text": [
            "/usr/local/lib/python3.6/dist-packages/h5py/__init__.py:36: FutureWarning: Conversion of the second argument of issubdtype from `float` to `np.floating` is deprecated. In future, it will be treated as `np.float64 == np.dtype(float).type`.\r\n",
            "  from ._conv import register_converters as _register_converters\n",
            "\n",
            "Example usage: flow --imgdir sample_img/ --model cfg/yolo.cfg --load bin/yolo.weights\n",
            "\n",
            "Arguments:\n",
            "  --help, --h, -h  show this super helpful message and exit\n",
            "  --imgdir         path to testing directory with images\n",
            "  --binary         path to .weights directory\n",
            "  --config         path to .cfg directory\n",
            "  --dataset        path to dataset directory\n",
            "  --labels         path to labels file\n",
            "  --backup         path to backup folder\n",
            "  --summary        path to TensorBoard summaries directory\n",
            "  --annotation     path to annotation directory\n",
            "  --threshold      detection threshold\n",
            "  --model          configuration of choice\n",
            "  --trainer        training algorithm\n",
            "  --momentum       applicable for rmsprop and momentum optimizers\n",
            "  --verbalise      say out loud while building graph\n",
            "  --train          train the whole net\n",
            "  --load           how to initialize the net? Either from .weights or a checkpoint, or even from scratch\n",
            "  --savepb         save net and weight to a .pb file\n",
            "  --gpu            how much gpu (from 0.0 to 1.0)\n",
            "  --gpuName        GPU device name\n",
            "  --lr             learning rate\n",
            "  --keep           Number of most recent training results to save\n",
            "  --batch          batch size\n",
            "  --epoch          number of epoch\n",
            "  --save           save checkpoint every ? training examples\n",
            "  --demo           demo on webcam\n",
            "  --queue          process demo in batch\n",
            "  --json           Outputs bounding box information in json format.\n",
            "  --saveVideo      Records video from input video or camera\n",
            "  --pbLoad         path to .pb protobuf file (metaLoad must also be specified)\n",
            "  --metaLoad       path to .meta file generated during --savepb that corresponds to .pb file\n",
            "\n"
          ],
          "name": "stdout"
        }
      ]
    },
    {
      "metadata": {
        "id": "OVZ6K4Ab_vq2",
        "colab_type": "code",
        "colab": {
          "autoexec": {
            "startup": false,
            "wait_interval": 0
          },
          "output_extras": [
            {
              "item_id": 3
            }
          ],
          "base_uri": "https://localhost:8080/",
          "height": 185
        },
        "outputId": "611454d7-5f44-46dc-c8e9-e0a2d7b81716",
        "executionInfo": {
          "status": "ok",
          "timestamp": 1519320331696,
          "user_tz": -330,
          "elapsed": 2722,
          "user": {
            "displayName": "Himanshu Rawlani",
            "photoUrl": "//lh4.googleusercontent.com/-25bwESRvc84/AAAAAAAAAAI/AAAAAAAAMDQ/XeEMbo9cdEI/s50-c-k-no/photo.jpg",
            "userId": "103244414105699526880"
          }
        }
      },
      "cell_type": "code",
      "source": [
        "!apt-get install tree\n",
        "!tree -d tiny-yolo-voc/darkflow/train/"
      ],
      "execution_count": 22,
      "outputs": [
        {
          "output_type": "stream",
          "text": [
            "Reading package lists... Done\n",
            "Building dependency tree       \n",
            "Reading state information... Done\n",
            "tree is already the newest version (1.7.0-5).\n",
            "0 upgraded, 0 newly installed, 0 to remove and 35 not upgraded.\n",
            "tiny-yolo-voc/darkflow/train/\n",
            "├── Annotations\n",
            "└── Images\n",
            "\n",
            "2 directories\n"
          ],
          "name": "stdout"
        }
      ]
    },
    {
      "metadata": {
        "id": "5X6JeAX5xSS9",
        "colab_type": "code",
        "colab": {
          "autoexec": {
            "startup": false,
            "wait_interval": 0
          },
          "output_extras": [
            {
              "item_id": 1
            }
          ],
          "base_uri": "https://localhost:8080/",
          "height": 67
        },
        "outputId": "dc5ae255-dada-4634-f6b3-01bed3c3096a",
        "executionInfo": {
          "status": "ok",
          "timestamp": 1519320337044,
          "user_tz": -330,
          "elapsed": 1556,
          "user": {
            "displayName": "Himanshu Rawlani",
            "photoUrl": "//lh4.googleusercontent.com/-25bwESRvc84/AAAAAAAAAAI/AAAAAAAAMDQ/XeEMbo9cdEI/s50-c-k-no/photo.jpg",
            "userId": "103244414105699526880"
          }
        }
      },
      "cell_type": "code",
      "source": [
        "!ls -l"
      ],
      "execution_count": 23,
      "outputs": [
        {
          "output_type": "stream",
          "text": [
            "total 8\r\n",
            "drwxr-xr-x 1 root root 4096 Feb 22 13:53 datalab\r\n",
            "drwxr-xr-x 7 root root 4096 Feb 22 17:24 tiny-yolo-voc\r\n"
          ],
          "name": "stdout"
        }
      ]
    },
    {
      "metadata": {
        "id": "4JFfeCA6d9x4",
        "colab_type": "code",
        "colab": {
          "autoexec": {
            "startup": false,
            "wait_interval": 0
          },
          "output_extras": [
            {
              "item_id": 2
            }
          ],
          "base_uri": "https://localhost:8080/",
          "height": 454
        },
        "outputId": "00ab4ad2-565a-4908-e7c0-7ed261197485",
        "executionInfo": {
          "status": "ok",
          "timestamp": 1519320340854,
          "user_tz": -330,
          "elapsed": 1922,
          "user": {
            "displayName": "Himanshu Rawlani",
            "photoUrl": "//lh4.googleusercontent.com/-25bwESRvc84/AAAAAAAAAAI/AAAAAAAAMDQ/XeEMbo9cdEI/s50-c-k-no/photo.jpg",
            "userId": "103244414105699526880"
          }
        }
      },
      "cell_type": "code",
      "source": [
        "!cd tiny-yolo-voc/darkflow/ && cat labels.txt\n",
        "!cd tiny-yolo-voc/darkflow/train/Annotations/ && cat n07753592_10127.xml"
      ],
      "execution_count": 24,
      "outputs": [
        {
          "output_type": "stream",
          "text": [
            "banana\n",
            "<annotation>\n",
            "\t<folder>n07753592</folder>\n",
            "\t<filename>n07753592_10127.jpg</filename>\n",
            "\t<source>\n",
            "\t\t<database>ImageNet database</database>\n",
            "\t</source>\n",
            "\t<size>\n",
            "\t\t<width>320</width>\n",
            "\t\t<height>500</height>\n",
            "\t\t<depth>3</depth>\n",
            "\t</size>\n",
            "\t<segmented>0</segmented>\n",
            "\t<object>\n",
            "\t\t<name>banana</name>\n",
            "\t\t<pose>Unspecified</pose>\n",
            "\t\t<truncated>0</truncated>\n",
            "\t\t<difficult>0</difficult>\n",
            "\t\t<bndbox>\n",
            "\t\t\t<xmin>22</xmin>\n",
            "\t\t\t<ymin>50</ymin>\n",
            "\t\t\t<xmax>306</xmax>\n",
            "\t\t\t<ymax>498</ymax>\n",
            "\t\t</bndbox>\n",
            "\t</object>\n",
            "</annotation>"
          ],
          "name": "stdout"
        }
      ]
    },
    {
      "metadata": {
        "id": "CR5s33wUBtRp",
        "colab_type": "code",
        "colab": {
          "autoexec": {
            "startup": false,
            "wait_interval": 0
          },
          "output_extras": [
            {
              "item_id": 26
            },
            {
              "item_id": 78
            },
            {
              "item_id": 120
            }
          ],
          "base_uri": "https://localhost:8080/",
          "height": 3044
        },
        "outputId": "f9166d56-4f62-4442-832a-c61a283bae79",
        "executionInfo": {
          "status": "ok",
          "timestamp": 1519320440966,
          "user_tz": -330,
          "elapsed": 89143,
          "user": {
            "displayName": "Himanshu Rawlani",
            "photoUrl": "//lh4.googleusercontent.com/-25bwESRvc84/AAAAAAAAAAI/AAAAAAAAMDQ/XeEMbo9cdEI/s50-c-k-no/photo.jpg",
            "userId": "103244414105699526880"
          }
        }
      },
      "cell_type": "code",
      "source": [
        "!cd tiny-yolo-voc/darkflow/ && flow --model cfg/tiny-yolo-voc-3c.cfg --load bin/tiny-yolo-voc.weights --train --annotation \"train/Annotations/\" --dataset \"train/Images/\" --epoch 5 --gpu 1.0"
      ],
      "execution_count": 25,
      "outputs": [
        {
          "output_type": "stream",
          "text": [
            "/usr/local/lib/python3.6/dist-packages/h5py/__init__.py:36: FutureWarning: Conversion of the second argument of issubdtype from `float` to `np.floating` is deprecated. In future, it will be treated as `np.float64 == np.dtype(float).type`.\r\n",
            "  from ._conv import register_converters as _register_converters\n",
            "\n",
            "Parsing ./cfg/tiny-yolo-voc.cfg\n",
            "Parsing cfg/tiny-yolo-voc-3c.cfg\n",
            "Loading bin/tiny-yolo-voc.weights ...\n",
            "Successfully identified 63471556 bytes\n",
            "Finished in 0.0051457881927490234s\n",
            "\n",
            "Building net ...\n",
            "Source | Train? | Layer description                | Output size\n",
            "-------+--------+----------------------------------+---------------\n",
            "       |        | input                            | (?, 416, 416, 3)\n",
            " Load  |  Yep!  | conv 3x3p1_1  +bnorm  leaky      | (?, 416, 416, 16)\n",
            " Load  |  Yep!  | maxp 2x2p0_2                     | (?, 208, 208, 16)\n",
            " Load  |  Yep!  | conv 3x3p1_1  +bnorm  leaky      | (?, 208, 208, 32)\n",
            " Load  |  Yep!  | maxp 2x2p0_2                     | (?, 104, 104, 32)\n",
            " Load  |  Yep!  | conv 3x3p1_1  +bnorm  leaky      | (?, 104, 104, 64)\n",
            " Load  |  Yep!  | maxp 2x2p0_2                     | (?, 52, 52, 64)\n",
            " Load  |  Yep!  | conv 3x3p1_1  +bnorm  leaky      | (?, 52, 52, 128)\n",
            " Load  |  Yep!  | maxp 2x2p0_2                     | (?, 26, 26, 128)\n",
            " Load  |  Yep!  | conv 3x3p1_1  +bnorm  leaky      | (?, 26, 26, 256)\n",
            " Load  |  Yep!  | maxp 2x2p0_2                     | (?, 13, 13, 256)\n",
            " Load  |  Yep!  | conv 3x3p1_1  +bnorm  leaky      | (?, 13, 13, 512)\n",
            " Load  |  Yep!  | maxp 2x2p0_1                     | (?, 13, 13, 512)\n",
            " Load  |  Yep!  | conv 3x3p1_1  +bnorm  leaky      | (?, 13, 13, 1024)\n",
            " Load  |  Yep!  | conv 3x3p1_1  +bnorm  leaky      | (?, 13, 13, 1024)\n",
            " Init  |  Yep!  | conv 1x1p0_1    linear           | (?, 13, 13, 30)\n",
            "-------+--------+----------------------------------+---------------\n",
            "GPU mode with 1.0 usage\n",
            "cfg/tiny-yolo-voc-3c.cfg loss hyper-parameters:\n",
            "\tH       = 13\n",
            "\tW       = 13\n",
            "\tbox     = 5\n",
            "\tclasses = 1\n",
            "\tscales  = [1.0, 5.0, 1.0, 1.0]\n",
            "Building cfg/tiny-yolo-voc-3c.cfg loss\n",
            "Building cfg/tiny-yolo-voc-3c.cfg train op\n",
            "2018-02-22 17:25:57.664453: I tensorflow/stream_executor/cuda/cuda_gpu_executor.cc:898] successful NUMA node read from SysFS had negative value (-1), but there must be at least one NUMA node, so returning NUMA node zero\n",
            "2018-02-22 17:25:57.665064: I tensorflow/core/common_runtime/gpu/gpu_device.cc:1208] Found device 0 with properties: \n",
            "name: Tesla K80 major: 3 minor: 7 memoryClockRate(GHz): 0.8235\n",
            "pciBusID: 0000:00:04.0\n",
            "totalMemory: 11.17GiB freeMemory: 11.11GiB\n",
            "2018-02-22 17:25:57.665118: I tensorflow/core/common_runtime/gpu/gpu_device.cc:1308] Adding visible gpu devices: 0\n",
            "2018-02-22 17:25:57.887401: I tensorflow/core/common_runtime/gpu/gpu_device.cc:989] Creating TensorFlow device (/job:localhost/replica:0/task:0/device:GPU:0 with 11439 MB memory) -> physical GPU (device: 0, name: Tesla K80, pci bus id: 0000:00:04.0, compute capability: 3.7)\n",
            "2018-02-22 17:25:57.905981: E tensorflow/stream_executor/cuda/cuda_driver.cc:936] failed to allocate 11.17G (11995578368 bytes) from device: CUDA_ERROR_OUT_OF_MEMORY\n",
            "Finished in 4.730499267578125s\n",
            "\n",
            "Enter training ...\n",
            "\n",
            "cfg/tiny-yolo-voc-3c.cfg parsing train/Annotations/\n",
            "Parsing for ['banana'] \n",
            "[====================>]100%  n07753592_11488.xml\n",
            "Statistics:\n",
            "banana: 641\n",
            "Dataset size: 364\n",
            "Dataset of 364 instance(s)\n",
            "Training statistics: \n",
            "\tLearning rate : 1e-05\n",
            "\tBatch size    : 16\n",
            "\tEpoch number  : 5\n",
            "\tBackup every  : 2000\n",
            "step 1 - loss 116.57571411132812 - moving ave loss 116.57571411132812\n",
            "step 2 - loss 115.23959350585938 - moving ave loss 116.44210205078126\n",
            "step 3 - loss 114.19906616210938 - moving ave loss 116.21779846191407\n",
            "step 4 - loss 113.78287506103516 - moving ave loss 115.97430612182619\n",
            "step 5 - loss 112.8568115234375 - moving ave loss 115.66255666198732\n",
            "step 6 - loss 112.34953308105469 - moving ave loss 115.33125430389407\n",
            "step 7 - loss 111.77171325683594 - moving ave loss 114.97530019918827\n",
            "step 8 - loss 111.39602661132812 - moving ave loss 114.61737284040225\n",
            "step 9 - loss 110.81695556640625 - moving ave loss 114.23733111300265\n",
            "step 10 - loss 110.11652374267578 - moving ave loss 113.82525037596997\n",
            "step 11 - loss 110.11784362792969 - moving ave loss 113.45450970116595\n",
            "step 12 - loss 109.52662658691406 - moving ave loss 113.06172138974077\n",
            "step 13 - loss 108.93843078613281 - moving ave loss 112.64939232937998\n",
            "step 14 - loss 108.48328399658203 - moving ave loss 112.23278149610019\n",
            "step 15 - loss 107.89582824707031 - moving ave loss 111.79908617119722\n",
            "step 16 - loss 107.38018798828125 - moving ave loss 111.35719635290562\n"
          ],
          "name": "stdout"
        },
        {
          "output_type": "stream",
          "text": [
            "step 17 - loss 107.03782653808594 - moving ave loss 110.92525937142366\n",
            "step 18 - loss 106.45970153808594 - moving ave loss 110.47870358808989\n",
            "step 19 - loss 106.21403503417969 - moving ave loss 110.05223673269886\n",
            "step 20 - loss 105.98374938964844 - moving ave loss 109.64538799839383\n",
            "step 21 - loss 105.25688171386719 - moving ave loss 109.20653736994117\n",
            "step 22 - loss 104.92642974853516 - moving ave loss 108.77852660780059\n",
            "Finish 1 epoch(es)\n",
            "step 23 - loss 104.61528015136719 - moving ave loss 108.36220196215726\n",
            "step 24 - loss 103.98737335205078 - moving ave loss 107.92471910114662\n",
            "step 25 - loss 103.94801330566406 - moving ave loss 107.52704852159837\n",
            "step 26 - loss 103.32493591308594 - moving ave loss 107.10683726074713\n",
            "step 27 - loss 103.49246215820312 - moving ave loss 106.74539975049274\n",
            "step 28 - loss 103.01935577392578 - moving ave loss 106.37279535283605\n",
            "step 29 - loss 102.52174377441406 - moving ave loss 105.98769019499386\n",
            "step 30 - loss 101.91073608398438 - moving ave loss 105.57999478389291\n",
            "step 31 - loss 101.84988403320312 - moving ave loss 105.20698370882394\n",
            "step 32 - loss 101.01065063476562 - moving ave loss 104.78735040141812\n",
            "step 33 - loss 100.93528747558594 - moving ave loss 104.4021441088349\n",
            "step 34 - loss 100.26908874511719 - moving ave loss 103.98883857246314\n",
            "step 35 - loss 100.2571029663086 - moving ave loss 103.61566501184768\n",
            "step 36 - loss 99.75497436523438 - moving ave loss 103.22959594718635\n",
            "step 37 - loss 99.04125213623047 - moving ave loss 102.81076156609076\n",
            "step 38 - loss 98.56273651123047 - moving ave loss 102.38595906060473\n",
            "step 39 - loss 98.3630142211914 - moving ave loss 101.98366457666341\n",
            "step 40 - loss 98.16999816894531 - moving ave loss 101.60229793589161\n",
            "step 41 - loss 97.78201293945312 - moving ave loss 101.22026943624778\n",
            "step 42 - loss 97.15474700927734 - moving ave loss 100.81371719355073\n",
            "step 43 - loss 96.82318115234375 - moving ave loss 100.41466358943003\n",
            "step 44 - loss 96.395751953125 - moving ave loss 100.01277242579954\n",
            "Finish 2 epoch(es)\n",
            "step 45 - loss 96.42695617675781 - moving ave loss 99.65419080089538\n",
            "step 46 - loss 95.63775634765625 - moving ave loss 99.25254735557147\n",
            "step 47 - loss 95.44481658935547 - moving ave loss 98.87177427894987\n",
            "step 48 - loss 95.45419311523438 - moving ave loss 98.53001616257832\n",
            "step 49 - loss 94.65752410888672 - moving ave loss 98.14276695720916\n",
            "step 50 - loss 94.33010864257812 - moving ave loss 97.76150112574605\n",
            "step 51 - loss 94.26383972167969 - moving ave loss 97.41173498533942\n",
            "step 52 - loss 93.45809936523438 - moving ave loss 97.01637142332892\n",
            "step 53 - loss 93.41629028320312 - moving ave loss 96.65636330931635\n",
            "step 54 - loss 93.23284912109375 - moving ave loss 96.31401189049409\n",
            "step 55 - loss 92.43145751953125 - moving ave loss 95.9257564533978\n",
            "step 56 - loss 92.37593078613281 - moving ave loss 95.5707738866713\n",
            "step 57 - loss 91.8502197265625 - moving ave loss 95.19871847066042\n",
            "step 58 - loss 91.22843933105469 - moving ave loss 94.80169055669985\n",
            "step 59 - loss 91.01339721679688 - moving ave loss 94.42286122270956\n",
            "step 60 - loss 90.79718017578125 - moving ave loss 94.06029311801673\n",
            "step 61 - loss 90.5092544555664 - moving ave loss 93.7051892517717\n",
            "step 62 - loss 89.98284912109375 - moving ave loss 93.3329552387039\n",
            "step 63 - loss 89.61515045166016 - moving ave loss 92.96117475999952\n",
            "step 64 - loss 89.33595275878906 - moving ave loss 92.59865255987847\n",
            "step 65 - loss 88.96405029296875 - moving ave loss 92.2351923331875\n",
            "step 66 - loss 88.57853698730469 - moving ave loss 91.86952679859921\n",
            "Finish 3 epoch(es)\n",
            "step 67 - loss 88.2462158203125 - moving ave loss 91.50719570077055\n",
            "step 68 - loss 87.9033432006836 - moving ave loss 91.14681045076185\n"
          ],
          "name": "stdout"
        },
        {
          "output_type": "stream",
          "text": [
            "step 69 - loss 87.55722045898438 - moving ave loss 90.7878514515841\n",
            "step 70 - loss 87.23005676269531 - moving ave loss 90.43207198269523\n",
            "step 71 - loss 86.65200805664062 - moving ave loss 90.05406559008976\n",
            "step 72 - loss 86.45995330810547 - moving ave loss 89.69465436189134\n",
            "step 73 - loss 86.05602264404297 - moving ave loss 89.33079119010651\n",
            "step 74 - loss 85.718994140625 - moving ave loss 88.96961148515837\n",
            "step 75 - loss 85.05736541748047 - moving ave loss 88.57838687839059\n",
            "step 76 - loss 84.97674560546875 - moving ave loss 88.2182227510984\n",
            "step 77 - loss 84.49217224121094 - moving ave loss 87.84561770010966\n",
            "step 78 - loss 84.48399353027344 - moving ave loss 87.50945528312603\n",
            "step 79 - loss 84.03646850585938 - moving ave loss 87.16215660539937\n",
            "step 80 - loss 83.31968688964844 - moving ave loss 86.7779096338243\n",
            "step 81 - loss 83.19397735595703 - moving ave loss 86.41951640603757\n",
            "step 82 - loss 83.21232604980469 - moving ave loss 86.09879737041429\n",
            "step 83 - loss 82.23009490966797 - moving ave loss 85.71192712433967\n",
            "step 84 - loss 82.34688568115234 - moving ave loss 85.37542298002093\n",
            "step 85 - loss 82.00878143310547 - moving ave loss 85.03875882532938\n",
            "step 86 - loss 81.44796752929688 - moving ave loss 84.67967969572614\n",
            "step 87 - loss 80.69951629638672 - moving ave loss 84.28166335579219\n",
            "step 88 - loss 80.41970825195312 - moving ave loss 83.89546784540828\n",
            "Finish 4 epoch(es)\n",
            "step 89 - loss 80.51872253417969 - moving ave loss 83.55779331428542\n",
            "step 90 - loss 80.08973693847656 - moving ave loss 83.21098767670453\n",
            "step 91 - loss 79.3603515625 - moving ave loss 82.82592406528408\n",
            "step 92 - loss 79.45093536376953 - moving ave loss 82.48842519513263\n",
            "step 93 - loss 78.81575012207031 - moving ave loss 82.12115768782641\n",
            "step 94 - loss 78.62722778320312 - moving ave loss 81.77176469736409\n",
            "step 95 - loss 78.19879913330078 - moving ave loss 81.41446814095777\n",
            "step 96 - loss 77.443603515625 - moving ave loss 81.0173816784245\n",
            "step 97 - loss 77.37312316894531 - moving ave loss 80.65295582747659\n",
            "step 98 - loss 77.06768035888672 - moving ave loss 80.29442828061761\n",
            "step 99 - loss 76.53144836425781 - moving ave loss 79.91813028898163\n",
            "step 100 - loss 76.76591491699219 - moving ave loss 79.60290875178268\n",
            "step 101 - loss 76.04182434082031 - moving ave loss 79.24680031068645\n",
            "step 102 - loss 75.85348510742188 - moving ave loss 78.90746879036\n",
            "step 103 - loss 75.41942596435547 - moving ave loss 78.55866450775954\n",
            "step 104 - loss 74.79420471191406 - moving ave loss 78.182218528175\n",
            "step 105 - loss 74.37141418457031 - moving ave loss 77.80113809381453\n",
            "step 106 - loss 74.0101318359375 - moving ave loss 77.42203746802683\n",
            "step 107 - loss 73.99833679199219 - moving ave loss 77.07966740042336\n",
            "step 108 - loss 73.96455383300781 - moving ave loss 76.7681560436818\n",
            "step 109 - loss 73.18118286132812 - moving ave loss 76.40945872544644\n",
            "step 110 - loss 72.660888671875 - moving ave loss 76.0346017200893\n",
            "Finish 5 epoch(es)\n",
            "Checkpoint at step 110\n",
            "Training finished, exit.\n"
          ],
          "name": "stdout"
        }
      ]
    },
    {
      "metadata": {
        "id": "CVkNk_WJMrG1",
        "colab_type": "code",
        "colab": {
          "autoexec": {
            "startup": false,
            "wait_interval": 0
          },
          "output_extras": [
            {
              "item_id": 1
            }
          ],
          "base_uri": "https://localhost:8080/",
          "height": 403
        },
        "outputId": "d94040b7-5fc9-428e-8cf0-86c08b08717d",
        "executionInfo": {
          "status": "ok",
          "timestamp": 1519321699777,
          "user_tz": -330,
          "elapsed": 1432,
          "user": {
            "displayName": "Himanshu Rawlani",
            "photoUrl": "//lh4.googleusercontent.com/-25bwESRvc84/AAAAAAAAAAI/AAAAAAAAMDQ/XeEMbo9cdEI/s50-c-k-no/photo.jpg",
            "userId": "103244414105699526880"
          }
        }
      },
      "cell_type": "code",
      "source": [
        "!cd tiny-yolo-voc/ && git status"
      ],
      "execution_count": 38,
      "outputs": [
        {
          "output_type": "stream",
          "text": [
            "On branch master\r\n",
            "Your branch is up-to-date with 'origin/master'.\r\n",
            "\r\n",
            "Changes to be committed:\r\n",
            "  (use \"git reset HEAD <file>...\" to unstage)\r\n",
            "\r\n",
            "\t\u001b[32mnew file:   darkflow/ckpt/checkpoint\u001b[m\r\n",
            "\t\u001b[32mnew file:   darkflow/ckpt/tiny-yolo-voc-3c-110.data-00000-of-00001\u001b[m\r\n",
            "\t\u001b[32mnew file:   darkflow/ckpt/tiny-yolo-voc-3c-110.index\u001b[m\r\n",
            "\t\u001b[32mnew file:   darkflow/ckpt/tiny-yolo-voc-3c-110.meta\u001b[m\r\n",
            "\t\u001b[32mnew file:   darkflow/ckpt/tiny-yolo-voc-3c-110.profile\u001b[m\r\n",
            "\t\u001b[32mnew file:   darkflow/sample_img/out/sample_computer.json\u001b[m\r\n",
            "\t\u001b[32mnew file:   darkflow/sample_img/out/sample_dog.json\u001b[m\r\n",
            "\t\u001b[32mnew file:   darkflow/sample_img/out/sample_eagle.json\u001b[m\r\n",
            "\t\u001b[32mnew file:   darkflow/sample_img/out/sample_giraffe.json\u001b[m\r\n",
            "\t\u001b[32mnew file:   darkflow/sample_img/out/sample_horses.json\u001b[m\r\n",
            "\t\u001b[32mnew file:   darkflow/sample_img/out/sample_office.json\u001b[m\r\n",
            "\t\u001b[32mnew file:   darkflow/sample_img/out/sample_person.json\u001b[m\r\n",
            "\t\u001b[32mnew file:   darkflow/sample_img/out/sample_scream.json\u001b[m\r\n",
            "\t\u001b[32mrenamed:    n07753592_9454.jpg -> sample_img/n07753592_9454.jpg\u001b[m\r\n",
            "\t\u001b[32mrenamed:    n07753592_956.jpg -> sample_img/n07753592_956.jpg\u001b[m\r\n",
            "\t\u001b[32mrenamed:    n07753592_9936.jpg -> sample_img/n07753592_9936.jpg\u001b[m\r\n",
            "\r\n"
          ],
          "name": "stdout"
        }
      ]
    },
    {
      "metadata": {
        "id": "-6qYN-5YMx7h",
        "colab_type": "code",
        "colab": {
          "autoexec": {
            "startup": false,
            "wait_interval": 0
          },
          "output_extras": [
            {
              "item_id": 9
            }
          ],
          "base_uri": "https://localhost:8080/",
          "height": 743
        },
        "outputId": "5e8d1bea-0c8c-45aa-dddd-ca8f2ef0822f",
        "executionInfo": {
          "status": "ok",
          "timestamp": 1519321015631,
          "user_tz": -330,
          "elapsed": 9020,
          "user": {
            "displayName": "Himanshu Rawlani",
            "photoUrl": "//lh4.googleusercontent.com/-25bwESRvc84/AAAAAAAAAAI/AAAAAAAAMDQ/XeEMbo9cdEI/s50-c-k-no/photo.jpg",
            "userId": "103244414105699526880"
          }
        }
      },
      "cell_type": "code",
      "source": [
        "!cd tiny-yolo-voc/darkflow/ && flow --imgdir sample_img/ --model cfg/tiny-yolo-voc-3c.cfg --load bin/tiny-yolo-voc.weights --json"
      ],
      "execution_count": 30,
      "outputs": [
        {
          "output_type": "stream",
          "text": [
            "/usr/local/lib/python3.6/dist-packages/h5py/__init__.py:36: FutureWarning: Conversion of the second argument of issubdtype from `float` to `np.floating` is deprecated. In future, it will be treated as `np.float64 == np.dtype(float).type`.\r\n",
            "  from ._conv import register_converters as _register_converters\n",
            "\n",
            "Parsing ./cfg/tiny-yolo-voc.cfg\n",
            "Parsing cfg/tiny-yolo-voc-3c.cfg\n",
            "Loading bin/tiny-yolo-voc.weights ...\n",
            "Successfully identified 63471556 bytes\n",
            "Finished in 0.005544424057006836s\n",
            "\n",
            "Building net ...\n",
            "Source | Train? | Layer description                | Output size\n",
            "-------+--------+----------------------------------+---------------\n",
            "       |        | input                            | (?, 416, 416, 3)\n",
            " Load  |  Yep!  | conv 3x3p1_1  +bnorm  leaky      | (?, 416, 416, 16)\n",
            " Load  |  Yep!  | maxp 2x2p0_2                     | (?, 208, 208, 16)\n",
            " Load  |  Yep!  | conv 3x3p1_1  +bnorm  leaky      | (?, 208, 208, 32)\n",
            " Load  |  Yep!  | maxp 2x2p0_2                     | (?, 104, 104, 32)\n",
            " Load  |  Yep!  | conv 3x3p1_1  +bnorm  leaky      | (?, 104, 104, 64)\n",
            " Load  |  Yep!  | maxp 2x2p0_2                     | (?, 52, 52, 64)\n",
            " Load  |  Yep!  | conv 3x3p1_1  +bnorm  leaky      | (?, 52, 52, 128)\n",
            " Load  |  Yep!  | maxp 2x2p0_2                     | (?, 26, 26, 128)\n",
            " Load  |  Yep!  | conv 3x3p1_1  +bnorm  leaky      | (?, 26, 26, 256)\n",
            " Load  |  Yep!  | maxp 2x2p0_2                     | (?, 13, 13, 256)\n",
            " Load  |  Yep!  | conv 3x3p1_1  +bnorm  leaky      | (?, 13, 13, 512)\n",
            " Load  |  Yep!  | maxp 2x2p0_1                     | (?, 13, 13, 512)\n",
            " Load  |  Yep!  | conv 3x3p1_1  +bnorm  leaky      | (?, 13, 13, 1024)\n",
            " Load  |  Yep!  | conv 3x3p1_1  +bnorm  leaky      | (?, 13, 13, 1024)\n",
            " Init  |  Yep!  | conv 1x1p0_1    linear           | (?, 13, 13, 30)\n",
            "-------+--------+----------------------------------+---------------\n",
            "Running entirely on CPU\n",
            "2018-02-22 17:36:51.231676: I tensorflow/stream_executor/cuda/cuda_gpu_executor.cc:898] successful NUMA node read from SysFS had negative value (-1), but there must be at least one NUMA node, so returning NUMA node zero\n",
            "2018-02-22 17:36:51.232268: I tensorflow/core/common_runtime/gpu/gpu_device.cc:1208] Found device 0 with properties: \n",
            "name: Tesla K80 major: 3 minor: 7 memoryClockRate(GHz): 0.8235\n",
            "pciBusID: 0000:00:04.0\n",
            "totalMemory: 11.17GiB freeMemory: 11.11GiB\n",
            "2018-02-22 17:36:51.232325: I tensorflow/core/common_runtime/gpu/gpu_device.cc:1308] Adding visible gpu devices: 0\n",
            "Finished in 2.4189720153808594s\n",
            "\n",
            "Forwarding 8 inputs ...\n",
            "Total time = 2.9046788215637207s / 8 inps = 2.754177136766273 ips\n",
            "Post processing 8 inputs ...\n",
            "Total time = 0.20935988426208496s / 8 inps = 38.211713902102105 ips\n"
          ],
          "name": "stdout"
        }
      ]
    },
    {
      "metadata": {
        "id": "m0KTFjTpmDPE",
        "colab_type": "code",
        "colab": {
          "autoexec": {
            "startup": false,
            "wait_interval": 0
          },
          "output_extras": [
            {
              "item_id": 1
            }
          ],
          "base_uri": "https://localhost:8080/",
          "height": 403
        },
        "outputId": "55079d3f-5727-44a9-bcc7-4adb29f967b3",
        "executionInfo": {
          "status": "ok",
          "timestamp": 1519321812025,
          "user_tz": -330,
          "elapsed": 1228,
          "user": {
            "displayName": "Himanshu Rawlani",
            "photoUrl": "//lh4.googleusercontent.com/-25bwESRvc84/AAAAAAAAAAI/AAAAAAAAMDQ/XeEMbo9cdEI/s50-c-k-no/photo.jpg",
            "userId": "103244414105699526880"
          }
        }
      },
      "cell_type": "code",
      "source": [
        "!cd tiny-yolo-voc/ && git status"
      ],
      "execution_count": 39,
      "outputs": [
        {
          "output_type": "stream",
          "text": [
            "On branch master\r\n",
            "Your branch is up-to-date with 'origin/master'.\r\n",
            "\r\n",
            "Changes to be committed:\r\n",
            "  (use \"git reset HEAD <file>...\" to unstage)\r\n",
            "\r\n",
            "\t\u001b[32mnew file:   darkflow/ckpt/checkpoint\u001b[m\r\n",
            "\t\u001b[32mnew file:   darkflow/ckpt/tiny-yolo-voc-3c-110.data-00000-of-00001\u001b[m\r\n",
            "\t\u001b[32mnew file:   darkflow/ckpt/tiny-yolo-voc-3c-110.index\u001b[m\r\n",
            "\t\u001b[32mnew file:   darkflow/ckpt/tiny-yolo-voc-3c-110.meta\u001b[m\r\n",
            "\t\u001b[32mnew file:   darkflow/ckpt/tiny-yolo-voc-3c-110.profile\u001b[m\r\n",
            "\t\u001b[32mnew file:   darkflow/sample_img/out/sample_computer.json\u001b[m\r\n",
            "\t\u001b[32mnew file:   darkflow/sample_img/out/sample_dog.json\u001b[m\r\n",
            "\t\u001b[32mnew file:   darkflow/sample_img/out/sample_eagle.json\u001b[m\r\n",
            "\t\u001b[32mnew file:   darkflow/sample_img/out/sample_giraffe.json\u001b[m\r\n",
            "\t\u001b[32mnew file:   darkflow/sample_img/out/sample_horses.json\u001b[m\r\n",
            "\t\u001b[32mnew file:   darkflow/sample_img/out/sample_office.json\u001b[m\r\n",
            "\t\u001b[32mnew file:   darkflow/sample_img/out/sample_person.json\u001b[m\r\n",
            "\t\u001b[32mnew file:   darkflow/sample_img/out/sample_scream.json\u001b[m\r\n",
            "\t\u001b[32mrenamed:    n07753592_9454.jpg -> sample_img/n07753592_9454.jpg\u001b[m\r\n",
            "\t\u001b[32mrenamed:    n07753592_956.jpg -> sample_img/n07753592_956.jpg\u001b[m\r\n",
            "\t\u001b[32mrenamed:    n07753592_9936.jpg -> sample_img/n07753592_9936.jpg\u001b[m\r\n",
            "\r\n"
          ],
          "name": "stdout"
        }
      ]
    },
    {
      "metadata": {
        "id": "mqkPl3YFoosr",
        "colab_type": "code",
        "colab": {
          "autoexec": {
            "startup": false,
            "wait_interval": 0
          },
          "output_extras": [
            {
              "item_id": 1
            }
          ],
          "base_uri": "https://localhost:8080/",
          "height": 531
        },
        "outputId": "fb136e10-8f2f-4e86-e2a5-f6f798def1e8",
        "executionInfo": {
          "status": "error",
          "timestamp": 1519321832895,
          "user_tz": -330,
          "elapsed": 3648,
          "user": {
            "displayName": "Himanshu Rawlani",
            "photoUrl": "//lh4.googleusercontent.com/-25bwESRvc84/AAAAAAAAAAI/AAAAAAAAMDQ/XeEMbo9cdEI/s50-c-k-no/photo.jpg",
            "userId": "103244414105699526880"
          }
        }
      },
      "cell_type": "code",
      "source": [
        "from google.colab import files\n",
        "\n",
        "files.download('tiny-yolo-voc/darkflow/ckpt/checkpointm')"
      ],
      "execution_count": 40,
      "outputs": [
        {
          "output_type": "error",
          "ename": "MessageError",
          "evalue": "ignored",
          "traceback": [
            "\u001b[0;31m---------------------------------------------------------------------------\u001b[0m",
            "\u001b[0;31mMessageError\u001b[0m                              Traceback (most recent call last)",
            "\u001b[0;32m<ipython-input-40-fb49ecc45098>\u001b[0m in \u001b[0;36m<module>\u001b[0;34m()\u001b[0m\n\u001b[1;32m      1\u001b[0m \u001b[0;32mfrom\u001b[0m \u001b[0mgoogle\u001b[0m\u001b[0;34m.\u001b[0m\u001b[0mcolab\u001b[0m \u001b[0;32mimport\u001b[0m \u001b[0mfiles\u001b[0m\u001b[0;34m\u001b[0m\u001b[0m\n\u001b[1;32m      2\u001b[0m \u001b[0;34m\u001b[0m\u001b[0m\n\u001b[0;32m----> 3\u001b[0;31m \u001b[0mfiles\u001b[0m\u001b[0;34m.\u001b[0m\u001b[0mdownload\u001b[0m\u001b[0;34m(\u001b[0m\u001b[0;34m'tiny-yolo-voc/darkflow/ckpt/checkpointm'\u001b[0m\u001b[0;34m)\u001b[0m\u001b[0;34m\u001b[0m\u001b[0m\n\u001b[0m",
            "\u001b[0;32m/usr/local/lib/python3.6/dist-packages/google/colab/files.py\u001b[0m in \u001b[0;36mdownload\u001b[0;34m(filename)\u001b[0m\n\u001b[1;32m    135\u001b[0m       \u001b[0;34m'port'\u001b[0m\u001b[0;34m:\u001b[0m \u001b[0mport\u001b[0m\u001b[0;34m,\u001b[0m\u001b[0;34m\u001b[0m\u001b[0m\n\u001b[1;32m    136\u001b[0m       \u001b[0;34m'path'\u001b[0m\u001b[0;34m:\u001b[0m \u001b[0mos\u001b[0m\u001b[0;34m.\u001b[0m\u001b[0mpath\u001b[0m\u001b[0;34m.\u001b[0m\u001b[0mabspath\u001b[0m\u001b[0;34m(\u001b[0m\u001b[0mfilename\u001b[0m\u001b[0;34m)\u001b[0m\u001b[0;34m,\u001b[0m\u001b[0;34m\u001b[0m\u001b[0m\n\u001b[0;32m--> 137\u001b[0;31m       \u001b[0;34m'name'\u001b[0m\u001b[0;34m:\u001b[0m \u001b[0mos\u001b[0m\u001b[0;34m.\u001b[0m\u001b[0mpath\u001b[0m\u001b[0;34m.\u001b[0m\u001b[0mbasename\u001b[0m\u001b[0;34m(\u001b[0m\u001b[0mfilename\u001b[0m\u001b[0;34m)\u001b[0m\u001b[0;34m,\u001b[0m\u001b[0;34m\u001b[0m\u001b[0m\n\u001b[0m\u001b[1;32m    138\u001b[0m   })\n",
            "\u001b[0;32m/usr/local/lib/python3.6/dist-packages/google/colab/output/_js.py\u001b[0m in \u001b[0;36meval_js\u001b[0;34m(script, ignore_result)\u001b[0m\n\u001b[1;32m     37\u001b[0m   \u001b[0;32mif\u001b[0m \u001b[0mignore_result\u001b[0m\u001b[0;34m:\u001b[0m\u001b[0;34m\u001b[0m\u001b[0m\n\u001b[1;32m     38\u001b[0m     \u001b[0;32mreturn\u001b[0m\u001b[0;34m\u001b[0m\u001b[0m\n\u001b[0;32m---> 39\u001b[0;31m   \u001b[0;32mreturn\u001b[0m \u001b[0m_message\u001b[0m\u001b[0;34m.\u001b[0m\u001b[0mread_reply_from_input\u001b[0m\u001b[0;34m(\u001b[0m\u001b[0mrequest_id\u001b[0m\u001b[0;34m)\u001b[0m\u001b[0;34m\u001b[0m\u001b[0m\n\u001b[0m\u001b[1;32m     40\u001b[0m \u001b[0;34m\u001b[0m\u001b[0m\n\u001b[1;32m     41\u001b[0m \u001b[0;34m\u001b[0m\u001b[0m\n",
            "\u001b[0;32m/usr/local/lib/python3.6/dist-packages/google/colab/_message.py\u001b[0m in \u001b[0;36mread_reply_from_input\u001b[0;34m(message_id, timeout_sec)\u001b[0m\n\u001b[1;32m     84\u001b[0m         reply.get('colab_msg_id') == message_id):\n\u001b[1;32m     85\u001b[0m       \u001b[0;32mif\u001b[0m \u001b[0;34m'error'\u001b[0m \u001b[0;32min\u001b[0m \u001b[0mreply\u001b[0m\u001b[0;34m:\u001b[0m\u001b[0;34m\u001b[0m\u001b[0m\n\u001b[0;32m---> 86\u001b[0;31m         \u001b[0;32mraise\u001b[0m \u001b[0mMessageError\u001b[0m\u001b[0;34m(\u001b[0m\u001b[0mreply\u001b[0m\u001b[0;34m[\u001b[0m\u001b[0;34m'error'\u001b[0m\u001b[0;34m]\u001b[0m\u001b[0;34m)\u001b[0m\u001b[0;34m\u001b[0m\u001b[0m\n\u001b[0m\u001b[1;32m     87\u001b[0m       \u001b[0;32mreturn\u001b[0m \u001b[0mreply\u001b[0m\u001b[0;34m.\u001b[0m\u001b[0mget\u001b[0m\u001b[0;34m(\u001b[0m\u001b[0;34m'data'\u001b[0m\u001b[0;34m,\u001b[0m \u001b[0;32mNone\u001b[0m\u001b[0;34m)\u001b[0m\u001b[0;34m\u001b[0m\u001b[0m\n\u001b[1;32m     88\u001b[0m \u001b[0;34m\u001b[0m\u001b[0m\n",
            "\u001b[0;31mMessageError\u001b[0m: Error: Failed to download: "
          ]
        }
      ]
    },
    {
      "metadata": {
        "id": "s1DgVbSgo08t",
        "colab_type": "code",
        "colab": {
          "autoexec": {
            "startup": false,
            "wait_interval": 0
          }
        }
      },
      "cell_type": "code",
      "source": [
        ""
      ],
      "execution_count": 0,
      "outputs": []
    }
  ]
}