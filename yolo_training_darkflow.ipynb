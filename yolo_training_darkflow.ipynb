{
  "nbformat": 4,
  "nbformat_minor": 0,
  "metadata": {
    "colab": {
      "name": "yolo_training_darkflow.ipynb",
      "version": "0.3.2",
      "views": {},
      "default_view": {},
      "provenance": [],
      "collapsed_sections": [],
      "toc_visible": true
    },
    "kernelspec": {
      "name": "python3",
      "display_name": "Python 3"
    },
    "accelerator": "GPU"
  },
  "cells": [
    {
      "metadata": {
        "id": "s-MSSVwar3Jl",
        "colab_type": "text"
      },
      "cell_type": "markdown",
      "source": [
        "Setting up Darkflow and training YOLO"
      ]
    },
    {
      "metadata": {
        "id": "4IQx3W8LZV9U",
        "colab_type": "code",
        "colab": {
          "autoexec": {
            "startup": false,
            "wait_interval": 0
          },
          "output_extras": [
            {
              "item_id": 1
            }
          ],
          "base_uri": "https://localhost:8080/",
          "height": 34
        },
        "outputId": "a70f7d9e-8d67-453b-b9bd-70dbc6fd50d6",
        "executionInfo": {
          "status": "ok",
          "timestamp": 1519402346882,
          "user_tz": -330,
          "elapsed": 7719,
          "user": {
            "displayName": "Himanshu Rawlani",
            "photoUrl": "//lh4.googleusercontent.com/-25bwESRvc84/AAAAAAAAAAI/AAAAAAAAMDQ/XeEMbo9cdEI/s50-c-k-no/photo.jpg",
            "userId": "103244414105699526880"
          }
        }
      },
      "cell_type": "code",
      "source": [
        "import tensorflow as tf\n",
        "print(tf.__version__)"
      ],
      "execution_count": 1,
      "outputs": [
        {
          "output_type": "stream",
          "text": [
            "1.6.0-rc1\n"
          ],
          "name": "stdout"
        }
      ]
    },
    {
      "metadata": {
        "id": "P1uCbmElpgWp",
        "colab_type": "code",
        "colab": {
          "autoexec": {
            "startup": false,
            "wait_interval": 0
          },
          "output_extras": [
            {
              "item_id": 10
            }
          ],
          "base_uri": "https://localhost:8080/",
          "height": 118
        },
        "outputId": "0aecae34-5dea-42cd-c3a2-42b90cfe7bd4",
        "executionInfo": {
          "status": "ok",
          "timestamp": 1519402377501,
          "user_tz": -330,
          "elapsed": 7385,
          "user": {
            "displayName": "Himanshu Rawlani",
            "photoUrl": "//lh4.googleusercontent.com/-25bwESRvc84/AAAAAAAAAAI/AAAAAAAAMDQ/XeEMbo9cdEI/s50-c-k-no/photo.jpg",
            "userId": "103244414105699526880"
          }
        }
      },
      "cell_type": "code",
      "source": [
        "!pip install opencv-contrib-python"
      ],
      "execution_count": 2,
      "outputs": [
        {
          "output_type": "stream",
          "text": [
            "Collecting opencv-contrib-python\n",
            "  Downloading opencv_contrib_python-3.4.0.12-cp36-cp36m-manylinux1_x86_64.whl (30.5MB)\n",
            "\u001b[K    100% |████████████████████████████████| 30.5MB 51kB/s \n",
            "\u001b[?25hRequirement already satisfied: numpy>=1.11.3 in /usr/local/lib/python3.6/dist-packages (from opencv-contrib-python)\n",
            "Installing collected packages: opencv-contrib-python\n",
            "Successfully installed opencv-contrib-python-3.4.0.12\n"
          ],
          "name": "stdout"
        }
      ]
    },
    {
      "metadata": {
        "id": "iICgA7hWrwzU",
        "colab_type": "code",
        "colab": {
          "autoexec": {
            "startup": false,
            "wait_interval": 0
          },
          "output_extras": [
            {
              "item_id": 23
            }
          ],
          "base_uri": "https://localhost:8080/",
          "height": 961
        },
        "outputId": "37d7b39a-dc24-4fd5-d242-21482e130151",
        "executionInfo": {
          "status": "ok",
          "timestamp": 1519402387968,
          "user_tz": -330,
          "elapsed": 9076,
          "user": {
            "displayName": "Himanshu Rawlani",
            "photoUrl": "//lh4.googleusercontent.com/-25bwESRvc84/AAAAAAAAAAI/AAAAAAAAMDQ/XeEMbo9cdEI/s50-c-k-no/photo.jpg",
            "userId": "103244414105699526880"
          }
        }
      },
      "cell_type": "code",
      "source": [
        "!apt update && apt install -y libsm6 libxext6"
      ],
      "execution_count": 3,
      "outputs": [
        {
          "output_type": "stream",
          "text": [
            "Hit:1 http://archive.ubuntu.com/ubuntu artful InRelease\n",
            "Get:2 http://security.ubuntu.com/ubuntu artful-security InRelease [78.6 kB]\n",
            "Get:3 http://archive.ubuntu.com/ubuntu artful-updates InRelease [78.6 kB]\n",
            "Get:4 http://security.ubuntu.com/ubuntu artful-security/universe Sources [11.1 kB]\n",
            "Get:5 http://security.ubuntu.com/ubuntu artful-security/universe amd64 Packages [53.0 kB]\n",
            "Get:6 http://security.ubuntu.com/ubuntu artful-security/main amd64 Packages [170 kB]\n",
            "Get:7 http://archive.ubuntu.com/ubuntu artful-backports InRelease [72.2 kB]\n",
            "Get:8 http://archive.ubuntu.com/ubuntu artful-updates/universe Sources [26.9 kB]\n",
            "Get:9 http://archive.ubuntu.com/ubuntu artful-updates/main amd64 Packages [274 kB]\n",
            "Get:10 http://archive.ubuntu.com/ubuntu artful-updates/universe amd64 Packages [105 kB]\n",
            "Fetched 869 kB in 2s (305 kB/s)\n",
            "Reading package lists... Done\n",
            "Building dependency tree       \n",
            "Reading state information... Done\n",
            "35 packages can be upgraded. Run 'apt list --upgradable' to see them.\n",
            "Reading package lists... Done\n",
            "Building dependency tree       \n",
            "Reading state information... Done\n",
            "The following additional packages will be installed:\n",
            "  libice6 x11-common\n",
            "The following NEW packages will be installed:\n",
            "  libice6 libsm6 libxext6 x11-common\n",
            "0 upgraded, 4 newly installed, 0 to remove and 35 not upgraded.\n",
            "Need to get 108 kB of archives.\n",
            "After this operation, 626 kB of additional disk space will be used.\n",
            "Get:1 http://archive.ubuntu.com/ubuntu artful/main amd64 libxext6 amd64 2:1.3.3-1 [29.4 kB]\n",
            "Get:2 http://archive.ubuntu.com/ubuntu artful/main amd64 x11-common all 1:7.7+19ubuntu3 [22.0 kB]\n",
            "Get:3 http://archive.ubuntu.com/ubuntu artful/main amd64 libice6 amd64 2:1.0.9-2 [40.2 kB]\n",
            "Get:4 http://archive.ubuntu.com/ubuntu artful/main amd64 libsm6 amd64 2:1.2.2-1 [15.8 kB]\n",
            "Fetched 108 kB in 1s (60.5 kB/s)\n",
            "\n",
            "\u001b7\u001b[0;23r\u001b8\u001b[1ASelecting previously unselected package libxext6:amd64.\n",
            "(Reading database ... 16669 files and directories currently installed.)\n",
            "Preparing to unpack .../libxext6_2%3a1.3.3-1_amd64.deb ...\n",
            "\u001b7\u001b[24;0f\u001b[42m\u001b[30mProgress: [  0%]\u001b[49m\u001b[39m [..........................................................] \u001b8\u001b7\u001b[24;0f\u001b[42m\u001b[30mProgress: [  4%]\u001b[49m\u001b[39m [##........................................................] \u001b8Unpacking libxext6:amd64 (2:1.3.3-1) ...\n",
            "\u001b7\u001b[24;0f\u001b[42m\u001b[30mProgress: [  9%]\u001b[49m\u001b[39m [#####.....................................................] \u001b8\u001b7\u001b[24;0f\u001b[42m\u001b[30mProgress: [ 14%]\u001b[49m\u001b[39m [########..................................................] \u001b8Selecting previously unselected package x11-common.\n",
            "Preparing to unpack .../x11-common_1%3a7.7+19ubuntu3_all.deb ...\n",
            "\u001b7\u001b[24;0f\u001b[42m\u001b[30mProgress: [ 19%]\u001b[49m\u001b[39m [###########...............................................] \u001b8Unpacking x11-common (1:7.7+19ubuntu3) ...\n",
            "\u001b7\u001b[24;0f\u001b[42m\u001b[30mProgress: [ 23%]\u001b[49m\u001b[39m [#############.............................................] \u001b8\u001b7\u001b[24;0f\u001b[42m\u001b[30mProgress: [ 28%]\u001b[49m\u001b[39m [################..........................................] \u001b8Selecting previously unselected package libice6:amd64.\n",
            "Preparing to unpack .../libice6_2%3a1.0.9-2_amd64.deb ...\n",
            "\u001b7\u001b[24;0f\u001b[42m\u001b[30mProgress: [ 33%]\u001b[49m\u001b[39m [###################.......................................] \u001b8Unpacking libice6:amd64 (2:1.0.9-2) ...\n",
            "\u001b7\u001b[24;0f\u001b[42m\u001b[30mProgress: [ 38%]\u001b[49m\u001b[39m [######################....................................] \u001b8\u001b7\u001b[24;0f\u001b[42m\u001b[30mProgress: [ 42%]\u001b[49m\u001b[39m [########################..................................] \u001b8Selecting previously unselected package libsm6:amd64.\n",
            "Preparing to unpack .../libsm6_2%3a1.2.2-1_amd64.deb ...\n",
            "\u001b7\u001b[24;0f\u001b[42m\u001b[30mProgress: [ 47%]\u001b[49m\u001b[39m [###########################...............................] \u001b8Unpacking libsm6:amd64 (2:1.2.2-1) ...\n",
            "\u001b7\u001b[24;0f\u001b[42m\u001b[30mProgress: [ 52%]\u001b[49m\u001b[39m [##############################............................] \u001b8\u001b7\u001b[24;0f\u001b[42m\u001b[30mProgress: [ 57%]\u001b[49m\u001b[39m [#################################.........................] \u001b8Setting up libxext6:amd64 (2:1.3.3-1) ...\n",
            "\u001b7\u001b[24;0f\u001b[42m\u001b[30mProgress: [ 61%]\u001b[49m\u001b[39m [###################################.......................] \u001b8\u001b7\u001b[24;0f\u001b[42m\u001b[30mProgress: [ 66%]\u001b[49m\u001b[39m [######################################....................] \u001b8Processing triggers for libc-bin (2.26-0ubuntu2.1) ...\n",
            "Setting up x11-common (1:7.7+19ubuntu3) ...\n",
            "\u001b7\u001b[24;0f\u001b[42m\u001b[30mProgress: [ 71%]\u001b[49m\u001b[39m [#########################################.................] \u001b8update-rc.d: warning: start and stop actions are no longer supported; falling back to defaults\n",
            "invoke-rc.d: could not determine current runlevel\n",
            "invoke-rc.d: policy-rc.d denied execution of start.\n",
            "\u001b7\u001b[24;0f\u001b[42m\u001b[30mProgress: [ 76%]\u001b[49m\u001b[39m [############################################..............] \u001b8Setting up libice6:amd64 (2:1.0.9-2) ...\n",
            "\u001b7\u001b[24;0f\u001b[42m\u001b[30mProgress: [ 80%]\u001b[49m\u001b[39m [##############################################............] \u001b8\u001b7\u001b[24;0f\u001b[42m\u001b[30mProgress: [ 85%]\u001b[49m\u001b[39m [#################################################.........] \u001b8Setting up libsm6:amd64 (2:1.2.2-1) ...\n",
            "\u001b7\u001b[24;0f\u001b[42m\u001b[30mProgress: [ 90%]\u001b[49m\u001b[39m [####################################################......] \u001b8\u001b7\u001b[24;0f\u001b[42m\u001b[30mProgress: [ 95%]\u001b[49m\u001b[39m [#######################################################...] \u001b8Processing triggers for libc-bin (2.26-0ubuntu2.1) ...\n",
            "\n",
            "\u001b7\u001b[0;24r\u001b8\u001b[1A\u001b[J"
          ],
          "name": "stdout"
        }
      ]
    },
    {
      "metadata": {
        "id": "lHoAhMP9qcMX",
        "colab_type": "code",
        "colab": {
          "autoexec": {
            "startup": false,
            "wait_interval": 0
          },
          "output_extras": [
            {
              "item_id": 5
            }
          ],
          "base_uri": "https://localhost:8080/",
          "height": 101
        },
        "outputId": "30535738-1c5f-486e-bd96-3bf3bc232f71",
        "executionInfo": {
          "status": "ok",
          "timestamp": 1519402392522,
          "user_tz": -330,
          "elapsed": 4498,
          "user": {
            "displayName": "Himanshu Rawlani",
            "photoUrl": "//lh4.googleusercontent.com/-25bwESRvc84/AAAAAAAAAAI/AAAAAAAAMDQ/XeEMbo9cdEI/s50-c-k-no/photo.jpg",
            "userId": "103244414105699526880"
          }
        }
      },
      "cell_type": "code",
      "source": [
        "!pip install Cython"
      ],
      "execution_count": 4,
      "outputs": [
        {
          "output_type": "stream",
          "text": [
            "Collecting Cython\n",
            "  Downloading Cython-0.27.3-cp36-cp36m-manylinux1_x86_64.whl (3.1MB)\n",
            "\u001b[K    100% |████████████████████████████████| 3.1MB 425kB/s \n",
            "\u001b[?25hInstalling collected packages: Cython\n",
            "Successfully installed Cython-0.27.3\n"
          ],
          "name": "stdout"
        }
      ]
    },
    {
      "metadata": {
        "id": "5DicSY-Xwz0r",
        "colab_type": "code",
        "colab": {
          "autoexec": {
            "startup": false,
            "wait_interval": 0
          },
          "output_extras": [
            {
              "item_id": 18
            }
          ],
          "base_uri": "https://localhost:8080/",
          "height": 118
        },
        "outputId": "9349230e-604d-45ab-d526-71efa30613c0",
        "executionInfo": {
          "status": "ok",
          "timestamp": 1519402404048,
          "user_tz": -330,
          "elapsed": 11428,
          "user": {
            "displayName": "Himanshu Rawlani",
            "photoUrl": "//lh4.googleusercontent.com/-25bwESRvc84/AAAAAAAAAAI/AAAAAAAAMDQ/XeEMbo9cdEI/s50-c-k-no/photo.jpg",
            "userId": "103244414105699526880"
          }
        }
      },
      "cell_type": "code",
      "source": [
        "!git clone https://github.com/himanshurawlani/tiny-yolo-voc.git"
      ],
      "execution_count": 5,
      "outputs": [
        {
          "output_type": "stream",
          "text": [
            "Cloning into 'tiny-yolo-voc'...\n",
            "remote: Counting objects: 7568, done.\u001b[K\n",
            "remote: Compressing objects: 100% (2960/2960), done.\u001b[K\n",
            "remote: Total 7568 (delta 2539), reused 4959 (delta 2169), pack-reused 2231\u001b[K\n",
            "Receiving objects: 100% (7568/7568), 369.05 MiB | 51.09 MiB/s, done.\n",
            "Resolving deltas: 100% (2904/2904), done.\n"
          ],
          "name": "stdout"
        }
      ]
    },
    {
      "metadata": {
        "id": "6W8bykpaw4fO",
        "colab_type": "code",
        "colab": {
          "autoexec": {
            "startup": false,
            "wait_interval": 0
          },
          "output_extras": [
            {
              "item_id": 1
            }
          ],
          "base_uri": "https://localhost:8080/",
          "height": 185
        },
        "outputId": "a54b2b6c-981c-48bb-f1d7-7517cb0a6c72",
        "executionInfo": {
          "status": "ok",
          "timestamp": 1519402405659,
          "user_tz": -330,
          "elapsed": 1574,
          "user": {
            "displayName": "Himanshu Rawlani",
            "photoUrl": "//lh4.googleusercontent.com/-25bwESRvc84/AAAAAAAAAAI/AAAAAAAAMDQ/XeEMbo9cdEI/s50-c-k-no/photo.jpg",
            "userId": "103244414105699526880"
          }
        }
      },
      "cell_type": "code",
      "source": [
        "!ls -l tiny-yolo-voc/"
      ],
      "execution_count": 6,
      "outputs": [
        {
          "output_type": "stream",
          "text": [
            "total 816\r\n",
            "drwxr-xr-x 2 root root   4096 Feb 23 16:13 bin\r\n",
            "drwxr-xr-x 8 root root   4096 Feb 23 16:13 darkflow\r\n",
            "-rw-r--r-- 1 root root   1472 Feb 23 16:13 extract_annotation_and_image_files.py\r\n",
            "-rw-r--r-- 1 root root 741401 Feb 23 16:13 imagenet_synset_to_human_label_map.txt\r\n",
            "-rw-r--r-- 1 root root   2153 Feb 23 16:13 process_training_data.py\r\n",
            "-rw-r--r-- 1 root root     78 Feb 23 16:13 README.md\r\n",
            "-rw-r--r-- 1 root root    675 Feb 23 16:13 rename_xml_names.py\r\n",
            "drwxr-xr-x 2 root root   4096 Feb 23 16:13 tiny-yolo-voc\r\n",
            "-rw-r--r-- 1 root root  58866 Feb 23 16:13 yolo_training_darkflow.ipynb\r\n"
          ],
          "name": "stdout"
        }
      ]
    },
    {
      "metadata": {
        "id": "bjTAyWQBqJGh",
        "colab_type": "code",
        "colab": {
          "autoexec": {
            "startup": false,
            "wait_interval": 0
          },
          "output_extras": [
            {
              "item_id": 9
            }
          ],
          "base_uri": "https://localhost:8080/",
          "height": 84
        },
        "outputId": "1441b178-1805-4347-8c70-5e1df9e64e46",
        "executionInfo": {
          "status": "ok",
          "timestamp": 1519402430107,
          "user_tz": -330,
          "elapsed": 21374,
          "user": {
            "displayName": "Himanshu Rawlani",
            "photoUrl": "//lh4.googleusercontent.com/-25bwESRvc84/AAAAAAAAAAI/AAAAAAAAMDQ/XeEMbo9cdEI/s50-c-k-no/photo.jpg",
            "userId": "103244414105699526880"
          }
        }
      },
      "cell_type": "code",
      "source": [
        "!pip install tiny-yolo-voc/darkflow/."
      ],
      "execution_count": 7,
      "outputs": [
        {
          "output_type": "stream",
          "text": [
            "Processing ./tiny-yolo-voc/darkflow\n",
            "Installing collected packages: darkflow\n",
            "  Running setup.py install for darkflow ... \u001b[?25l-\b \b\\\b \b|\b \b/\b \b-\b \b\\\b \bdone\n",
            "\u001b[?25hSuccessfully installed darkflow-1.0.0\n"
          ],
          "name": "stdout"
        }
      ]
    },
    {
      "metadata": {
        "id": "gg0EOwh0qPz2",
        "colab_type": "code",
        "colab": {
          "autoexec": {
            "startup": false,
            "wait_interval": 0
          },
          "output_extras": [
            {
              "item_id": 2
            }
          ],
          "base_uri": "https://localhost:8080/",
          "height": 659
        },
        "outputId": "260cc199-88d0-4618-ab27-94c45725e3b3",
        "executionInfo": {
          "status": "ok",
          "timestamp": 1519402441555,
          "user_tz": -330,
          "elapsed": 4029,
          "user": {
            "displayName": "Himanshu Rawlani",
            "photoUrl": "//lh4.googleusercontent.com/-25bwESRvc84/AAAAAAAAAAI/AAAAAAAAMDQ/XeEMbo9cdEI/s50-c-k-no/photo.jpg",
            "userId": "103244414105699526880"
          }
        }
      },
      "cell_type": "code",
      "source": [
        "!flow --h"
      ],
      "execution_count": 8,
      "outputs": [
        {
          "output_type": "stream",
          "text": [
            "/usr/local/lib/python3.6/dist-packages/h5py/__init__.py:36: FutureWarning: Conversion of the second argument of issubdtype from `float` to `np.floating` is deprecated. In future, it will be treated as `np.float64 == np.dtype(float).type`.\r\n",
            "  from ._conv import register_converters as _register_converters\n",
            "\n",
            "Example usage: flow --imgdir sample_img/ --model cfg/yolo.cfg --load bin/yolo.weights\n",
            "\n",
            "Arguments:\n",
            "  --help, --h, -h  show this super helpful message and exit\n",
            "  --imgdir         path to testing directory with images\n",
            "  --binary         path to .weights directory\n",
            "  --config         path to .cfg directory\n",
            "  --dataset        path to dataset directory\n",
            "  --labels         path to labels file\n",
            "  --backup         path to backup folder\n",
            "  --summary        path to TensorBoard summaries directory\n",
            "  --annotation     path to annotation directory\n",
            "  --threshold      detection threshold\n",
            "  --model          configuration of choice\n",
            "  --trainer        training algorithm\n",
            "  --momentum       applicable for rmsprop and momentum optimizers\n",
            "  --verbalise      say out loud while building graph\n",
            "  --train          train the whole net\n",
            "  --load           how to initialize the net? Either from .weights or a checkpoint, or even from scratch\n",
            "  --savepb         save net and weight to a .pb file\n",
            "  --gpu            how much gpu (from 0.0 to 1.0)\n",
            "  --gpuName        GPU device name\n",
            "  --lr             learning rate\n",
            "  --keep           Number of most recent training results to save\n",
            "  --batch          batch size\n",
            "  --epoch          number of epoch\n",
            "  --save           save checkpoint every ? training examples\n",
            "  --demo           demo on webcam\n",
            "  --queue          process demo in batch\n",
            "  --json           Outputs bounding box information in json format.\n",
            "  --saveVideo      Records video from input video or camera\n",
            "  --pbLoad         path to .pb protobuf file (metaLoad must also be specified)\n",
            "  --metaLoad       path to .meta file generated during --savepb that corresponds to .pb file\n",
            "\n"
          ],
          "name": "stdout"
        }
      ]
    },
    {
      "metadata": {
        "id": "OVZ6K4Ab_vq2",
        "colab_type": "code",
        "colab": {
          "autoexec": {
            "startup": false,
            "wait_interval": 0
          },
          "output_extras": [
            {
              "item_id": 9
            }
          ],
          "base_uri": "https://localhost:8080/",
          "height": 353
        },
        "outputId": "7d9cad2c-7dd3-4f83-f13e-3b2c519d894d",
        "executionInfo": {
          "status": "ok",
          "timestamp": 1519402451099,
          "user_tz": -330,
          "elapsed": 3938,
          "user": {
            "displayName": "Himanshu Rawlani",
            "photoUrl": "//lh4.googleusercontent.com/-25bwESRvc84/AAAAAAAAAAI/AAAAAAAAMDQ/XeEMbo9cdEI/s50-c-k-no/photo.jpg",
            "userId": "103244414105699526880"
          }
        }
      },
      "cell_type": "code",
      "source": [
        "!apt-get install tree\n",
        "!tree -d tiny-yolo-voc/darkflow/train/"
      ],
      "execution_count": 9,
      "outputs": [
        {
          "output_type": "stream",
          "text": [
            "Reading package lists... Done\n",
            "Building dependency tree       \n",
            "Reading state information... Done\n",
            "The following NEW packages will be installed:\n",
            "  tree\n",
            "0 upgraded, 1 newly installed, 0 to remove and 35 not upgraded.\n",
            "Need to get 40.7 kB of archives.\n",
            "After this operation, 105 kB of additional disk space will be used.\n",
            "Get:1 http://archive.ubuntu.com/ubuntu artful/universe amd64 tree amd64 1.7.0-5 [40.7 kB]\n",
            "Fetched 40.7 kB in 0s (116 kB/s)\n",
            "Selecting previously unselected package tree.\n",
            "(Reading database ... 16712 files and directories currently installed.)\n",
            "Preparing to unpack .../tree_1.7.0-5_amd64.deb ...\n",
            "Unpacking tree (1.7.0-5) ...\n",
            "Setting up tree (1.7.0-5) ...\n",
            "tiny-yolo-voc/darkflow/train/\n",
            "├── Annotation\n",
            "└── Images\n",
            "\n",
            "2 directories\n"
          ],
          "name": "stdout"
        }
      ]
    },
    {
      "metadata": {
        "id": "4JFfeCA6d9x4",
        "colab_type": "code",
        "colab": {
          "autoexec": {
            "startup": false,
            "wait_interval": 0
          },
          "output_extras": [
            {
              "item_id": 2
            }
          ],
          "base_uri": "https://localhost:8080/",
          "height": 538
        },
        "outputId": "f58bab2b-3551-4808-8137-ab07fb320730",
        "executionInfo": {
          "status": "ok",
          "timestamp": 1519402487785,
          "user_tz": -330,
          "elapsed": 1193,
          "user": {
            "displayName": "Himanshu Rawlani",
            "photoUrl": "//lh4.googleusercontent.com/-25bwESRvc84/AAAAAAAAAAI/AAAAAAAAMDQ/XeEMbo9cdEI/s50-c-k-no/photo.jpg",
            "userId": "103244414105699526880"
          }
        }
      },
      "cell_type": "code",
      "source": [
        "!cd tiny-yolo-voc/darkflow/ && cat labels.txt\n",
        "!cd tiny-yolo-voc/darkflow/train/Annotation/ && cat n07753592_10127.xml"
      ],
      "execution_count": 12,
      "outputs": [
        {
          "output_type": "stream",
          "text": [
            "banana\r\n",
            "cabbage\r\n",
            "cauliflower\r\n",
            "cucumber\r\n",
            "egg\r\n",
            "fish\n",
            "<annotation>\n",
            "\t<folder>n07753592</folder>\n",
            "\t<filename>n07753592_10127.jpg</filename>\n",
            "\t<source>\n",
            "\t\t<database>ImageNet database</database>\n",
            "\t</source>\n",
            "\t<size>\n",
            "\t\t<width>320</width>\n",
            "\t\t<height>500</height>\n",
            "\t\t<depth>3</depth>\n",
            "\t</size>\n",
            "\t<segmented>0</segmented>\n",
            "\t<object>\n",
            "\t\t<name>banana</name>\n",
            "\t\t<pose>Unspecified</pose>\n",
            "\t\t<truncated>0</truncated>\n",
            "\t\t<difficult>0</difficult>\n",
            "\t\t<bndbox>\n",
            "\t\t\t<xmin>22</xmin>\n",
            "\t\t\t<ymin>50</ymin>\n",
            "\t\t\t<xmax>306</xmax>\n",
            "\t\t\t<ymax>498</ymax>\n",
            "\t\t</bndbox>\n",
            "\t</object>\n",
            "</annotation>"
          ],
          "name": "stdout"
        }
      ]
    },
    {
      "metadata": {
        "id": "CR5s33wUBtRp",
        "colab_type": "code",
        "colab": {
          "autoexec": {
            "startup": false,
            "wait_interval": 0
          },
          "output_extras": [
            {
              "item_id": 25
            },
            {
              "item_id": 78
            },
            {
              "item_id": 131
            },
            {
              "item_id": 183
            },
            {
              "item_id": 235
            },
            {
              "item_id": 287
            },
            {
              "item_id": 339
            },
            {
              "item_id": 391
            },
            {
              "item_id": 443
            },
            {
              "item_id": 495
            },
            {
              "item_id": 547
            },
            {
              "item_id": 599
            },
            {
              "item_id": 651
            },
            {
              "item_id": 703
            },
            {
              "item_id": 755
            },
            {
              "item_id": 807
            },
            {
              "item_id": 859
            },
            {
              "item_id": 911
            },
            {
              "item_id": 963
            },
            {
              "item_id": 1015
            },
            {
              "item_id": 1067
            },
            {
              "item_id": 1119
            },
            {
              "item_id": 1165
            }
          ],
          "base_uri": "https://localhost:8080/",
          "height": 20835
        },
        "outputId": "d19edf8b-508f-4f56-ef5a-2d4922b34b8e",
        "executionInfo": {
          "status": "ok",
          "timestamp": 1519403369346,
          "user_tz": -330,
          "elapsed": 854115,
          "user": {
            "displayName": "Himanshu Rawlani",
            "photoUrl": "//lh4.googleusercontent.com/-25bwESRvc84/AAAAAAAAAAI/AAAAAAAAMDQ/XeEMbo9cdEI/s50-c-k-no/photo.jpg",
            "userId": "103244414105699526880"
          }
        }
      },
      "cell_type": "code",
      "source": [
        "!cd tiny-yolo-voc/darkflow/ && flow --model cfg/tiny-yolo-voc-3c.cfg --load bin/tiny-yolo-voc.weights --train --annotation \"train/Annotation/\" --dataset \"train/Images/\" --epoch 10 --gpu 1.0"
      ],
      "execution_count": 13,
      "outputs": [
        {
          "output_type": "stream",
          "text": [
            "/usr/local/lib/python3.6/dist-packages/h5py/__init__.py:36: FutureWarning: Conversion of the second argument of issubdtype from `float` to `np.floating` is deprecated. In future, it will be treated as `np.float64 == np.dtype(float).type`.\r\n",
            "  from ._conv import register_converters as _register_converters\n",
            "\n",
            "Parsing ./cfg/tiny-yolo-voc.cfg\n",
            "Parsing cfg/tiny-yolo-voc-3c.cfg\n",
            "Loading bin/tiny-yolo-voc.weights ...\n",
            "Successfully identified 63471556 bytes\n",
            "Finished in 0.006369352340698242s\n",
            "\n",
            "Building net ...\n",
            "Source | Train? | Layer description                | Output size\n",
            "-------+--------+----------------------------------+---------------\n",
            "       |        | input                            | (?, 416, 416, 3)\n",
            " Load  |  Yep!  | conv 3x3p1_1  +bnorm  leaky      | (?, 416, 416, 16)\n",
            " Load  |  Yep!  | maxp 2x2p0_2                     | (?, 208, 208, 16)\n",
            " Load  |  Yep!  | conv 3x3p1_1  +bnorm  leaky      | (?, 208, 208, 32)\n",
            " Load  |  Yep!  | maxp 2x2p0_2                     | (?, 104, 104, 32)\n",
            " Load  |  Yep!  | conv 3x3p1_1  +bnorm  leaky      | (?, 104, 104, 64)\n",
            " Load  |  Yep!  | maxp 2x2p0_2                     | (?, 52, 52, 64)\n",
            " Load  |  Yep!  | conv 3x3p1_1  +bnorm  leaky      | (?, 52, 52, 128)\n",
            " Load  |  Yep!  | maxp 2x2p0_2                     | (?, 26, 26, 128)\n",
            " Load  |  Yep!  | conv 3x3p1_1  +bnorm  leaky      | (?, 26, 26, 256)\n",
            " Load  |  Yep!  | maxp 2x2p0_2                     | (?, 13, 13, 256)\n",
            " Load  |  Yep!  | conv 3x3p1_1  +bnorm  leaky      | (?, 13, 13, 512)\n",
            " Load  |  Yep!  | maxp 2x2p0_1                     | (?, 13, 13, 512)\n",
            " Load  |  Yep!  | conv 3x3p1_1  +bnorm  leaky      | (?, 13, 13, 1024)\n",
            " Load  |  Yep!  | conv 3x3p1_1  +bnorm  leaky      | (?, 13, 13, 1024)\n",
            " Init  |  Yep!  | conv 1x1p0_1    linear           | (?, 13, 13, 55)\n",
            "-------+--------+----------------------------------+---------------\n",
            "GPU mode with 1.0 usage\n",
            "cfg/tiny-yolo-voc-3c.cfg loss hyper-parameters:\n",
            "\tH       = 13\n",
            "\tW       = 13\n",
            "\tbox     = 5\n",
            "\tclasses = 6\n",
            "\tscales  = [1.0, 5.0, 1.0, 1.0]\n",
            "Building cfg/tiny-yolo-voc-3c.cfg loss\n",
            "Building cfg/tiny-yolo-voc-3c.cfg train op\n",
            "2018-02-23 16:15:20.714860: I tensorflow/stream_executor/cuda/cuda_gpu_executor.cc:898] successful NUMA node read from SysFS had negative value (-1), but there must be at least one NUMA node, so returning NUMA node zero\n",
            "2018-02-23 16:15:20.715437: I tensorflow/core/common_runtime/gpu/gpu_device.cc:1208] Found device 0 with properties: \n",
            "name: Tesla K80 major: 3 minor: 7 memoryClockRate(GHz): 0.8235\n",
            "pciBusID: 0000:00:04.0\n",
            "totalMemory: 11.17GiB freeMemory: 11.11GiB\n",
            "2018-02-23 16:15:20.715496: I tensorflow/core/common_runtime/gpu/gpu_device.cc:1308] Adding visible gpu devices: 0\n",
            "2018-02-23 16:15:20.933035: I tensorflow/core/common_runtime/gpu/gpu_device.cc:989] Creating TensorFlow device (/job:localhost/replica:0/task:0/device:GPU:0 with 11439 MB memory) -> physical GPU (device: 0, name: Tesla K80, pci bus id: 0000:00:04.0, compute capability: 3.7)\n",
            "2018-02-23 16:15:20.946286: E tensorflow/stream_executor/cuda/cuda_driver.cc:936] failed to allocate 11.17G (11995578368 bytes) from device: CUDA_ERROR_OUT_OF_MEMORY\n",
            "Finished in 4.648790121078491s\n",
            "\n",
            "Enter training ...\n",
            "\n",
            "cfg/tiny-yolo-voc-3c.cfg parsing train/Annotation/\n",
            "Parsing for ['banana', 'cabbage', 'cauliflower', 'cucumber', 'egg', 'fish'] \n",
            "[====================>]100%  n07715103_1397.xml\n",
            "Statistics:\n",
            "fish: 195\n",
            "cauliflower: 514\n",
            "cucumber: 583\n",
            "cabbage: 617\n",
            "banana: 641\n",
            "egg: 132\n",
            "Dataset size: 1851\n",
            "Dataset of 1851 instance(s)\n",
            "Training statistics: \n",
            "\tLearning rate : 1e-05\n",
            "\tBatch size    : 16\n",
            "\tEpoch number  : 10\n",
            "\tBackup every  : 2000\n",
            "step 1 - loss 114.73211669921875 - moving ave loss 114.73211669921876\n",
            "step 2 - loss 113.61466979980469 - moving ave loss 114.62037200927736\n",
            "step 3 - loss 112.62750244140625 - moving ave loss 114.42108505249024\n",
            "step 4 - loss 112.12333679199219 - moving ave loss 114.19131022644044\n",
            "step 5 - loss 111.57661437988281 - moving ave loss 113.92984064178468\n",
            "step 6 - loss 110.74443817138672 - moving ave loss 113.61130039474489\n",
            "step 7 - loss 110.57649230957031 - moving ave loss 113.30781958622742\n",
            "step 8 - loss 110.1513671875 - moving ave loss 112.99217434635469\n",
            "step 9 - loss 109.25907135009766 - moving ave loss 112.61886404672899\n",
            "step 10 - loss 108.282470703125 - moving ave loss 112.1852247123686\n",
            "step 11 - loss 107.72120666503906 - moving ave loss 111.73882290763565\n",
            "step 12 - loss 107.83596801757812 - moving ave loss 111.3485374186299\n"
          ],
          "name": "stdout"
        },
        {
          "output_type": "stream",
          "text": [
            "step 13 - loss 106.79769897460938 - moving ave loss 110.89345357422786\n",
            "step 14 - loss 106.36738586425781 - moving ave loss 110.44084680323085\n",
            "step 15 - loss 106.03121948242188 - moving ave loss 109.99988407114996\n",
            "step 16 - loss 105.931396484375 - moving ave loss 109.59303531247247\n",
            "step 17 - loss 105.60528564453125 - moving ave loss 109.19426034567834\n",
            "step 18 - loss 104.85646057128906 - moving ave loss 108.76048036823941\n",
            "step 19 - loss 104.45697784423828 - moving ave loss 108.3301301158393\n",
            "step 20 - loss 104.68441772460938 - moving ave loss 107.9655588767163\n",
            "step 21 - loss 103.77593994140625 - moving ave loss 107.5465969831853\n",
            "step 22 - loss 103.43318176269531 - moving ave loss 107.1352554611363\n",
            "step 23 - loss 103.52294921875 - moving ave loss 106.77402483689767\n",
            "step 24 - loss 102.26348876953125 - moving ave loss 106.32297123016103\n",
            "step 25 - loss 101.8059310913086 - moving ave loss 105.87126721627578\n",
            "step 26 - loss 101.54232025146484 - moving ave loss 105.4383725197947\n",
            "step 27 - loss 101.6970443725586 - moving ave loss 105.06423970507109\n",
            "step 28 - loss 100.36492156982422 - moving ave loss 104.5943078915464\n",
            "step 29 - loss 100.35575866699219 - moving ave loss 104.17045296909099\n",
            "step 30 - loss 99.86432647705078 - moving ave loss 103.73984031988698\n",
            "step 31 - loss 99.56212615966797 - moving ave loss 103.32206890386507\n",
            "step 32 - loss 99.63605499267578 - moving ave loss 102.95346751274616\n",
            "step 33 - loss 98.8036880493164 - moving ave loss 102.5384895664032\n",
            "step 34 - loss 98.74630737304688 - moving ave loss 102.15927134706757\n",
            "step 35 - loss 98.71438598632812 - moving ave loss 101.81478281099362\n",
            "step 36 - loss 98.12439727783203 - moving ave loss 101.44574425767746\n",
            "step 37 - loss 97.78477478027344 - moving ave loss 101.07964730993706\n",
            "step 38 - loss 97.60357666015625 - moving ave loss 100.73204024495898\n",
            "step 39 - loss 96.32620239257812 - moving ave loss 100.2914564597209\n",
            "step 40 - loss 96.25675201416016 - moving ave loss 99.88798601516483\n",
            "step 41 - loss 96.28495788574219 - moving ave loss 99.52768320222256\n",
            "step 42 - loss 96.08177185058594 - moving ave loss 99.18309206705891\n",
            "step 43 - loss 95.13690185546875 - moving ave loss 98.7784730458999\n",
            "step 44 - loss 95.19091796875 - moving ave loss 98.41971753818491\n",
            "step 45 - loss 94.60884094238281 - moving ave loss 98.03862987860471\n",
            "step 46 - loss 93.96812438964844 - moving ave loss 97.63157932970908\n",
            "step 47 - loss 93.91575622558594 - moving ave loss 97.25999701929676\n",
            "step 48 - loss 93.177978515625 - moving ave loss 96.85179516892958\n",
            "step 49 - loss 93.61785888671875 - moving ave loss 96.5284015407085\n",
            "step 50 - loss 92.69277954101562 - moving ave loss 96.14483934073922\n",
            "step 51 - loss 92.28244018554688 - moving ave loss 95.75859942522\n",
            "step 52 - loss 92.07599639892578 - moving ave loss 95.39033912259058\n",
            "step 53 - loss 91.6422119140625 - moving ave loss 95.01552640173777\n",
            "step 54 - loss 91.77658081054688 - moving ave loss 94.69163184261869\n",
            "step 55 - loss 90.43359375 - moving ave loss 94.26582803335681\n",
            "step 56 - loss 89.97086334228516 - moving ave loss 93.83633156424965\n",
            "step 57 - loss 90.09149169921875 - moving ave loss 93.46184757774655\n",
            "step 58 - loss 89.97786712646484 - moving ave loss 93.11344953261839\n",
            "step 59 - loss 89.34324645996094 - moving ave loss 92.73642922535265\n",
            "step 60 - loss 89.309326171875 - moving ave loss 92.39371892000489\n",
            "step 61 - loss 88.49783325195312 - moving ave loss 92.00413035319971\n",
            "step 62 - loss 88.70423889160156 - moving ave loss 91.6741412070399\n",
            "step 63 - loss 88.28121948242188 - moving ave loss 91.3348490345781\n",
            "step 64 - loss 87.38485717773438 - moving ave loss 90.93984984889373\n",
            "step 65 - loss 87.22238159179688 - moving ave loss 90.56810302318404\n"
          ],
          "name": "stdout"
        },
        {
          "output_type": "stream",
          "text": [
            "step 66 - loss 86.95366668701172 - moving ave loss 90.20665938956681\n",
            "step 67 - loss 86.65225219726562 - moving ave loss 89.85121867033669\n",
            "step 68 - loss 85.96276092529297 - moving ave loss 89.46237289583232\n",
            "step 69 - loss 86.11654663085938 - moving ave loss 89.12779026933504\n",
            "step 70 - loss 85.64204406738281 - moving ave loss 88.77921564913981\n",
            "step 71 - loss 84.97698974609375 - moving ave loss 88.39899305883522\n",
            "step 72 - loss 84.85600280761719 - moving ave loss 88.04469403371341\n",
            "step 73 - loss 84.73060607910156 - moving ave loss 87.71328523825223\n",
            "step 74 - loss 84.04383850097656 - moving ave loss 87.34634056452467\n",
            "step 75 - loss 83.75260162353516 - moving ave loss 86.98696667042572\n",
            "step 76 - loss 83.1339340209961 - moving ave loss 86.60166340548275\n",
            "step 77 - loss 83.23961639404297 - moving ave loss 86.26545870433878\n",
            "step 78 - loss 82.30938720703125 - moving ave loss 85.86985155460803\n",
            "step 79 - loss 82.0968017578125 - moving ave loss 85.49254657492848\n",
            "step 80 - loss 81.9916763305664 - moving ave loss 85.14245955049228\n",
            "step 81 - loss 81.81562805175781 - moving ave loss 84.80977640061884\n",
            "step 82 - loss 80.82473754882812 - moving ave loss 84.41127251543978\n",
            "step 83 - loss 81.28907775878906 - moving ave loss 84.0990530397747\n",
            "step 84 - loss 80.68443298339844 - moving ave loss 83.75759103413708\n",
            "step 85 - loss 80.36442565917969 - moving ave loss 83.41827449664135\n",
            "step 86 - loss 80.03844451904297 - moving ave loss 83.08029149888151\n",
            "step 87 - loss 79.49266815185547 - moving ave loss 82.72152916417892\n",
            "step 88 - loss 79.25302124023438 - moving ave loss 82.37467837178446\n",
            "step 89 - loss 78.50032043457031 - moving ave loss 81.98724257806305\n",
            "step 90 - loss 78.76968383789062 - moving ave loss 81.6654867040458\n",
            "step 91 - loss 78.24409484863281 - moving ave loss 81.3233475185045\n",
            "step 92 - loss 77.97333526611328 - moving ave loss 80.98834629326538\n",
            "step 93 - loss 77.4935302734375 - moving ave loss 80.63886469128259\n",
            "step 94 - loss 76.77203369140625 - moving ave loss 80.25218159129496\n",
            "step 95 - loss 76.72650146484375 - moving ave loss 79.89961357864983\n",
            "step 96 - loss 76.18495178222656 - moving ave loss 79.52814739900751\n",
            "step 97 - loss 75.85565185546875 - moving ave loss 79.16089784465363\n",
            "step 98 - loss 75.69903564453125 - moving ave loss 78.8147116246414\n",
            "step 99 - loss 75.29527282714844 - moving ave loss 78.4627677448921\n",
            "step 100 - loss 75.01824188232422 - moving ave loss 78.11831515863531\n",
            "step 101 - loss 74.96493530273438 - moving ave loss 77.80297717304522\n",
            "step 102 - loss 74.48735046386719 - moving ave loss 77.47141450212742\n",
            "step 103 - loss 74.01832580566406 - moving ave loss 77.12610563248109\n",
            "step 104 - loss 73.30260467529297 - moving ave loss 76.74375553676228\n",
            "step 105 - loss 72.7470932006836 - moving ave loss 76.3440893031544\n",
            "step 106 - loss 72.76341247558594 - moving ave loss 75.98602162039755\n",
            "step 107 - loss 72.49713134765625 - moving ave loss 75.63713259312343\n",
            "step 108 - loss 72.2713623046875 - moving ave loss 75.30055556427983\n",
            "step 109 - loss 71.83503723144531 - moving ave loss 74.95400373099638\n",
            "step 110 - loss 71.47126770019531 - moving ave loss 74.60573012791626\n",
            "step 111 - loss 70.97673034667969 - moving ave loss 74.2428301497926\n",
            "step 112 - loss 70.5391845703125 - moving ave loss 73.87246559184459\n",
            "step 113 - loss 70.65052795410156 - moving ave loss 73.55027182807028\n",
            "step 114 - loss 70.07474517822266 - moving ave loss 73.20271916308552\n",
            "step 115 - loss 70.5569076538086 - moving ave loss 72.93813801215782\n",
            "Finish 1 epoch(es)\n",
            "step 116 - loss 69.64817810058594 - moving ave loss 72.60914202100064\n",
            "step 117 - loss 69.20233917236328 - moving ave loss 72.2684617361369\n",
            "step 118 - loss 68.75624084472656 - moving ave loss 71.91723964699587\n"
          ],
          "name": "stdout"
        },
        {
          "output_type": "stream",
          "text": [
            "step 119 - loss 68.94564819335938 - moving ave loss 71.62008050163222\n",
            "step 120 - loss 68.20736694335938 - moving ave loss 71.27880914580493\n",
            "step 121 - loss 67.52073669433594 - moving ave loss 70.90300190065804\n",
            "step 122 - loss 67.88807678222656 - moving ave loss 70.60150938881489\n",
            "step 123 - loss 67.787109375 - moving ave loss 70.3200693874334\n",
            "step 124 - loss 67.10977935791016 - moving ave loss 69.99904038448109\n",
            "step 125 - loss 66.41204833984375 - moving ave loss 69.64034118001736\n",
            "Checkpoint at step 125\n",
            "step 126 - loss 66.22406005859375 - moving ave loss 69.298713067875\n",
            "step 127 - loss 65.69314575195312 - moving ave loss 68.93815633628282\n",
            "step 128 - loss 65.32728576660156 - moving ave loss 68.5770692793147\n",
            "step 129 - loss 65.34976196289062 - moving ave loss 68.25433854767229\n",
            "step 130 - loss 65.01918029785156 - moving ave loss 67.93082272269022\n",
            "step 131 - loss 64.30442810058594 - moving ave loss 67.5681832604798\n",
            "step 132 - loss 64.4234390258789 - moving ave loss 67.25370883701972\n",
            "step 133 - loss 64.66645050048828 - moving ave loss 66.99498300336657\n",
            "step 134 - loss 63.81280517578125 - moving ave loss 66.67676522060803\n",
            "step 135 - loss 63.4214973449707 - moving ave loss 66.3512384330443\n",
            "step 136 - loss 63.54438018798828 - moving ave loss 66.0705526085387\n",
            "step 137 - loss 62.56486511230469 - moving ave loss 65.7199838589153\n",
            "step 138 - loss 62.53679656982422 - moving ave loss 65.4016651300062\n",
            "step 139 - loss 62.21449279785156 - moving ave loss 65.08294789679073\n",
            "step 140 - loss 62.090110778808594 - moving ave loss 64.78366418499252\n",
            "step 141 - loss 62.67949676513672 - moving ave loss 64.57324744300693\n",
            "step 142 - loss 61.3030891418457 - moving ave loss 64.24623161289081\n",
            "step 143 - loss 61.32037353515625 - moving ave loss 63.95364580511736\n",
            "step 144 - loss 60.5153694152832 - moving ave loss 63.60981816613395\n",
            "step 145 - loss 60.66716003417969 - moving ave loss 63.315552352938525\n",
            "step 146 - loss 59.98277282714844 - moving ave loss 62.98227440035952\n",
            "step 147 - loss 59.61785888671875 - moving ave loss 62.64583284899545\n",
            "step 148 - loss 59.88147735595703 - moving ave loss 62.369397299691606\n",
            "step 149 - loss 59.430030822753906 - moving ave loss 62.07546065199784\n",
            "step 150 - loss 59.332191467285156 - moving ave loss 61.80113373352657\n",
            "step 151 - loss 58.49818801879883 - moving ave loss 61.4708391620538\n",
            "step 152 - loss 58.24717330932617 - moving ave loss 61.14847257678103\n",
            "step 153 - loss 57.78935623168945 - moving ave loss 60.81256094227188\n",
            "step 154 - loss 57.43382263183594 - moving ave loss 60.47468711122829\n",
            "step 155 - loss 57.79296112060547 - moving ave loss 60.20651451216602\n",
            "step 156 - loss 57.573612213134766 - moving ave loss 59.94322428226289\n",
            "step 157 - loss 57.231285095214844 - moving ave loss 59.672030363558086\n",
            "step 158 - loss 56.68531799316406 - moving ave loss 59.373359126518686\n",
            "step 159 - loss 56.607749938964844 - moving ave loss 59.0967982077633\n",
            "step 160 - loss 55.712852478027344 - moving ave loss 58.75840363478971\n",
            "step 161 - loss 56.52428436279297 - moving ave loss 58.53499170759004\n",
            "step 162 - loss 55.66732406616211 - moving ave loss 58.24822494344725\n",
            "step 163 - loss 55.565216064453125 - moving ave loss 57.97992405554784\n",
            "step 164 - loss 55.03642272949219 - moving ave loss 57.68557392294228\n",
            "step 165 - loss 54.09307098388672 - moving ave loss 57.32632362903673\n",
            "step 166 - loss 54.348876953125 - moving ave loss 57.02857896144556\n",
            "step 167 - loss 54.12736511230469 - moving ave loss 56.738457576531474\n",
            "step 168 - loss 53.55303192138672 - moving ave loss 56.419915011017\n",
            "step 169 - loss 53.673553466796875 - moving ave loss 56.145278856594985\n",
            "step 170 - loss 53.8297233581543 - moving ave loss 55.91372330675092\n"
          ],
          "name": "stdout"
        },
        {
          "output_type": "stream",
          "text": [
            "step 171 - loss 53.19487762451172 - moving ave loss 55.641838738527\n",
            "step 172 - loss 53.20919418334961 - moving ave loss 55.39857428300926\n",
            "step 173 - loss 52.683929443359375 - moving ave loss 55.12710979904427\n",
            "step 174 - loss 52.51708984375 - moving ave loss 54.86610780351484\n",
            "step 175 - loss 52.17034149169922 - moving ave loss 54.596531172333286\n",
            "step 176 - loss 52.39553451538086 - moving ave loss 54.37643150663804\n",
            "step 177 - loss 51.55866622924805 - moving ave loss 54.094654978899044\n",
            "step 178 - loss 51.52043151855469 - moving ave loss 53.83723263286461\n",
            "step 179 - loss 50.518436431884766 - moving ave loss 53.505353012766626\n",
            "step 180 - loss 50.91590881347656 - moving ave loss 53.24640859283762\n",
            "step 181 - loss 50.143798828125 - moving ave loss 52.936147616366355\n",
            "step 182 - loss 50.56839370727539 - moving ave loss 52.69937222545726\n",
            "step 183 - loss 50.29533004760742 - moving ave loss 52.458968007672276\n",
            "step 184 - loss 49.810569763183594 - moving ave loss 52.19412818322341\n",
            "step 185 - loss 49.51215362548828 - moving ave loss 51.9259307274499\n",
            "step 186 - loss 49.151947021484375 - moving ave loss 51.64853235685335\n",
            "step 187 - loss 49.60821533203125 - moving ave loss 51.44450065437114\n",
            "step 188 - loss 48.325016021728516 - moving ave loss 51.13255219110688\n",
            "step 189 - loss 47.98014831542969 - moving ave loss 50.81731180353917\n",
            "step 190 - loss 48.621978759765625 - moving ave loss 50.59777849916182\n",
            "step 191 - loss 47.848628997802734 - moving ave loss 50.32286354902591\n",
            "step 192 - loss 48.13887023925781 - moving ave loss 50.1044642180491\n",
            "step 193 - loss 47.20451354980469 - moving ave loss 49.814469151224664\n",
            "step 194 - loss 47.911048889160156 - moving ave loss 49.62412712501821\n",
            "step 195 - loss 46.58763885498047 - moving ave loss 49.320478298014436\n",
            "step 196 - loss 46.45597839355469 - moving ave loss 49.03402830756846\n",
            "step 197 - loss 45.638484954833984 - moving ave loss 48.694473972295015\n",
            "step 198 - loss 46.20891571044922 - moving ave loss 48.44591814611044\n",
            "step 199 - loss 45.170623779296875 - moving ave loss 48.118388709429084\n",
            "step 200 - loss 45.34733581542969 - moving ave loss 47.84128342002914\n",
            "step 201 - loss 45.4443359375 - moving ave loss 47.60158867177623\n",
            "step 202 - loss 45.14064407348633 - moving ave loss 47.35549421194724\n",
            "step 203 - loss 44.12736511230469 - moving ave loss 47.03268130198298\n",
            "step 204 - loss 44.17073440551758 - moving ave loss 46.74648661233645\n",
            "step 205 - loss 44.404205322265625 - moving ave loss 46.51225848332936\n",
            "step 206 - loss 43.37319564819336 - moving ave loss 46.198352199815766\n",
            "step 207 - loss 43.55490493774414 - moving ave loss 45.9340074736086\n",
            "step 208 - loss 43.34258270263672 - moving ave loss 45.67486499651142\n",
            "step 209 - loss 43.22980499267578 - moving ave loss 45.43035899612786\n",
            "step 210 - loss 43.176849365234375 - moving ave loss 45.20500803303851\n",
            "step 211 - loss 42.400840759277344 - moving ave loss 44.924591305662396\n",
            "step 212 - loss 43.75865936279297 - moving ave loss 44.807998111375454\n",
            "step 213 - loss 42.472572326660156 - moving ave loss 44.574455532903926\n",
            "step 214 - loss 42.1678581237793 - moving ave loss 44.33379579199146\n",
            "step 215 - loss 41.956573486328125 - moving ave loss 44.09607356142513\n",
            "step 216 - loss 41.93377685546875 - moving ave loss 43.8798438908295\n",
            "step 217 - loss 41.81477737426758 - moving ave loss 43.67333723917331\n",
            "step 218 - loss 40.563480377197266 - moving ave loss 43.36235155297571\n",
            "step 219 - loss 40.60499572753906 - moving ave loss 43.08661597043204\n",
            "step 220 - loss 40.96318054199219 - moving ave loss 42.87427242758805\n",
            "step 221 - loss 40.562774658203125 - moving ave loss 42.643122650649566\n",
            "step 222 - loss 40.294219970703125 - moving ave loss 42.40823238265492\n"
          ],
          "name": "stdout"
        },
        {
          "output_type": "stream",
          "text": [
            "step 223 - loss 40.00887680053711 - moving ave loss 42.16829682444314\n",
            "step 224 - loss 40.0067024230957 - moving ave loss 41.952137384308394\n",
            "step 225 - loss 39.81718444824219 - moving ave loss 41.738642090701774\n",
            "step 226 - loss 39.125579833984375 - moving ave loss 41.477335865030035\n",
            "step 227 - loss 39.333587646484375 - moving ave loss 41.26296104317547\n",
            "step 228 - loss 38.32788848876953 - moving ave loss 40.96945378773488\n",
            "step 229 - loss 38.612098693847656 - moving ave loss 40.73371827834616\n",
            "step 230 - loss 38.01426696777344 - moving ave loss 40.46177314728889\n",
            "Finish 2 epoch(es)\n",
            "step 231 - loss 38.792667388916016 - moving ave loss 40.2948625714516\n",
            "step 232 - loss 37.92658996582031 - moving ave loss 40.05803531088848\n",
            "step 233 - loss 37.58793640136719 - moving ave loss 39.81102541993635\n",
            "step 234 - loss 37.72784423828125 - moving ave loss 39.60270730177084\n",
            "step 235 - loss 36.761539459228516 - moving ave loss 39.318590517516604\n",
            "step 236 - loss 37.16947937011719 - moving ave loss 39.10367940277666\n",
            "step 237 - loss 36.872314453125 - moving ave loss 38.880542907811495\n",
            "step 238 - loss 36.62763977050781 - moving ave loss 38.65525259408113\n",
            "step 239 - loss 36.194305419921875 - moving ave loss 38.409157876665205\n",
            "step 240 - loss 35.85052490234375 - moving ave loss 38.15329457923306\n",
            "step 241 - loss 36.419952392578125 - moving ave loss 37.97996036056757\n",
            "step 242 - loss 35.83975601196289 - moving ave loss 37.765939925707094\n",
            "step 243 - loss 35.202754974365234 - moving ave loss 37.509621430572906\n",
            "step 244 - loss 35.609310150146484 - moving ave loss 37.319590302530266\n",
            "step 245 - loss 34.54450607299805 - moving ave loss 37.04208187957705\n",
            "step 246 - loss 35.05018997192383 - moving ave loss 36.84289268881172\n",
            "step 247 - loss 35.20159149169922 - moving ave loss 36.67876256910047\n",
            "step 248 - loss 34.382266998291016 - moving ave loss 36.449113012019524\n",
            "step 249 - loss 33.934818267822266 - moving ave loss 36.1976835375998\n",
            "step 250 - loss 34.971431732177734 - moving ave loss 36.07505835705759\n",
            "Checkpoint at step 250\n",
            "step 251 - loss 33.02135467529297 - moving ave loss 35.76968798888113\n",
            "step 252 - loss 35.27865982055664 - moving ave loss 35.720585172048686\n",
            "step 253 - loss 33.605796813964844 - moving ave loss 35.50910633624031\n",
            "step 254 - loss 34.414215087890625 - moving ave loss 35.39961721140534\n",
            "step 255 - loss 32.383113861083984 - moving ave loss 35.097966876373206\n",
            "step 256 - loss 32.847721099853516 - moving ave loss 34.87294229872124\n",
            "step 257 - loss 32.330528259277344 - moving ave loss 34.61870089477685\n",
            "step 258 - loss 32.745487213134766 - moving ave loss 34.431379526612645\n",
            "step 259 - loss 32.68276596069336 - moving ave loss 34.25651817002072\n",
            "step 260 - loss 31.880098342895508 - moving ave loss 34.0188761873082\n",
            "step 261 - loss 32.39784240722656 - moving ave loss 33.85677280930004\n",
            "step 262 - loss 31.772890090942383 - moving ave loss 33.648384537464274\n",
            "step 263 - loss 31.688549041748047 - moving ave loss 33.45240098789265\n",
            "step 264 - loss 31.203067779541016 - moving ave loss 33.22746766705749\n",
            "step 265 - loss 31.2998104095459 - moving ave loss 33.03470194130633\n",
            "step 266 - loss 31.13751983642578 - moving ave loss 32.84498373081828\n",
            "step 267 - loss 30.81277084350586 - moving ave loss 32.641762442087035\n",
            "step 268 - loss 30.144681930541992 - moving ave loss 32.39205439093253\n",
            "step 269 - loss 29.738502502441406 - moving ave loss 32.126699202083415\n",
            "step 270 - loss 30.693506240844727 - moving ave loss 31.983379905959545\n",
            "step 271 - loss 29.424280166625977 - moving ave loss 31.72746993202619\n",
            "step 272 - loss 29.19375991821289 - moving ave loss 31.47409893064486\n",
            "step 273 - loss 30.86306381225586 - moving ave loss 31.412995418805963\n"
          ],
          "name": "stdout"
        },
        {
          "output_type": "stream",
          "text": [
            "step 274 - loss 29.842491149902344 - moving ave loss 31.2559449919156\n",
            "step 275 - loss 29.79682159423828 - moving ave loss 31.11003265214787\n",
            "step 276 - loss 29.23965835571289 - moving ave loss 30.92299522250437\n",
            "step 277 - loss 28.276653289794922 - moving ave loss 30.658361029233426\n",
            "step 278 - loss 28.647480010986328 - moving ave loss 30.457272927408717\n",
            "step 279 - loss 27.966686248779297 - moving ave loss 30.208214259545777\n",
            "step 280 - loss 28.004539489746094 - moving ave loss 29.98784678256581\n",
            "step 281 - loss 28.43384552001953 - moving ave loss 29.832446656311184\n",
            "step 282 - loss 27.887004852294922 - moving ave loss 29.637902475909556\n",
            "step 283 - loss 28.318429946899414 - moving ave loss 29.505955223008545\n",
            "step 284 - loss 27.673114776611328 - moving ave loss 29.32267117836882\n",
            "step 285 - loss 27.965272903442383 - moving ave loss 29.18693135087618\n",
            "step 286 - loss 27.37828826904297 - moving ave loss 29.00606704269286\n",
            "step 287 - loss 28.153076171875 - moving ave loss 28.920767955611073\n",
            "step 288 - loss 26.967479705810547 - moving ave loss 28.72543913063102\n",
            "step 289 - loss 26.838672637939453 - moving ave loss 28.536762481361865\n",
            "step 290 - loss 26.960407257080078 - moving ave loss 28.37912695893369\n",
            "step 291 - loss 27.69035530090332 - moving ave loss 28.31024979313065\n",
            "step 292 - loss 26.549739837646484 - moving ave loss 28.134198797582236\n",
            "step 293 - loss 26.04589080810547 - moving ave loss 27.925367998634563\n",
            "step 294 - loss 26.585857391357422 - moving ave loss 27.79141693790685\n",
            "step 295 - loss 25.61548614501953 - moving ave loss 27.57382385861812\n",
            "step 296 - loss 25.792388916015625 - moving ave loss 27.395680364357872\n",
            "step 297 - loss 26.289081573486328 - moving ave loss 27.285020485270717\n",
            "step 298 - loss 25.430421829223633 - moving ave loss 27.099560619666008\n",
            "step 299 - loss 25.170902252197266 - moving ave loss 26.906694782919132\n",
            "step 300 - loss 25.524974822998047 - moving ave loss 26.768522786927026\n",
            "step 301 - loss 25.150047302246094 - moving ave loss 26.606675238458934\n",
            "step 302 - loss 25.04986572265625 - moving ave loss 26.450994286878668\n",
            "step 303 - loss 24.921405792236328 - moving ave loss 26.298035437414434\n",
            "step 304 - loss 24.319541931152344 - moving ave loss 26.100186086788227\n",
            "step 305 - loss 24.39310073852539 - moving ave loss 25.929477551961945\n",
            "step 306 - loss 24.529010772705078 - moving ave loss 25.78943087403626\n",
            "step 307 - loss 24.120689392089844 - moving ave loss 25.62255672584162\n",
            "step 308 - loss 23.762413024902344 - moving ave loss 25.436542355747694\n",
            "step 309 - loss 25.064163208007812 - moving ave loss 25.399304440973705\n",
            "step 310 - loss 23.152706146240234 - moving ave loss 25.17464461150036\n",
            "step 311 - loss 23.248111724853516 - moving ave loss 24.981991322835675\n",
            "step 312 - loss 23.7174015045166 - moving ave loss 24.85553234100377\n",
            "step 313 - loss 23.268165588378906 - moving ave loss 24.696795665741284\n",
            "step 314 - loss 23.654895782470703 - moving ave loss 24.592605677414227\n",
            "step 315 - loss 22.83721160888672 - moving ave loss 24.417066270561477\n",
            "step 316 - loss 22.84737205505371 - moving ave loss 24.260096849010704\n",
            "step 317 - loss 22.52444839477539 - moving ave loss 24.086532003587173\n",
            "step 318 - loss 22.342430114746094 - moving ave loss 23.912121814703067\n",
            "step 319 - loss 22.213241577148438 - moving ave loss 23.742233790947605\n",
            "step 320 - loss 21.821874618530273 - moving ave loss 23.55019787370587\n",
            "step 321 - loss 21.94666290283203 - moving ave loss 23.389844376618484\n",
            "step 322 - loss 22.024864196777344 - moving ave loss 23.25334635863437\n",
            "step 323 - loss 21.754104614257812 - moving ave loss 23.103422184196713\n",
            "step 324 - loss 21.422874450683594 - moving ave loss 22.9353674108454\n",
            "step 325 - loss 21.30120086669922 - moving ave loss 22.771950756430783\n"
          ],
          "name": "stdout"
        },
        {
          "output_type": "stream",
          "text": [
            "step 326 - loss 21.212982177734375 - moving ave loss 22.61605389856114\n",
            "step 327 - loss 21.291044235229492 - moving ave loss 22.483552932227976\n",
            "step 328 - loss 21.41365623474121 - moving ave loss 22.3765632624793\n",
            "step 329 - loss 20.53050422668457 - moving ave loss 22.191957358899828\n",
            "step 330 - loss 21.828777313232422 - moving ave loss 22.155639354333086\n",
            "step 331 - loss 20.20211410522461 - moving ave loss 21.960286829422238\n",
            "step 332 - loss 20.64158058166504 - moving ave loss 21.82841620464652\n",
            "step 333 - loss 20.585113525390625 - moving ave loss 21.704085936720933\n",
            "step 334 - loss 19.927818298339844 - moving ave loss 21.526459172882824\n",
            "step 335 - loss 19.955738067626953 - moving ave loss 21.369387062357237\n",
            "step 336 - loss 20.18023681640625 - moving ave loss 21.250472037762137\n",
            "step 337 - loss 20.972402572631836 - moving ave loss 21.22266509124911\n",
            "step 338 - loss 19.943952560424805 - moving ave loss 21.09479383816668\n",
            "step 339 - loss 20.240154266357422 - moving ave loss 21.009329880985756\n",
            "step 340 - loss 20.209491729736328 - moving ave loss 20.929346065860816\n",
            "step 341 - loss 19.29959487915039 - moving ave loss 20.766370947189774\n",
            "step 342 - loss 19.753963470458984 - moving ave loss 20.665130199516696\n",
            "step 343 - loss 19.413055419921875 - moving ave loss 20.539922721557215\n",
            "step 344 - loss 19.214202880859375 - moving ave loss 20.40735073748743\n",
            "step 345 - loss 18.547760009765625 - moving ave loss 20.221391664715252\n",
            "Finish 3 epoch(es)\n",
            "step 346 - loss 18.547204971313477 - moving ave loss 20.053972995375073\n",
            "step 347 - loss 19.15515899658203 - moving ave loss 19.96409159549577\n",
            "step 348 - loss 19.23837661743164 - moving ave loss 19.89152009768936\n",
            "step 349 - loss 17.697797775268555 - moving ave loss 19.67214786544728\n",
            "step 350 - loss 17.659786224365234 - moving ave loss 19.470911701339077\n",
            "step 351 - loss 18.189619064331055 - moving ave loss 19.342782437638277\n",
            "step 352 - loss 17.785343170166016 - moving ave loss 19.18703851089105\n",
            "step 353 - loss 17.742584228515625 - moving ave loss 19.042593082653507\n",
            "step 354 - loss 17.523208618164062 - moving ave loss 18.890654636204566\n",
            "step 355 - loss 17.51298713684082 - moving ave loss 18.752887886268194\n",
            "step 356 - loss 17.963623046875 - moving ave loss 18.673961402328874\n",
            "step 357 - loss 17.29241371154785 - moving ave loss 18.535806633250772\n",
            "step 358 - loss 18.793285369873047 - moving ave loss 18.561554506913\n",
            "step 359 - loss 17.456703186035156 - moving ave loss 18.451069374825217\n",
            "step 360 - loss 17.332786560058594 - moving ave loss 18.339241093348555\n",
            "step 361 - loss 17.604097366333008 - moving ave loss 18.265726720647\n",
            "step 362 - loss 16.932374954223633 - moving ave loss 18.132391544004662\n",
            "step 363 - loss 16.08016014099121 - moving ave loss 17.927168403703316\n",
            "step 364 - loss 17.244617462158203 - moving ave loss 17.858913309548804\n",
            "step 365 - loss 17.364967346191406 - moving ave loss 17.809518713213066\n",
            "step 366 - loss 16.272558212280273 - moving ave loss 17.655822663119785\n",
            "step 367 - loss 17.13443374633789 - moving ave loss 17.603683771441595\n",
            "step 368 - loss 16.175487518310547 - moving ave loss 17.46086414612849\n",
            "step 369 - loss 16.10176658630371 - moving ave loss 17.32495439014601\n",
            "step 370 - loss 16.708877563476562 - moving ave loss 17.263346707479066\n",
            "step 371 - loss 17.425724029541016 - moving ave loss 17.279584439685262\n",
            "step 372 - loss 15.975223541259766 - moving ave loss 17.149148349842715\n",
            "step 373 - loss 15.63082218170166 - moving ave loss 16.99731573302861\n",
            "step 374 - loss 15.958250999450684 - moving ave loss 16.89340925967082\n",
            "step 375 - loss 17.171689987182617 - moving ave loss 16.921237332422\n",
            "Checkpoint at step 375\n",
            "step 376 - loss 15.606197357177734 - moving ave loss 16.789733334897573\n",
            "step 377 - loss 15.429838180541992 - moving ave loss 16.653743819462015\n"
          ],
          "name": "stdout"
        },
        {
          "output_type": "stream",
          "text": [
            "step 378 - loss 17.36377716064453 - moving ave loss 16.724747153580267\n",
            "step 379 - loss 16.034883499145508 - moving ave loss 16.655760788136792\n",
            "step 380 - loss 15.315338134765625 - moving ave loss 16.521718522799677\n",
            "step 381 - loss 15.110130310058594 - moving ave loss 16.38055970152557\n",
            "step 382 - loss 15.045553207397461 - moving ave loss 16.24705905211276\n",
            "step 383 - loss 14.617790222167969 - moving ave loss 16.08413216911828\n",
            "step 384 - loss 15.184441566467285 - moving ave loss 15.994163108853181\n",
            "step 385 - loss 14.416024208068848 - moving ave loss 15.83634921877475\n",
            "step 386 - loss 14.548540115356445 - moving ave loss 15.70756830843292\n",
            "step 387 - loss 14.604616165161133 - moving ave loss 15.597273094105741\n",
            "step 388 - loss 14.9730806350708 - moving ave loss 15.534853848202248\n",
            "step 389 - loss 14.654335021972656 - moving ave loss 15.44680196557929\n",
            "step 390 - loss 13.924362182617188 - moving ave loss 15.294557987283081\n",
            "step 391 - loss 14.55960750579834 - moving ave loss 15.221062939134608\n",
            "step 392 - loss 14.620250701904297 - moving ave loss 15.160981715411578\n",
            "step 393 - loss 14.4593505859375 - moving ave loss 15.090818602464172\n",
            "step 394 - loss 13.733044624328613 - moving ave loss 14.955041204650616\n",
            "step 395 - loss 13.657875061035156 - moving ave loss 14.825324590289071\n",
            "step 396 - loss 13.172338485717773 - moving ave loss 14.660025979831943\n",
            "step 397 - loss 14.187129974365234 - moving ave loss 14.612736379285273\n",
            "step 398 - loss 14.05916976928711 - moving ave loss 14.557379718285459\n",
            "step 399 - loss 13.492389678955078 - moving ave loss 14.45088071435242\n",
            "step 400 - loss 14.060226440429688 - moving ave loss 14.411815286960147\n",
            "step 401 - loss 13.309828758239746 - moving ave loss 14.301616634088106\n",
            "step 402 - loss 13.128931045532227 - moving ave loss 14.184348075232517\n",
            "step 403 - loss 13.742692947387695 - moving ave loss 14.140182562448036\n",
            "step 404 - loss 12.61301326751709 - moving ave loss 13.987465632954942\n",
            "step 405 - loss 12.647851943969727 - moving ave loss 13.85350426405642\n",
            "step 406 - loss 13.321121215820312 - moving ave loss 13.80026595923281\n",
            "step 407 - loss 12.798784255981445 - moving ave loss 13.700117788907674\n",
            "step 408 - loss 13.028725624084473 - moving ave loss 13.632978572425355\n",
            "step 409 - loss 12.501276016235352 - moving ave loss 13.519808316806355\n",
            "step 410 - loss 13.741264343261719 - moving ave loss 13.541953919451892\n",
            "step 411 - loss 12.519416809082031 - moving ave loss 13.439700208414907\n",
            "step 412 - loss 13.097206115722656 - moving ave loss 13.405450799145681\n",
            "step 413 - loss 12.68406867980957 - moving ave loss 13.33331258721207\n",
            "step 414 - loss 12.796192169189453 - moving ave loss 13.279600545409808\n",
            "step 415 - loss 12.171223640441895 - moving ave loss 13.168762854913018\n",
            "step 416 - loss 11.596076965332031 - moving ave loss 13.01149426595492\n",
            "step 417 - loss 11.652643203735352 - moving ave loss 12.875609159732962\n",
            "step 418 - loss 12.109521865844727 - moving ave loss 12.799000430344138\n",
            "step 419 - loss 12.308834075927734 - moving ave loss 12.7499837949025\n",
            "step 420 - loss 11.749504089355469 - moving ave loss 12.649935824347798\n",
            "step 421 - loss 11.667329788208008 - moving ave loss 12.551675220733818\n",
            "step 422 - loss 11.83845329284668 - moving ave loss 12.480353027945105\n",
            "step 423 - loss 11.949836730957031 - moving ave loss 12.427301398246296\n",
            "step 424 - loss 11.283235549926758 - moving ave loss 12.312894813414342\n",
            "step 425 - loss 12.392416000366211 - moving ave loss 12.320846932109529\n",
            "step 426 - loss 11.775819778442383 - moving ave loss 12.266344216742814\n",
            "step 427 - loss 12.437910079956055 - moving ave loss 12.283500803064138\n",
            "step 428 - loss 11.629066467285156 - moving ave loss 12.21805736948624\n",
            "step 429 - loss 11.322287559509277 - moving ave loss 12.128480388488544\n"
          ],
          "name": "stdout"
        },
        {
          "output_type": "stream",
          "text": [
            "step 430 - loss 11.849813461303711 - moving ave loss 12.100613695770061\n",
            "step 431 - loss 10.973739624023438 - moving ave loss 11.9879262885954\n",
            "step 432 - loss 11.117919921875 - moving ave loss 11.90092565192336\n",
            "step 433 - loss 11.171136856079102 - moving ave loss 11.827946772338935\n",
            "step 434 - loss 11.12204360961914 - moving ave loss 11.757356456066956\n",
            "step 435 - loss 10.775232315063477 - moving ave loss 11.65914404196661\n",
            "step 436 - loss 10.95315933227539 - moving ave loss 11.588545570997487\n",
            "step 437 - loss 10.236413955688477 - moving ave loss 11.453332409466586\n",
            "step 438 - loss 10.941327095031738 - moving ave loss 11.402131878023102\n",
            "step 439 - loss 10.952888488769531 - moving ave loss 11.357207539097745\n",
            "step 440 - loss 13.145851135253906 - moving ave loss 11.536071898713361\n",
            "step 441 - loss 10.609415054321289 - moving ave loss 11.443406214274155\n",
            "step 442 - loss 11.035849571228027 - moving ave loss 11.402650549969541\n",
            "step 443 - loss 10.948114395141602 - moving ave loss 11.357196934486748\n",
            "step 444 - loss 10.895787239074707 - moving ave loss 11.311055964945544\n",
            "step 445 - loss 11.021259307861328 - moving ave loss 11.282076299237122\n",
            "step 446 - loss 10.64889144897461 - moving ave loss 11.218757814210871\n",
            "step 447 - loss 10.454032897949219 - moving ave loss 11.142285322584707\n",
            "step 448 - loss 9.796425819396973 - moving ave loss 11.007699372265932\n",
            "step 449 - loss 10.044110298156738 - moving ave loss 10.911340464855014\n",
            "step 450 - loss 10.973029136657715 - moving ave loss 10.917509332035284\n",
            "step 451 - loss 10.856534957885742 - moving ave loss 10.91141189462033\n",
            "step 452 - loss 9.857166290283203 - moving ave loss 10.805987334186618\n",
            "step 453 - loss 11.380834579467773 - moving ave loss 10.863472058714734\n",
            "step 454 - loss 9.772220611572266 - moving ave loss 10.754346914000488\n",
            "step 455 - loss 9.40067195892334 - moving ave loss 10.618979418492774\n",
            "step 456 - loss 10.188562393188477 - moving ave loss 10.575937715962343\n",
            "step 457 - loss 9.798282623291016 - moving ave loss 10.49817220669521\n",
            "step 458 - loss 8.768823623657227 - moving ave loss 10.325237348391413\n",
            "step 459 - loss 9.591450691223145 - moving ave loss 10.251858682674586\n",
            "step 460 - loss 9.938343048095703 - moving ave loss 10.220507119216698\n",
            "Finish 4 epoch(es)\n",
            "step 461 - loss 9.566149711608887 - moving ave loss 10.155071378455917\n",
            "step 462 - loss 9.857205390930176 - moving ave loss 10.125284779703343\n",
            "step 463 - loss 9.14686393737793 - moving ave loss 10.027442695470802\n",
            "step 464 - loss 10.391706466674805 - moving ave loss 10.063869072591203\n",
            "step 465 - loss 8.547775268554688 - moving ave loss 9.91225969218755\n",
            "step 466 - loss 9.38322639465332 - moving ave loss 9.859356362434127\n",
            "step 467 - loss 8.550095558166504 - moving ave loss 9.728430282007364\n",
            "step 468 - loss 9.923263549804688 - moving ave loss 9.747913608787096\n",
            "step 469 - loss 10.037405014038086 - moving ave loss 9.776862749312194\n",
            "step 470 - loss 9.904024124145508 - moving ave loss 9.789578886795525\n",
            "step 471 - loss 9.557865142822266 - moving ave loss 9.7664075123982\n",
            "step 472 - loss 10.00296401977539 - moving ave loss 9.790063163135919\n",
            "step 473 - loss 9.474654197692871 - moving ave loss 9.758522266591614\n",
            "step 474 - loss 10.313674926757812 - moving ave loss 9.814037532608234\n",
            "step 475 - loss 8.735404968261719 - moving ave loss 9.706174276173583\n",
            "step 476 - loss 9.354464530944824 - moving ave loss 9.671003301650707\n",
            "step 477 - loss 8.944107055664062 - moving ave loss 9.598313677052042\n",
            "step 478 - loss 9.087152481079102 - moving ave loss 9.547197557454748\n",
            "step 479 - loss 9.0527925491333 - moving ave loss 9.497757056622603\n",
            "step 480 - loss 8.235841751098633 - moving ave loss 9.371565526070206\n",
            "step 481 - loss 7.978691101074219 - moving ave loss 9.232278083570609\n"
          ],
          "name": "stdout"
        },
        {
          "output_type": "stream",
          "text": [
            "step 482 - loss 8.589958190917969 - moving ave loss 9.168046094305346\n",
            "step 483 - loss 8.839642524719238 - moving ave loss 9.135205737346736\n",
            "step 484 - loss 9.003182411193848 - moving ave loss 9.122003404731446\n",
            "step 485 - loss 9.084506034851074 - moving ave loss 9.118253667743408\n",
            "step 486 - loss 8.492340087890625 - moving ave loss 9.05566230975813\n",
            "step 487 - loss 8.361469268798828 - moving ave loss 8.9862430056622\n",
            "step 488 - loss 8.645182609558105 - moving ave loss 8.95213696605179\n",
            "step 489 - loss 9.024619102478027 - moving ave loss 8.959385179694415\n",
            "step 490 - loss 7.984832286834717 - moving ave loss 8.861929890408446\n",
            "step 491 - loss 7.848462104797363 - moving ave loss 8.760583111847337\n",
            "step 492 - loss 8.80433464050293 - moving ave loss 8.764958264712897\n",
            "step 493 - loss 7.751082897186279 - moving ave loss 8.663570727960234\n",
            "step 494 - loss 8.494056701660156 - moving ave loss 8.646619325330226\n",
            "step 495 - loss 8.05905532836914 - moving ave loss 8.587862925634118\n",
            "step 496 - loss 7.393720626831055 - moving ave loss 8.468448695753812\n",
            "step 497 - loss 8.528888702392578 - moving ave loss 8.47449269641769\n",
            "step 498 - loss 8.206161499023438 - moving ave loss 8.447659576678264\n",
            "step 499 - loss 7.829800605773926 - moving ave loss 8.38587367958783\n",
            "step 500 - loss 8.290246963500977 - moving ave loss 8.376311007979144\n",
            "Checkpoint at step 500\n",
            "step 501 - loss 7.802280902862549 - moving ave loss 8.318907997467484\n",
            "step 502 - loss 7.847024440765381 - moving ave loss 8.271719641797274\n",
            "step 503 - loss 7.086766242980957 - moving ave loss 8.153224301915643\n",
            "step 504 - loss 7.4128594398498535 - moving ave loss 8.079187815709064\n",
            "step 505 - loss 7.513978004455566 - moving ave loss 8.022666834583713\n",
            "step 506 - loss 7.781940937042236 - moving ave loss 7.998594244829566\n",
            "step 507 - loss 7.2885236740112305 - moving ave loss 7.927587187747733\n",
            "step 508 - loss 7.240089416503906 - moving ave loss 7.858837410623351\n",
            "step 509 - loss 7.89393424987793 - moving ave loss 7.8623470945488085\n",
            "step 510 - loss 7.8597307205200195 - moving ave loss 7.8620854571459295\n",
            "step 511 - loss 8.102920532226562 - moving ave loss 7.886168964653993\n",
            "step 512 - loss 8.68681526184082 - moving ave loss 7.966233594372676\n",
            "step 513 - loss 7.327155113220215 - moving ave loss 7.90232574625743\n",
            "step 514 - loss 8.816838264465332 - moving ave loss 7.9937769980782205\n",
            "step 515 - loss 7.453004837036133 - moving ave loss 7.939699781974012\n",
            "step 516 - loss 7.686887264251709 - moving ave loss 7.9144185302017815\n",
            "step 517 - loss 7.4262213706970215 - moving ave loss 7.865598814251306\n",
            "step 518 - loss 7.706526756286621 - moving ave loss 7.849691608454838\n",
            "step 519 - loss 7.208901405334473 - moving ave loss 7.785612588142801\n",
            "step 520 - loss 7.134771347045898 - moving ave loss 7.72052846403311\n",
            "step 521 - loss 7.224478721618652 - moving ave loss 7.670923489791665\n",
            "step 522 - loss 6.742255687713623 - moving ave loss 7.578056709583861\n",
            "step 523 - loss 6.239748001098633 - moving ave loss 7.444225838735338\n",
            "step 524 - loss 6.647565841674805 - moving ave loss 7.364559839029285\n",
            "step 525 - loss 7.911571502685547 - moving ave loss 7.419261005394912\n",
            "step 526 - loss 7.235367774963379 - moving ave loss 7.400871682351759\n",
            "step 527 - loss 7.509685516357422 - moving ave loss 7.411753065752325\n",
            "step 528 - loss 7.892301559448242 - moving ave loss 7.459807915121917\n",
            "step 529 - loss 6.3547444343566895 - moving ave loss 7.349301567045395\n",
            "step 530 - loss 7.207578659057617 - moving ave loss 7.335129276246618\n",
            "step 531 - loss 6.876628875732422 - moving ave loss 7.289279236195198\n",
            "step 532 - loss 7.173973560333252 - moving ave loss 7.277748668609004\n",
            "step 533 - loss 6.609457015991211 - moving ave loss 7.210919503347224\n"
          ],
          "name": "stdout"
        },
        {
          "output_type": "stream",
          "text": [
            "step 534 - loss 6.782851219177246 - moving ave loss 7.168112674930226\n",
            "step 535 - loss 8.321635246276855 - moving ave loss 7.28346493206489\n",
            "step 536 - loss 6.137670993804932 - moving ave loss 7.168885538238894\n",
            "step 537 - loss 7.5231499671936035 - moving ave loss 7.204311981134365\n",
            "step 538 - loss 6.530488014221191 - moving ave loss 7.136929584443048\n",
            "step 539 - loss 6.0407209396362305 - moving ave loss 7.027308719962367\n",
            "step 540 - loss 6.950717926025391 - moving ave loss 7.0196496405686695\n",
            "step 541 - loss 6.8422393798828125 - moving ave loss 7.001908614500084\n",
            "step 542 - loss 7.450685024261475 - moving ave loss 7.046786255476223\n",
            "step 543 - loss 7.646228790283203 - moving ave loss 7.106730508956922\n",
            "step 544 - loss 6.80732536315918 - moving ave loss 7.0767899943771475\n",
            "step 545 - loss 7.637052536010742 - moving ave loss 7.132816248540507\n",
            "step 546 - loss 6.512834548950195 - moving ave loss 7.0708180785814765\n",
            "step 547 - loss 6.193289756774902 - moving ave loss 6.98306524640082\n",
            "step 548 - loss 6.133099555969238 - moving ave loss 6.898068677357662\n",
            "step 549 - loss 7.132906913757324 - moving ave loss 6.921552500997628\n",
            "step 550 - loss 6.175873279571533 - moving ave loss 6.846984578855019\n",
            "step 551 - loss 7.06528902053833 - moving ave loss 6.86881502302335\n",
            "step 552 - loss 6.481423377990723 - moving ave loss 6.830075858520088\n",
            "step 553 - loss 7.248350620269775 - moving ave loss 6.871903334695057\n",
            "step 554 - loss 6.2664995193481445 - moving ave loss 6.811362953160366\n",
            "step 555 - loss 5.7141547203063965 - moving ave loss 6.701642129874969\n",
            "step 556 - loss 6.021913528442383 - moving ave loss 6.633669269731711\n",
            "step 557 - loss 5.931658744812012 - moving ave loss 6.563468217239741\n",
            "step 558 - loss 5.963570594787598 - moving ave loss 6.503478454994527\n",
            "step 559 - loss 6.249154090881348 - moving ave loss 6.478046018583209\n",
            "step 560 - loss 5.7362189292907715 - moving ave loss 6.403863309653966\n",
            "step 561 - loss 6.742045879364014 - moving ave loss 6.4376815666249705\n",
            "step 562 - loss 6.911105632781982 - moving ave loss 6.485023973240672\n",
            "step 563 - loss 6.282939910888672 - moving ave loss 6.4648155670054726\n",
            "step 564 - loss 5.740259170532227 - moving ave loss 6.3923599273581475\n",
            "step 565 - loss 6.0988664627075195 - moving ave loss 6.363010580893085\n",
            "step 566 - loss 6.65460205078125 - moving ave loss 6.392169727881901\n",
            "step 567 - loss 6.4972076416015625 - moving ave loss 6.402673519253868\n",
            "step 568 - loss 6.020685195922852 - moving ave loss 6.364474686920767\n",
            "step 569 - loss 5.51167106628418 - moving ave loss 6.279194324857108\n",
            "step 570 - loss 6.83004903793335 - moving ave loss 6.334279796164732\n",
            "step 571 - loss 6.823484420776367 - moving ave loss 6.383200258625895\n",
            "step 572 - loss 6.208639621734619 - moving ave loss 6.3657441949367675\n",
            "step 573 - loss 6.209636211395264 - moving ave loss 6.350133396582617\n",
            "step 574 - loss 6.269695281982422 - moving ave loss 6.342089585122598\n",
            "step 575 - loss 5.61946964263916 - moving ave loss 6.269827590874254\n",
            "Finish 5 epoch(es)\n",
            "step 576 - loss 5.230240345001221 - moving ave loss 6.165868866286951\n",
            "step 577 - loss 6.060044288635254 - moving ave loss 6.155286408521782\n",
            "step 578 - loss 5.87989616394043 - moving ave loss 6.127747384063647\n",
            "step 579 - loss 5.607950210571289 - moving ave loss 6.075767666714412\n",
            "step 580 - loss 5.552424907684326 - moving ave loss 6.0234333908114035\n",
            "step 581 - loss 6.179884433746338 - moving ave loss 6.0390784951048975\n",
            "step 582 - loss 5.313694000244141 - moving ave loss 5.966540045618822\n",
            "step 583 - loss 5.568312644958496 - moving ave loss 5.926717305552789\n",
            "step 584 - loss 5.799981594085693 - moving ave loss 5.91404373440608\n",
            "step 585 - loss 5.521117210388184 - moving ave loss 5.87475108200429\n"
          ],
          "name": "stdout"
        },
        {
          "output_type": "stream",
          "text": [
            "step 586 - loss 5.491055488586426 - moving ave loss 5.836381522662505\n",
            "step 587 - loss 6.000425338745117 - moving ave loss 5.852785904270767\n",
            "step 588 - loss 5.741231918334961 - moving ave loss 5.841630505677186\n",
            "step 589 - loss 5.223921775817871 - moving ave loss 5.779859632691255\n",
            "step 590 - loss 6.803142547607422 - moving ave loss 5.882187924182872\n",
            "step 591 - loss 5.615650653839111 - moving ave loss 5.855534197148496\n",
            "step 592 - loss 6.51251220703125 - moving ave loss 5.921231998136772\n",
            "step 593 - loss 6.09819221496582 - moving ave loss 5.938928019819677\n",
            "step 594 - loss 7.60511589050293 - moving ave loss 6.105546806888003\n",
            "step 595 - loss 6.536067008972168 - moving ave loss 6.14859882709642\n",
            "step 596 - loss 6.030884265899658 - moving ave loss 6.136827370976744\n",
            "step 597 - loss 5.629429340362549 - moving ave loss 6.086087567915325\n",
            "step 598 - loss 5.289708137512207 - moving ave loss 6.006449624875013\n",
            "step 599 - loss 5.157796859741211 - moving ave loss 5.921584348361633\n",
            "step 600 - loss 5.956282615661621 - moving ave loss 5.925054175091632\n",
            "step 601 - loss 5.158522605895996 - moving ave loss 5.848401018172068\n",
            "step 602 - loss 6.235372543334961 - moving ave loss 5.887098170688358\n",
            "step 603 - loss 5.437321662902832 - moving ave loss 5.842120519909805\n",
            "step 604 - loss 5.620842933654785 - moving ave loss 5.819992761284303\n",
            "step 605 - loss 5.366805076599121 - moving ave loss 5.774673992815785\n",
            "step 606 - loss 7.177550315856934 - moving ave loss 5.914961625119901\n",
            "step 607 - loss 5.5928955078125 - moving ave loss 5.88275501338916\n",
            "step 608 - loss 5.850610733032227 - moving ave loss 5.8795405853534675\n",
            "step 609 - loss 5.229003429412842 - moving ave loss 5.814486869759405\n",
            "step 610 - loss 4.800859451293945 - moving ave loss 5.7131241279128595\n",
            "step 611 - loss 5.6221513748168945 - moving ave loss 5.704026852603263\n",
            "step 612 - loss 5.190366744995117 - moving ave loss 5.652660841842449\n",
            "step 613 - loss 5.3375091552734375 - moving ave loss 5.6211456731855485\n",
            "step 614 - loss 5.087867736816406 - moving ave loss 5.567817879548634\n",
            "step 615 - loss 6.138214111328125 - moving ave loss 5.6248575027265835\n",
            "step 616 - loss 4.930804252624512 - moving ave loss 5.555452177716377\n",
            "step 617 - loss 5.191194534301758 - moving ave loss 5.519026413374915\n",
            "step 618 - loss 4.429873466491699 - moving ave loss 5.410111118686594\n",
            "step 619 - loss 5.199499130249023 - moving ave loss 5.3890499198428365\n",
            "step 620 - loss 5.179427146911621 - moving ave loss 5.368087642549715\n",
            "step 621 - loss 5.507593154907227 - moving ave loss 5.382038193785466\n",
            "step 622 - loss 5.555521011352539 - moving ave loss 5.399386475542173\n",
            "step 623 - loss 5.037380218505859 - moving ave loss 5.363185849838541\n",
            "step 624 - loss 5.2311906814575195 - moving ave loss 5.349986333000439\n",
            "step 625 - loss 6.141416072845459 - moving ave loss 5.429129306984942\n",
            "Checkpoint at step 625\n",
            "step 626 - loss 5.118410587310791 - moving ave loss 5.398057435017527\n",
            "step 627 - loss 5.324342727661133 - moving ave loss 5.390685964281888\n",
            "step 628 - loss 4.484847545623779 - moving ave loss 5.300102122416076\n",
            "step 629 - loss 4.407615661621094 - moving ave loss 5.210853476336578\n",
            "step 630 - loss 5.3567376136779785 - moving ave loss 5.2254418900707185\n",
            "step 631 - loss 4.41559362411499 - moving ave loss 5.144457063475145\n",
            "step 632 - loss 4.841702461242676 - moving ave loss 5.1141816032518985\n",
            "step 633 - loss 5.771846294403076 - moving ave loss 5.179948072367017\n",
            "step 634 - loss 4.01728630065918 - moving ave loss 5.0636818951962335\n",
            "step 635 - loss 5.131244659423828 - moving ave loss 5.070438171618993\n",
            "step 636 - loss 5.263803482055664 - moving ave loss 5.08977470266266\n",
            "step 637 - loss 4.704899787902832 - moving ave loss 5.051287211186677\n"
          ],
          "name": "stdout"
        },
        {
          "output_type": "stream",
          "text": [
            "step 638 - loss 4.501010894775391 - moving ave loss 4.996259579545549\n",
            "step 639 - loss 4.779644966125488 - moving ave loss 4.974598118203542\n",
            "step 640 - loss 5.168516635894775 - moving ave loss 4.993989969972666\n",
            "step 641 - loss 4.889589309692383 - moving ave loss 4.983549903944637\n",
            "step 642 - loss 4.722987174987793 - moving ave loss 4.957493631048953\n",
            "step 643 - loss 4.728821754455566 - moving ave loss 4.9346264433896145\n",
            "step 644 - loss 4.449607849121094 - moving ave loss 4.886124583962763\n",
            "step 645 - loss 5.129215717315674 - moving ave loss 4.910433697298054\n",
            "step 646 - loss 4.8428497314453125 - moving ave loss 4.90367530071278\n",
            "step 647 - loss 4.510533809661865 - moving ave loss 4.864361151607689\n",
            "step 648 - loss 4.863037109375 - moving ave loss 4.864228747384421\n",
            "step 649 - loss 5.169476509094238 - moving ave loss 4.894753523555403\n",
            "step 650 - loss 5.6982622146606445 - moving ave loss 4.975104392665927\n",
            "step 651 - loss 5.512119293212891 - moving ave loss 5.028805882720623\n",
            "step 652 - loss 5.115678310394287 - moving ave loss 5.037493125487989\n",
            "step 653 - loss 3.9558255672454834 - moving ave loss 4.929326369663739\n",
            "step 654 - loss 4.833140850067139 - moving ave loss 4.919707817704079\n",
            "step 655 - loss 4.1084442138671875 - moving ave loss 4.83858145732039\n",
            "step 656 - loss 5.100572109222412 - moving ave loss 4.864780522510593\n",
            "step 657 - loss 4.702601909637451 - moving ave loss 4.848562661223278\n",
            "step 658 - loss 5.030606269836426 - moving ave loss 4.866767022084593\n",
            "step 659 - loss 4.328976631164551 - moving ave loss 4.812987982992588\n",
            "step 660 - loss 4.731370449066162 - moving ave loss 4.804826229599946\n",
            "step 661 - loss 5.173018455505371 - moving ave loss 4.841645452190489\n",
            "step 662 - loss 4.640974044799805 - moving ave loss 4.821578311451422\n",
            "step 663 - loss 4.773815631866455 - moving ave loss 4.816802043492925\n",
            "step 664 - loss 4.812799453735352 - moving ave loss 4.816401784517168\n",
            "step 665 - loss 4.534789085388184 - moving ave loss 4.788240514604269\n",
            "step 666 - loss 4.630404472351074 - moving ave loss 4.772456910378949\n",
            "step 667 - loss 4.092469215393066 - moving ave loss 4.704458140880361\n",
            "step 668 - loss 5.340254783630371 - moving ave loss 4.7680378051553625\n",
            "step 669 - loss 5.780001640319824 - moving ave loss 4.8692341886718085\n",
            "step 670 - loss 5.102183818817139 - moving ave loss 4.892529151686341\n",
            "step 671 - loss 5.790431976318359 - moving ave loss 4.982319434149543\n",
            "step 672 - loss 5.670113563537598 - moving ave loss 5.051098847088349\n",
            "step 673 - loss 5.33304500579834 - moving ave loss 5.079293462959348\n",
            "step 674 - loss 4.968421936035156 - moving ave loss 5.068206310266929\n",
            "step 675 - loss 4.257769584655762 - moving ave loss 4.987162637705812\n",
            "step 676 - loss 5.1042375564575195 - moving ave loss 4.9988701295809825\n",
            "step 677 - loss 4.251857757568359 - moving ave loss 4.92416889237972\n",
            "step 678 - loss 4.789335250854492 - moving ave loss 4.910685528227198\n",
            "step 679 - loss 4.352863788604736 - moving ave loss 4.854903354264952\n",
            "step 680 - loss 5.643799781799316 - moving ave loss 4.933792997018388\n",
            "step 681 - loss 4.82438850402832 - moving ave loss 4.922852547719382\n",
            "step 682 - loss 4.723588466644287 - moving ave loss 4.902926139611873\n",
            "step 683 - loss 5.6702775955200195 - moving ave loss 4.979661285202688\n",
            "step 684 - loss 3.7232937812805176 - moving ave loss 4.854024534810471\n",
            "step 685 - loss 5.022502422332764 - moving ave loss 4.8708723235627005\n",
            "step 686 - loss 4.502785682678223 - moving ave loss 4.8340636594742525\n",
            "step 687 - loss 4.758111476898193 - moving ave loss 4.826468441216647\n",
            "step 688 - loss 4.252521514892578 - moving ave loss 4.7690737485842405\n",
            "step 689 - loss 4.08811616897583 - moving ave loss 4.700977990623399\n"
          ],
          "name": "stdout"
        },
        {
          "output_type": "stream",
          "text": [
            "step 690 - loss 4.462174892425537 - moving ave loss 4.677097680803613\r\n",
            "Finish 6 epoch(es)\n",
            "step 691 - loss 4.346133708953857 - moving ave loss 4.644001283618638\n",
            "step 692 - loss 3.842849016189575 - moving ave loss 4.563886056875732\n",
            "step 693 - loss 4.336170196533203 - moving ave loss 4.541114470841479\n",
            "step 694 - loss 4.480500221252441 - moving ave loss 4.5350530458825755\n",
            "step 695 - loss 4.94653844833374 - moving ave loss 4.576201586127692\n",
            "step 696 - loss 3.610797882080078 - moving ave loss 4.47966121572293\n",
            "step 697 - loss 4.966435432434082 - moving ave loss 4.528338637394046\n",
            "step 698 - loss 4.116355895996094 - moving ave loss 4.487140363254251\n",
            "step 699 - loss 4.520376205444336 - moving ave loss 4.490463947473259\n",
            "step 700 - loss 3.6173577308654785 - moving ave loss 4.4031533258124815\n",
            "step 701 - loss 4.4776411056518555 - moving ave loss 4.410602103796419\n",
            "step 702 - loss 4.046942710876465 - moving ave loss 4.374236164504424\n",
            "step 703 - loss 4.028005599975586 - moving ave loss 4.339613108051541\n",
            "step 704 - loss 3.7274718284606934 - moving ave loss 4.278398980092456\n",
            "step 705 - loss 3.699019432067871 - moving ave loss 4.220461025289998\n",
            "step 706 - loss 3.9197468757629395 - moving ave loss 4.1903896103372915\n",
            "step 707 - loss 4.060987949371338 - moving ave loss 4.177449444240696\n",
            "step 708 - loss 4.177947998046875 - moving ave loss 4.177499299621314\n",
            "step 709 - loss 4.089226722717285 - moving ave loss 4.168672041930911\n",
            "step 710 - loss 4.053683280944824 - moving ave loss 4.157173165832303\n",
            "step 711 - loss 4.107153415679932 - moving ave loss 4.152171190817066\n",
            "step 712 - loss 3.9838504791259766 - moving ave loss 4.135339119647957\n",
            "step 713 - loss 4.2630615234375 - moving ave loss 4.1481113600269115\n",
            "step 714 - loss 4.708468437194824 - moving ave loss 4.204147067743703\n",
            "step 715 - loss 4.506966590881348 - moving ave loss 4.234429020057467\n",
            "step 716 - loss 4.789760112762451 - moving ave loss 4.289962129327966\n",
            "step 717 - loss 3.4767658710479736 - moving ave loss 4.208642503499967\n",
            "step 718 - loss 4.0902581214904785 - moving ave loss 4.196804065299019\n",
            "step 719 - loss 3.9944069385528564 - moving ave loss 4.1765643526244025\n",
            "step 720 - loss 3.6709437370300293 - moving ave loss 4.126002291064965\n",
            "step 721 - loss 4.346698760986328 - moving ave loss 4.148071938057101\n",
            "step 722 - loss 4.384251594543457 - moving ave loss 4.171689903705737\n",
            "step 723 - loss 5.441451072692871 - moving ave loss 4.2986660206044505\n",
            "step 724 - loss 3.971092939376831 - moving ave loss 4.265908712481688\n",
            "step 725 - loss 4.070551872253418 - moving ave loss 4.246373028458861\n",
            "step 726 - loss 4.430540084838867 - moving ave loss 4.264789734096862\n",
            "step 727 - loss 3.2250454425811768 - moving ave loss 4.160815304945293\n",
            "step 728 - loss 4.302579879760742 - moving ave loss 4.1749917624268384\n",
            "step 729 - loss 4.783583164215088 - moving ave loss 4.235850902605663\n",
            "step 730 - loss 4.987946510314941 - moving ave loss 4.311060463376591\n",
            "step 731 - loss 3.4332401752471924 - moving ave loss 4.223278434563651\n",
            "step 732 - loss 6.399412155151367 - moving ave loss 4.440891806622423\n",
            "step 733 - loss 3.575906753540039 - moving ave loss 4.354393301314184\n",
            "step 734 - loss 5.600073337554932 - moving ave loss 4.4789613049382595\n",
            "step 735 - loss 3.695054054260254 - moving ave loss 4.400570579870459\n",
            "step 736 - loss 3.7328786849975586 - moving ave loss 4.33380139038317\n",
            "step 737 - loss 4.430791854858398 - moving ave loss 4.343500436830692\n",
            "step 738 - loss 3.780329704284668 - moving ave loss 4.28718336357609\n",
            "step 739 - loss 4.971209526062012 - moving ave loss 4.355585979824682\n",
            "step 740 - loss 3.9123215675354004 - moving ave loss 4.311259538595754\n",
            "step 741 - loss 4.60418701171875 - moving ave loss 4.340552285908053\n"
          ],
          "name": "stdout"
        },
        {
          "output_type": "stream",
          "text": [
            "step 742 - loss 3.7368545532226562 - moving ave loss 4.280182512639514\n",
            "step 743 - loss 4.69517707824707 - moving ave loss 4.32168196920027\n",
            "step 744 - loss 4.178159713745117 - moving ave loss 4.307329743654755\n",
            "step 745 - loss 5.243420600891113 - moving ave loss 4.400938829378391\n",
            "step 746 - loss 3.502861261367798 - moving ave loss 4.311131072577332\n",
            "step 747 - loss 3.941338539123535 - moving ave loss 4.274151819231952\n",
            "step 748 - loss 4.223304748535156 - moving ave loss 4.269067112162273\n",
            "step 749 - loss 4.748455047607422 - moving ave loss 4.317005905706788\n",
            "step 750 - loss 4.299050807952881 - moving ave loss 4.315210395931397\n",
            "Checkpoint at step 750\n",
            "step 751 - loss 4.94105339050293 - moving ave loss 4.377794695388551\n",
            "step 752 - loss 3.801456928253174 - moving ave loss 4.320160918675014\n",
            "step 753 - loss 3.696009874343872 - moving ave loss 4.2577458142419\n",
            "step 754 - loss 3.8579373359680176 - moving ave loss 4.217764966414512\n",
            "step 755 - loss 3.524444103240967 - moving ave loss 4.1484328800971575\n",
            "step 756 - loss 4.876440048217773 - moving ave loss 4.22123359690922\n",
            "step 757 - loss 4.76866340637207 - moving ave loss 4.275976577855505\n",
            "step 758 - loss 4.781991481781006 - moving ave loss 4.326578068248055\n",
            "step 759 - loss 3.2697362899780273 - moving ave loss 4.220893890421052\n",
            "step 760 - loss 5.060349941253662 - moving ave loss 4.304839495504313\n",
            "step 761 - loss 4.378918170928955 - moving ave loss 4.312247363046778\n",
            "step 762 - loss 4.726242542266846 - moving ave loss 4.3536468809687845\n",
            "step 763 - loss 4.687529563903809 - moving ave loss 4.387035149262287\n",
            "step 764 - loss 4.3230791091918945 - moving ave loss 4.380639545255248\n",
            "step 765 - loss 4.241777420043945 - moving ave loss 4.366753332734118\n",
            "step 766 - loss 3.6346631050109863 - moving ave loss 4.2935443099618045\n",
            "step 767 - loss 4.359062194824219 - moving ave loss 4.300096098448046\n",
            "step 768 - loss 4.547147274017334 - moving ave loss 4.324801216004975\n",
            "step 769 - loss 3.9187991619110107 - moving ave loss 4.284201010595579\n",
            "step 770 - loss 4.2653889656066895 - moving ave loss 4.28231980609669\n",
            "step 771 - loss 4.225891590118408 - moving ave loss 4.276676984498862\n",
            "step 772 - loss 4.864826202392578 - moving ave loss 4.335491906288234\n",
            "step 773 - loss 4.156023979187012 - moving ave loss 4.317545113578112\n",
            "step 774 - loss 3.9953274726867676 - moving ave loss 4.285323349488978\n",
            "step 775 - loss 3.98136830329895 - moving ave loss 4.254927844869975\n",
            "step 776 - loss 5.5566840171813965 - moving ave loss 4.385103462101117\n",
            "step 777 - loss 2.9995012283325195 - moving ave loss 4.246543238724257\n",
            "step 778 - loss 3.2867302894592285 - moving ave loss 4.150561943797754\n",
            "step 779 - loss 6.232569694519043 - moving ave loss 4.358762718869883\n",
            "step 780 - loss 3.5465550422668457 - moving ave loss 4.27754195120958\n",
            "step 781 - loss 3.364926815032959 - moving ave loss 4.186280437591918\n",
            "step 782 - loss 4.52234411239624 - moving ave loss 4.219886805072351\n",
            "step 783 - loss 3.4529895782470703 - moving ave loss 4.143197082389823\n",
            "step 784 - loss 3.9954893589019775 - moving ave loss 4.128426310041038\n",
            "step 785 - loss 3.8450069427490234 - moving ave loss 4.100084373311837\n",
            "step 786 - loss 4.496129989624023 - moving ave loss 4.139688934943056\n",
            "step 787 - loss 4.1681108474731445 - moving ave loss 4.142531126196065\n",
            "step 788 - loss 4.0367889404296875 - moving ave loss 4.131956907619427\n",
            "step 789 - loss 4.175393104553223 - moving ave loss 4.136300527312807\n",
            "step 790 - loss 3.569969415664673 - moving ave loss 4.079667416147994\n",
            "step 791 - loss 3.6608996391296387 - moving ave loss 4.037790638446158\n",
            "step 792 - loss 3.829235076904297 - moving ave loss 4.0169350822919725\n",
            "step 793 - loss 4.786686420440674 - moving ave loss 4.093910216106843\n"
          ],
          "name": "stdout"
        },
        {
          "output_type": "stream",
          "text": [
            "step 794 - loss 3.9679172039031982 - moving ave loss 4.081310914886479\n",
            "step 795 - loss 4.132379531860352 - moving ave loss 4.0864177765838665\n",
            "step 796 - loss 4.148072719573975 - moving ave loss 4.092583270882877\n",
            "step 797 - loss 4.928312301635742 - moving ave loss 4.176156173958164\n",
            "step 798 - loss 3.932201623916626 - moving ave loss 4.15176071895401\n",
            "step 799 - loss 3.306823968887329 - moving ave loss 4.067267043947343\n",
            "step 800 - loss 4.935148239135742 - moving ave loss 4.154055163466183\n",
            "step 801 - loss 5.351520538330078 - moving ave loss 4.273801700952573\n",
            "step 802 - loss 4.5469536781311035 - moving ave loss 4.3011168986704265\n",
            "step 803 - loss 2.8327953815460205 - moving ave loss 4.154284746957986\n",
            "step 804 - loss 3.1200757026672363 - moving ave loss 4.050863842528911\n",
            "step 805 - loss 3.7615227699279785 - moving ave loss 4.021929735268818\n",
            "Finish 7 epoch(es)\n",
            "step 806 - loss 4.368487358093262 - moving ave loss 4.0565854975512625\n",
            "step 807 - loss 3.417781114578247 - moving ave loss 3.9927050592539612\n",
            "step 808 - loss 4.2957916259765625 - moving ave loss 4.023013715926221\n",
            "step 809 - loss 4.3935089111328125 - moving ave loss 4.06006323544688\n",
            "step 810 - loss 4.49294376373291 - moving ave loss 4.1033512882754835\n",
            "step 811 - loss 3.5575742721557617 - moving ave loss 4.048773586663511\n",
            "step 812 - loss 3.686361312866211 - moving ave loss 4.012532359283782\n",
            "step 813 - loss 3.853095293045044 - moving ave loss 3.996588652659908\n",
            "step 814 - loss 4.651124000549316 - moving ave loss 4.062042187448848\n",
            "step 815 - loss 3.7433855533599854 - moving ave loss 4.0301765240399625\n",
            "step 816 - loss 3.5747640132904053 - moving ave loss 3.984635272965007\n",
            "step 817 - loss 3.966454029083252 - moving ave loss 3.9828171485768316\n",
            "step 818 - loss 3.25453519821167 - moving ave loss 3.9099889535403154\n",
            "step 819 - loss 5.021063804626465 - moving ave loss 4.0210964386489305\n",
            "step 820 - loss 4.2991862297058105 - moving ave loss 4.048905417754619\n",
            "step 821 - loss 3.1151680946350098 - moving ave loss 3.955531685442658\n",
            "step 822 - loss 4.412240028381348 - moving ave loss 4.001202519736527\n",
            "step 823 - loss 4.531939506530762 - moving ave loss 4.054276218415951\n",
            "step 824 - loss 3.6700305938720703 - moving ave loss 4.015851655961563\n",
            "step 825 - loss 4.25153923034668 - moving ave loss 4.039420413400075\n",
            "step 826 - loss 3.442291498184204 - moving ave loss 3.9797075218784883\n",
            "step 827 - loss 5.20722770690918 - moving ave loss 4.102459540381558\n",
            "step 828 - loss 3.2701776027679443 - moving ave loss 4.019231346620196\n",
            "step 829 - loss 3.774962902069092 - moving ave loss 3.9948045021650858\n",
            "step 830 - loss 4.746921539306641 - moving ave loss 4.0700162058792415\n",
            "step 831 - loss 4.475046634674072 - moving ave loss 4.110519248758725\n",
            "step 832 - loss 3.081341028213501 - moving ave loss 4.007601426704203\n",
            "step 833 - loss 3.59639835357666 - moving ave loss 3.9664811193914487\n",
            "step 834 - loss 4.070479869842529 - moving ave loss 3.9768809944365566\n",
            "step 835 - loss 4.187296390533447 - moving ave loss 3.997922534046246\n",
            "step 836 - loss 3.3416121006011963 - moving ave loss 3.9322914907017408\n",
            "step 837 - loss 5.028569221496582 - moving ave loss 4.041919263781225\n",
            "step 838 - loss 3.4270989894866943 - moving ave loss 3.980437236351772\n",
            "step 839 - loss 4.766733169555664 - moving ave loss 4.059066829672162\n",
            "step 840 - loss 3.4592795372009277 - moving ave loss 3.9990881004250385\n",
            "step 841 - loss 3.465874195098877 - moving ave loss 3.9457667098924225\n",
            "step 842 - loss 3.8333139419555664 - moving ave loss 3.934521433098737\n",
            "step 843 - loss 4.656943321228027 - moving ave loss 4.0067636219116665\n",
            "step 844 - loss 3.916442394256592 - moving ave loss 3.997731499146159\n",
            "step 845 - loss 4.024981498718262 - moving ave loss 4.000456499103369\n"
          ],
          "name": "stdout"
        },
        {
          "output_type": "stream",
          "text": [
            "step 846 - loss 3.928131103515625 - moving ave loss 3.993223959544595\n",
            "step 847 - loss 3.0369672775268555 - moving ave loss 3.897598291342821\n",
            "step 848 - loss 3.480529308319092 - moving ave loss 3.8558913930404484\n",
            "step 849 - loss 3.48614501953125 - moving ave loss 3.8189167556895285\n",
            "step 850 - loss 3.890190839767456 - moving ave loss 3.8260441640973215\n",
            "step 851 - loss 3.141956090927124 - moving ave loss 3.757635356780302\n",
            "step 852 - loss 4.204357147216797 - moving ave loss 3.8023075358239513\n",
            "step 853 - loss 3.514097213745117 - moving ave loss 3.773486503616068\n",
            "step 854 - loss 3.5333123207092285 - moving ave loss 3.749469085325384\n",
            "step 855 - loss 3.112990379333496 - moving ave loss 3.6858212147261953\n",
            "step 856 - loss 5.354396820068359 - moving ave loss 3.852678775260412\n",
            "step 857 - loss 3.6602940559387207 - moving ave loss 3.833440303328243\n",
            "step 858 - loss 2.9059574604034424 - moving ave loss 3.740692019035763\n",
            "step 859 - loss 3.537264823913574 - moving ave loss 3.7203492995235443\n",
            "step 860 - loss 3.0953402519226074 - moving ave loss 3.657848394763451\n",
            "step 861 - loss 4.446774482727051 - moving ave loss 3.736741003559811\n",
            "step 862 - loss 3.523585319519043 - moving ave loss 3.7154254351557343\n",
            "step 863 - loss 3.497670888900757 - moving ave loss 3.6936499805302367\n",
            "step 864 - loss 3.437490940093994 - moving ave loss 3.668034076486612\n",
            "step 865 - loss 3.595034599304199 - moving ave loss 3.6607341287683712\n",
            "step 866 - loss 4.107602119445801 - moving ave loss 3.705420927836114\n",
            "step 867 - loss 3.092423439025879 - moving ave loss 3.6441211789550905\n",
            "step 868 - loss 3.815502643585205 - moving ave loss 3.661259325418102\n",
            "step 869 - loss 4.443789482116699 - moving ave loss 3.739512341087962\n",
            "step 870 - loss 4.350935935974121 - moving ave loss 3.800654700576578\n",
            "step 871 - loss 4.50671911239624 - moving ave loss 3.871261141758544\n",
            "step 872 - loss 4.212777614593506 - moving ave loss 3.9054127890420403\n",
            "step 873 - loss 3.856511354446411 - moving ave loss 3.9005226455824773\n",
            "step 874 - loss 4.639614582061768 - moving ave loss 3.9744318392304065\n",
            "step 875 - loss 3.437506675720215 - moving ave loss 3.9207393228793874\n",
            "Checkpoint at step 875\n",
            "step 876 - loss 3.612116813659668 - moving ave loss 3.8898770719574154\n",
            "step 877 - loss 3.000661611557007 - moving ave loss 3.8009555259173746\n",
            "step 878 - loss 3.046983003616333 - moving ave loss 3.7255582736872705\n",
            "step 879 - loss 3.1985676288604736 - moving ave loss 3.672859209204591\n",
            "step 880 - loss 4.404323577880859 - moving ave loss 3.746005646072218\n",
            "step 881 - loss 3.486034870147705 - moving ave loss 3.720008568479767\n",
            "step 882 - loss 3.726255416870117 - moving ave loss 3.7206332533188022\n",
            "step 883 - loss 4.4555277824401855 - moving ave loss 3.7941227062309406\n",
            "step 884 - loss 3.789522409439087 - moving ave loss 3.7936626765517554\n",
            "step 885 - loss 4.058703422546387 - moving ave loss 3.8201667511512185\n",
            "step 886 - loss 3.3943686485290527 - moving ave loss 3.777586940889002\n",
            "step 887 - loss 4.309192657470703 - moving ave loss 3.8307475125471724\n",
            "step 888 - loss 3.594388008117676 - moving ave loss 3.8071115621042226\n",
            "step 889 - loss 3.280956745147705 - moving ave loss 3.754496080408571\n",
            "step 890 - loss 4.084921360015869 - moving ave loss 3.7875386083693012\n",
            "step 891 - loss 3.8537144660949707 - moving ave loss 3.7941561941418684\n",
            "step 892 - loss 3.2054548263549805 - moving ave loss 3.7352860573631794\n",
            "step 893 - loss 3.8227462768554688 - moving ave loss 3.7440320793124084\n",
            "step 894 - loss 3.0308938026428223 - moving ave loss 3.67271825164545\n",
            "step 895 - loss 4.009987831115723 - moving ave loss 3.7064452095924776\n",
            "step 896 - loss 3.766019582748413 - moving ave loss 3.712402646908071\n",
            "step 897 - loss 4.173376560211182 - moving ave loss 3.7585000382383824\n"
          ],
          "name": "stdout"
        },
        {
          "output_type": "stream",
          "text": [
            "step 898 - loss 2.911904811859131 - moving ave loss 3.673840515600457\n",
            "step 899 - loss 4.160126686096191 - moving ave loss 3.7224691326500308\n",
            "step 900 - loss 3.8525102138519287 - moving ave loss 3.735473240770221\n",
            "step 901 - loss 3.5463571548461914 - moving ave loss 3.716561632177818\n",
            "step 902 - loss 4.094635009765625 - moving ave loss 3.754368969936599\n",
            "step 903 - loss 2.6891696453094482 - moving ave loss 3.647849037473884\n",
            "step 904 - loss 2.8730382919311523 - moving ave loss 3.570367962919611\n",
            "step 905 - loss 3.0313754081726074 - moving ave loss 3.5164687074449104\n",
            "step 906 - loss 3.2824325561523438 - moving ave loss 3.493065092315654\n",
            "step 907 - loss 3.539628505706787 - moving ave loss 3.4977214336547675\n",
            "step 908 - loss 4.858152389526367 - moving ave loss 3.633764529241928\n",
            "step 909 - loss 3.459402561187744 - moving ave loss 3.6163283324365096\n",
            "step 910 - loss 4.873994827270508 - moving ave loss 3.7420949819199096\n",
            "step 911 - loss 4.023754119873047 - moving ave loss 3.7702608957152237\n",
            "step 912 - loss 3.4101877212524414 - moving ave loss 3.7342535782689454\n",
            "step 913 - loss 3.916879653930664 - moving ave loss 3.7525161858351175\n",
            "step 914 - loss 3.928220748901367 - moving ave loss 3.7700866421417425\n",
            "step 915 - loss 4.450644493103027 - moving ave loss 3.838142427237871\n",
            "step 916 - loss 4.06535530090332 - moving ave loss 3.860863714604416\n",
            "step 917 - loss 3.2719030380249023 - moving ave loss 3.8019676469464643\n",
            "step 918 - loss 4.005395889282227 - moving ave loss 3.8223104711800406\n",
            "step 919 - loss 4.564000129699707 - moving ave loss 3.8964794370320073\n",
            "step 920 - loss 3.188559055328369 - moving ave loss 3.8256873988616436\n",
            "Finish 8 epoch(es)\n",
            "step 921 - loss 3.404038906097412 - moving ave loss 3.7835225495852205\n",
            "step 922 - loss 4.115041732788086 - moving ave loss 3.816674467905507\n",
            "step 923 - loss 2.7955210208892822 - moving ave loss 3.714559123203885\n",
            "step 924 - loss 3.9811909198760986 - moving ave loss 3.7412223028711065\n",
            "step 925 - loss 3.973707437515259 - moving ave loss 3.764470816335522\n",
            "step 926 - loss 2.890315055847168 - moving ave loss 3.6770552402866867\n",
            "step 927 - loss 3.0251917839050293 - moving ave loss 3.6118688946485213\n",
            "step 928 - loss 3.292860507965088 - moving ave loss 3.5799680559801783\n",
            "step 929 - loss 4.069220066070557 - moving ave loss 3.6288932569892163\n",
            "step 930 - loss 4.300220489501953 - moving ave loss 3.6960259802404902\n",
            "step 931 - loss 2.6857566833496094 - moving ave loss 3.5949990505514022\n",
            "step 932 - loss 3.1155378818511963 - moving ave loss 3.547052933681382\n",
            "step 933 - loss 4.160037994384766 - moving ave loss 3.6083514397517202\n",
            "step 934 - loss 4.248068809509277 - moving ave loss 3.6723231767274758\n",
            "step 935 - loss 3.471034049987793 - moving ave loss 3.6521942640535077\n",
            "step 936 - loss 3.3448495864868164 - moving ave loss 3.6214597962968385\n",
            "step 937 - loss 4.4327192306518555 - moving ave loss 3.7025857397323403\n",
            "step 938 - loss 3.900003433227539 - moving ave loss 3.72232750908186\n",
            "step 939 - loss 5.356684684753418 - moving ave loss 3.8857632266490163\n",
            "step 940 - loss 3.222452163696289 - moving ave loss 3.819432120353744\n",
            "step 941 - loss 3.6128902435302734 - moving ave loss 3.798777932671397\n",
            "step 942 - loss 3.319207191467285 - moving ave loss 3.750820858550986\n",
            "step 943 - loss 3.0486974716186523 - moving ave loss 3.6806085198577527\n",
            "step 944 - loss 4.0418195724487305 - moving ave loss 3.7167296251168507\n",
            "step 945 - loss 5.332884788513184 - moving ave loss 3.8783451414564842\n",
            "step 946 - loss 4.203993797302246 - moving ave loss 3.9109100070410605\n",
            "step 947 - loss 4.184996604919434 - moving ave loss 3.938318666828898\n",
            "step 948 - loss 3.939676284790039 - moving ave loss 3.938454428625012\n",
            "step 949 - loss 3.3919949531555176 - moving ave loss 3.883808481078063\n"
          ],
          "name": "stdout"
        },
        {
          "output_type": "stream",
          "text": [
            "step 950 - loss 2.926638126373291 - moving ave loss 3.7880914456075856\n",
            "step 951 - loss 2.9573285579681396 - moving ave loss 3.705015156843641\n",
            "step 952 - loss 4.921298027038574 - moving ave loss 3.8266434438631345\n",
            "step 953 - loss 3.408825397491455 - moving ave loss 3.7848616392259666\n",
            "step 954 - loss 3.7883973121643066 - moving ave loss 3.785215206519801\n",
            "step 955 - loss 3.097829580307007 - moving ave loss 3.7164766438985217\n",
            "step 956 - loss 3.429170608520508 - moving ave loss 3.6877460403607203\n",
            "step 957 - loss 3.700260639190674 - moving ave loss 3.688997500243716\n",
            "step 958 - loss 3.3904194831848145 - moving ave loss 3.659139698537826\n",
            "step 959 - loss 2.475013256072998 - moving ave loss 3.5407270542913434\n",
            "step 960 - loss 2.703108072280884 - moving ave loss 3.4569651560902974\n",
            "step 961 - loss 2.9427640438079834 - moving ave loss 3.405545044862066\n",
            "step 962 - loss 3.261307954788208 - moving ave loss 3.39112133585468\n",
            "step 963 - loss 3.154482126235962 - moving ave loss 3.367457414892808\n",
            "step 964 - loss 3.4492697715759277 - moving ave loss 3.37563865056112\n",
            "step 965 - loss 3.0774965286254883 - moving ave loss 3.345824438367557\n",
            "step 966 - loss 3.357985019683838 - moving ave loss 3.347040496499185\n",
            "step 967 - loss 3.93613862991333 - moving ave loss 3.4059503098406\n",
            "step 968 - loss 3.842067241668701 - moving ave loss 3.4495620030234107\n",
            "step 969 - loss 3.95737361907959 - moving ave loss 3.5003431646290286\n",
            "step 970 - loss 4.100331783294678 - moving ave loss 3.5603420264955936\n",
            "step 971 - loss 2.6693408489227295 - moving ave loss 3.4712419087383073\n",
            "step 972 - loss 2.88832950592041 - moving ave loss 3.4129506684565176\n",
            "step 973 - loss 4.2494940757751465 - moving ave loss 3.4966050091883805\n",
            "step 974 - loss 3.146101474761963 - moving ave loss 3.4615546557457386\n",
            "step 975 - loss 4.07761287689209 - moving ave loss 3.523160477860374\n",
            "step 976 - loss 3.3595714569091797 - moving ave loss 3.5068015757652544\n",
            "step 977 - loss 3.270270824432373 - moving ave loss 3.4831485006319665\n",
            "step 978 - loss 4.166262626647949 - moving ave loss 3.5514599132335647\n",
            "step 979 - loss 3.308419704437256 - moving ave loss 3.527155892353934\n",
            "step 980 - loss 3.1097874641418457 - moving ave loss 3.4854190495327253\n",
            "step 981 - loss 3.3976283073425293 - moving ave loss 3.476639975313706\n",
            "step 982 - loss 3.3209900856018066 - moving ave loss 3.461074986342516\n",
            "step 983 - loss 3.5737457275390625 - moving ave loss 3.4723420604621706\n",
            "step 984 - loss 4.266307353973389 - moving ave loss 3.5517385898132927\n",
            "step 985 - loss 3.9254446029663086 - moving ave loss 3.5891091911285944\n",
            "step 986 - loss 4.017285346984863 - moving ave loss 3.631926806714221\n",
            "step 987 - loss 5.100615501403809 - moving ave loss 3.7787956761831802\n",
            "step 988 - loss 4.303971290588379 - moving ave loss 3.8313132376237005\n",
            "step 989 - loss 3.4126453399658203 - moving ave loss 3.7894464478579124\n",
            "step 990 - loss 4.23036003112793 - moving ave loss 3.833537806184914\n",
            "step 991 - loss 4.21164083480835 - moving ave loss 3.8713481090472577\n",
            "step 992 - loss 3.171485424041748 - moving ave loss 3.801361840546707\n",
            "step 993 - loss 5.196816444396973 - moving ave loss 3.940907300931734\n",
            "step 994 - loss 4.165322303771973 - moving ave loss 3.963348801215758\n",
            "step 995 - loss 2.7635951042175293 - moving ave loss 3.8433734315159356\n",
            "step 996 - loss 4.843997955322266 - moving ave loss 3.943435883896569\n",
            "step 997 - loss 3.163642406463623 - moving ave loss 3.8654565361532747\n",
            "step 998 - loss 3.8969011306762695 - moving ave loss 3.8686009956055742\n",
            "step 999 - loss 3.508319139480591 - moving ave loss 3.832572809993076\n",
            "step 1000 - loss 3.0700607299804688 - moving ave loss 3.7563216019918158\n",
            "Checkpoint at step 1000\n",
            "step 1001 - loss 4.402440071105957 - moving ave loss 3.8209334489032303\n"
          ],
          "name": "stdout"
        },
        {
          "output_type": "stream",
          "text": [
            "step 1002 - loss 3.313746213912964 - moving ave loss 3.770214725404204\n",
            "step 1003 - loss 3.859133720397949 - moving ave loss 3.7791066249035787\n",
            "step 1004 - loss 4.124258041381836 - moving ave loss 3.813621766551405\n",
            "step 1005 - loss 3.610548973083496 - moving ave loss 3.793314487204614\n",
            "step 1006 - loss 3.7171905040740967 - moving ave loss 3.7857020888915622\n",
            "step 1007 - loss 2.76601505279541 - moving ave loss 3.6837333852819474\n",
            "step 1008 - loss 3.9772965908050537 - moving ave loss 3.713089705834258\n",
            "step 1009 - loss 2.9767613410949707 - moving ave loss 3.639456869360329\n",
            "step 1010 - loss 3.508657932281494 - moving ave loss 3.626376975652446\n",
            "step 1011 - loss 3.70603084564209 - moving ave loss 3.6343423626514104\n",
            "step 1012 - loss 2.9738974571228027 - moving ave loss 3.5682978720985497\n",
            "step 1013 - loss 3.5397303104400635 - moving ave loss 3.565441115932701\n",
            "step 1014 - loss 3.724095344543457 - moving ave loss 3.581306538793777\n",
            "step 1015 - loss 3.7836437225341797 - moving ave loss 3.601540257167817\n",
            "step 1016 - loss 3.7701797485351562 - moving ave loss 3.6184042063045507\n",
            "step 1017 - loss 3.548039197921753 - moving ave loss 3.611367705466271\n",
            "step 1018 - loss 4.404534339904785 - moving ave loss 3.6906843689101225\n",
            "step 1019 - loss 3.7356066703796387 - moving ave loss 3.695176599057074\n",
            "step 1020 - loss 3.672351837158203 - moving ave loss 3.692894122867187\n",
            "step 1021 - loss 3.673468589782715 - moving ave loss 3.69095156955874\n",
            "step 1022 - loss 2.9105844497680664 - moving ave loss 3.6129148575796726\n",
            "step 1023 - loss 3.708798408508301 - moving ave loss 3.6225032126725356\n",
            "step 1024 - loss 3.978882074356079 - moving ave loss 3.65814109884089\n",
            "step 1025 - loss 3.9773945808410645 - moving ave loss 3.6900664470409072\n",
            "step 1026 - loss 3.662792682647705 - moving ave loss 3.687339070601587\n",
            "step 1027 - loss 3.258326768875122 - moving ave loss 3.6444378404289406\n",
            "step 1028 - loss 2.6647536754608154 - moving ave loss 3.546469423932128\n",
            "step 1029 - loss 2.7110629081726074 - moving ave loss 3.462928772356176\n",
            "step 1030 - loss 4.716411590576172 - moving ave loss 3.588277054178176\n",
            "step 1031 - loss 3.5444934368133545 - moving ave loss 3.583898692441694\n",
            "step 1032 - loss 3.433542490005493 - moving ave loss 3.5688630721980736\n",
            "step 1033 - loss 3.358776330947876 - moving ave loss 3.547854398073054\n",
            "step 1034 - loss 4.0343217849731445 - moving ave loss 3.596501136763063\n",
            "step 1035 - loss 4.081596374511719 - moving ave loss 3.6450106605379284\n",
            "Finish 9 epoch(es)\n",
            "step 1036 - loss 3.7056477069854736 - moving ave loss 3.651074365182683\n",
            "step 1037 - loss 2.143636465072632 - moving ave loss 3.5003305751716782\n",
            "step 1038 - loss 3.492518901824951 - moving ave loss 3.4995494078370055\n",
            "step 1039 - loss 4.263118743896484 - moving ave loss 3.5759063414429533\n",
            "step 1040 - loss 3.1904165744781494 - moving ave loss 3.537357364746473\n",
            "step 1041 - loss 3.376634359359741 - moving ave loss 3.5212850642077997\n",
            "step 1042 - loss 3.7906928062438965 - moving ave loss 3.5482258384114096\n",
            "step 1043 - loss 2.4683327674865723 - moving ave loss 3.4402365313189263\n",
            "step 1044 - loss 3.4261059761047363 - moving ave loss 3.4388234757975074\n",
            "step 1045 - loss 3.113037347793579 - moving ave loss 3.4062448629971147\n",
            "step 1046 - loss 3.4009056091308594 - moving ave loss 3.4057109376104897\n",
            "step 1047 - loss 3.5439870357513428 - moving ave loss 3.419538547424575\n",
            "step 1048 - loss 3.07786226272583 - moving ave loss 3.3853709189547008\n",
            "step 1049 - loss 3.3547563552856445 - moving ave loss 3.3823094625877954\n",
            "step 1050 - loss 4.059415340423584 - moving ave loss 3.450020050371374\n",
            "step 1051 - loss 4.2678542137146 - moving ave loss 3.531803466705697\n",
            "step 1052 - loss 2.721038341522217 - moving ave loss 3.4507269541873486\n",
            "step 1053 - loss 4.622559547424316 - moving ave loss 3.5679102135110456\n"
          ],
          "name": "stdout"
        },
        {
          "output_type": "stream",
          "text": [
            "step 1054 - loss 3.3627395629882812 - moving ave loss 3.5473931484587693\n",
            "step 1055 - loss 3.3192930221557617 - moving ave loss 3.5245831358284687\n",
            "step 1056 - loss 3.492706775665283 - moving ave loss 3.5213954998121504\n",
            "step 1057 - loss 4.085363864898682 - moving ave loss 3.5777923363208037\n",
            "step 1058 - loss 3.1489338874816895 - moving ave loss 3.5349064914368924\n",
            "step 1059 - loss 3.7313270568847656 - moving ave loss 3.5545485479816796\n",
            "step 1060 - loss 3.366832733154297 - moving ave loss 3.5357769664989416\n",
            "step 1061 - loss 2.578547954559326 - moving ave loss 3.44005406530498\n",
            "step 1062 - loss 3.044281005859375 - moving ave loss 3.4004767593604197\n",
            "step 1063 - loss 3.4598183631896973 - moving ave loss 3.4064109197433474\n",
            "step 1064 - loss 3.126680850982666 - moving ave loss 3.3784379128672795\n",
            "step 1065 - loss 2.840928554534912 - moving ave loss 3.324686977034043\n",
            "step 1066 - loss 2.761669635772705 - moving ave loss 3.2683852429079088\n",
            "step 1067 - loss 2.4139997959136963 - moving ave loss 3.1829466982084877\n",
            "step 1068 - loss 3.2990894317626953 - moving ave loss 3.1945609715639085\n",
            "step 1069 - loss 4.523257255554199 - moving ave loss 3.3274305999629377\n",
            "step 1070 - loss 4.586574554443359 - moving ave loss 3.4533449954109803\n",
            "step 1071 - loss 3.0758543014526367 - moving ave loss 3.415595926015146\n",
            "step 1072 - loss 3.170520782470703 - moving ave loss 3.391088411660702\n",
            "step 1073 - loss 3.7201976776123047 - moving ave loss 3.4239993382558622\n",
            "step 1074 - loss 3.2530221939086914 - moving ave loss 3.4069016238211454\n",
            "step 1075 - loss 3.495145082473755 - moving ave loss 3.4157259696864064\n",
            "step 1076 - loss 3.4531593322753906 - moving ave loss 3.419469305945305\n",
            "step 1077 - loss 3.9413585662841797 - moving ave loss 3.4716582319791924\n",
            "step 1078 - loss 4.000463485717773 - moving ave loss 3.5245387573530507\n",
            "step 1079 - loss 3.438933849334717 - moving ave loss 3.5159782665512176\n",
            "step 1080 - loss 2.5299766063690186 - moving ave loss 3.4173781005329977\n",
            "step 1081 - loss 2.865514039993286 - moving ave loss 3.3621916944790264\n",
            "step 1082 - loss 4.610707759857178 - moving ave loss 3.4870433010168416\n",
            "step 1083 - loss 3.3090126514434814 - moving ave loss 3.469240236059506\n",
            "step 1084 - loss 3.388373374938965 - moving ave loss 3.461153549947452\n",
            "step 1085 - loss 3.387939929962158 - moving ave loss 3.4538321879489224\n",
            "step 1086 - loss 4.592742919921875 - moving ave loss 3.567723261146218\n",
            "step 1087 - loss 4.523673057556152 - moving ave loss 3.6633182407872114\n",
            "step 1088 - loss 4.795786380767822 - moving ave loss 3.7765650547852725\n",
            "step 1089 - loss 4.2816667556762695 - moving ave loss 3.8270752248743722\n",
            "step 1090 - loss 2.9653916358947754 - moving ave loss 3.7409068659764126\n",
            "step 1091 - loss 3.1006898880004883 - moving ave loss 3.67688516817882\n",
            "step 1092 - loss 4.890527725219727 - moving ave loss 3.7982494238829108\n",
            "step 1093 - loss 4.195355415344238 - moving ave loss 3.8379600230290434\n",
            "step 1094 - loss 3.9256792068481445 - moving ave loss 3.8467319414109538\n",
            "step 1095 - loss 4.210936069488525 - moving ave loss 3.8831523542187107\n",
            "step 1096 - loss 3.431094169616699 - moving ave loss 3.83794653575851\n",
            "step 1097 - loss 5.071293830871582 - moving ave loss 3.9612812652698177\n",
            "step 1098 - loss 3.497174024581909 - moving ave loss 3.9148705412010267\n",
            "step 1099 - loss 3.494020462036133 - moving ave loss 3.8727855332845373\n",
            "step 1100 - loss 4.18718957901001 - moving ave loss 3.9042259378570847\n",
            "step 1101 - loss 2.9944634437561035 - moving ave loss 3.813249688446987\n",
            "step 1102 - loss 4.908987998962402 - moving ave loss 3.922823519498529\n",
            "step 1103 - loss 3.743971824645996 - moving ave loss 3.9049383500132757\n",
            "step 1104 - loss 2.905674934387207 - moving ave loss 3.805012008450669\n",
            "step 1105 - loss 3.160006284713745 - moving ave loss 3.740511436076977\n"
          ],
          "name": "stdout"
        },
        {
          "output_type": "stream",
          "text": [
            "step 1106 - loss 3.013467788696289 - moving ave loss 3.6678070713389084\n",
            "step 1107 - loss 3.5605509281158447 - moving ave loss 3.657081457016602\n",
            "step 1108 - loss 4.519142150878906 - moving ave loss 3.7432875264028325\n",
            "step 1109 - loss 3.4439282417297363 - moving ave loss 3.7133515979355227\n",
            "step 1110 - loss 3.4831204414367676 - moving ave loss 3.690328482285647\n",
            "step 1111 - loss 3.9492180347442627 - moving ave loss 3.7162174375315087\n",
            "step 1112 - loss 3.5509209632873535 - moving ave loss 3.6996877901070935\n",
            "step 1113 - loss 3.0175747871398926 - moving ave loss 3.6314764898103733\n",
            "step 1114 - loss 4.099152088165283 - moving ave loss 3.678244049645864\n",
            "step 1115 - loss 3.9070956707000732 - moving ave loss 3.701129211751285\n",
            "step 1116 - loss 3.5444750785827637 - moving ave loss 3.6854637984344327\n",
            "step 1117 - loss 3.8674135208129883 - moving ave loss 3.7036587706722885\n",
            "step 1118 - loss 3.826981782913208 - moving ave loss 3.7159910718963807\n",
            "step 1119 - loss 2.3092141151428223 - moving ave loss 3.575313376221025\n",
            "step 1120 - loss 4.907227993011475 - moving ave loss 3.70850483790007\n",
            "step 1121 - loss 2.417984962463379 - moving ave loss 3.5794528503564007\n",
            "step 1122 - loss 3.1874818801879883 - moving ave loss 3.5402557533395598\n",
            "step 1123 - loss 3.6255154609680176 - moving ave loss 3.5487817241024056\n",
            "step 1124 - loss 3.322179079055786 - moving ave loss 3.5261214595977437\n",
            "step 1125 - loss 3.137953758239746 - moving ave loss 3.4873046894619444\n",
            "Checkpoint at step 1125\n",
            "step 1126 - loss 3.1240768432617188 - moving ave loss 3.450981904841922\n",
            "step 1127 - loss 4.6064958572387695 - moving ave loss 3.566533300081607\n",
            "step 1128 - loss 3.2022905349731445 - moving ave loss 3.530109023570761\n",
            "step 1129 - loss 3.7737462520599365 - moving ave loss 3.5544727464196786\n",
            "step 1130 - loss 3.274848461151123 - moving ave loss 3.526510317892823\n",
            "step 1131 - loss 2.6373748779296875 - moving ave loss 3.4375967738965096\n",
            "step 1132 - loss 4.30833101272583 - moving ave loss 3.5246701977794417\n",
            "step 1133 - loss 4.548460006713867 - moving ave loss 3.6270491786728845\n",
            "step 1134 - loss 3.3377161026000977 - moving ave loss 3.598115871065606\n",
            "step 1135 - loss 3.3984789848327637 - moving ave loss 3.578152182442322\n",
            "step 1136 - loss 3.4540345668792725 - moving ave loss 3.565740420886017\n",
            "step 1137 - loss 4.034972190856934 - moving ave loss 3.6126635978831088\n",
            "step 1138 - loss 3.516510486602783 - moving ave loss 3.6030482867550764\n",
            "step 1139 - loss 2.7448439598083496 - moving ave loss 3.517227854060404\n",
            "step 1140 - loss 2.666001319885254 - moving ave loss 3.432105200642889\n",
            "step 1141 - loss 3.5493621826171875 - moving ave loss 3.443830898840319\n",
            "step 1142 - loss 3.367037296295166 - moving ave loss 3.4361515385858037\n",
            "step 1143 - loss 3.4382410049438477 - moving ave loss 3.4363604852216083\n",
            "step 1144 - loss 4.231812000274658 - moving ave loss 3.5159056367269135\n",
            "step 1145 - loss 2.8047871589660645 - moving ave loss 3.4447937889508284\n",
            "step 1146 - loss 3.7536253929138184 - moving ave loss 3.4756769493471276\n",
            "step 1147 - loss 3.4496779441833496 - moving ave loss 3.47307704883075\n",
            "step 1148 - loss 2.652651309967041 - moving ave loss 3.3910344749443793\n",
            "step 1149 - loss 3.0413966178894043 - moving ave loss 3.356070689238882\n",
            "step 1150 - loss 4.421171188354492 - moving ave loss 3.462580739150443\n",
            "Finish 10 epoch(es)\n",
            "Checkpoint at step 1150\n",
            "Training finished, exit.\n"
          ],
          "name": "stdout"
        }
      ]
    },
    {
      "metadata": {
        "id": "-6qYN-5YMx7h",
        "colab_type": "code",
        "colab": {
          "autoexec": {
            "startup": false,
            "wait_interval": 0
          },
          "output_extras": [
            {
              "item_id": 9
            }
          ],
          "base_uri": "https://localhost:8080/",
          "height": 726
        },
        "outputId": "b25aadd0-2d4a-4ff1-c88e-1a9efee5a291",
        "executionInfo": {
          "status": "ok",
          "timestamp": 1519403474749,
          "user_tz": -330,
          "elapsed": 7708,
          "user": {
            "displayName": "Himanshu Rawlani",
            "photoUrl": "//lh4.googleusercontent.com/-25bwESRvc84/AAAAAAAAAAI/AAAAAAAAMDQ/XeEMbo9cdEI/s50-c-k-no/photo.jpg",
            "userId": "103244414105699526880"
          }
        }
      },
      "cell_type": "code",
      "source": [
        "!cd tiny-yolo-voc/darkflow/ && flow --model cfg/tiny-yolo-voc-3c.cfg --load -1"
      ],
      "execution_count": 14,
      "outputs": [
        {
          "output_type": "stream",
          "text": [
            "/usr/local/lib/python3.6/dist-packages/h5py/__init__.py:36: FutureWarning: Conversion of the second argument of issubdtype from `float` to `np.floating` is deprecated. In future, it will be treated as `np.float64 == np.dtype(float).type`.\r\n",
            "  from ._conv import register_converters as _register_converters\n",
            "\n",
            "Parsing cfg/tiny-yolo-voc-3c.cfg\n",
            "Loading None ...\n",
            "Finished in 8.821487426757812e-05s\n",
            "\n",
            "Building net ...\n",
            "Source | Train? | Layer description                | Output size\n",
            "-------+--------+----------------------------------+---------------\n",
            "       |        | input                            | (?, 416, 416, 3)\n",
            " Init  |  Yep!  | conv 3x3p1_1  +bnorm  leaky      | (?, 416, 416, 16)\n",
            " Load  |  Yep!  | maxp 2x2p0_2                     | (?, 208, 208, 16)\n",
            " Init  |  Yep!  | conv 3x3p1_1  +bnorm  leaky      | (?, 208, 208, 32)\n",
            " Load  |  Yep!  | maxp 2x2p0_2                     | (?, 104, 104, 32)\n",
            " Init  |  Yep!  | conv 3x3p1_1  +bnorm  leaky      | (?, 104, 104, 64)\n",
            " Load  |  Yep!  | maxp 2x2p0_2                     | (?, 52, 52, 64)\n",
            " Init  |  Yep!  | conv 3x3p1_1  +bnorm  leaky      | (?, 52, 52, 128)\n",
            " Load  |  Yep!  | maxp 2x2p0_2                     | (?, 26, 26, 128)\n",
            " Init  |  Yep!  | conv 3x3p1_1  +bnorm  leaky      | (?, 26, 26, 256)\n",
            " Load  |  Yep!  | maxp 2x2p0_2                     | (?, 13, 13, 256)\n",
            " Init  |  Yep!  | conv 3x3p1_1  +bnorm  leaky      | (?, 13, 13, 512)\n",
            " Load  |  Yep!  | maxp 2x2p0_1                     | (?, 13, 13, 512)\n",
            " Init  |  Yep!  | conv 3x3p1_1  +bnorm  leaky      | (?, 13, 13, 1024)\n",
            " Init  |  Yep!  | conv 3x3p1_1  +bnorm  leaky      | (?, 13, 13, 1024)\n",
            " Init  |  Yep!  | conv 1x1p0_1    linear           | (?, 13, 13, 55)\n",
            "-------+--------+----------------------------------+---------------\n",
            "Running entirely on CPU\n",
            "2018-02-23 16:31:12.142402: I tensorflow/stream_executor/cuda/cuda_gpu_executor.cc:898] successful NUMA node read from SysFS had negative value (-1), but there must be at least one NUMA node, so returning NUMA node zero\n",
            "2018-02-23 16:31:12.143187: I tensorflow/core/common_runtime/gpu/gpu_device.cc:1208] Found device 0 with properties: \n",
            "name: Tesla K80 major: 3 minor: 7 memoryClockRate(GHz): 0.8235\n",
            "pciBusID: 0000:00:04.0\n",
            "totalMemory: 11.17GiB freeMemory: 11.11GiB\n",
            "2018-02-23 16:31:12.143247: I tensorflow/core/common_runtime/gpu/gpu_device.cc:1308] Adding visible gpu devices: 0\n",
            "Loading from ./ckpt/tiny-yolo-voc-3c-1150\n",
            "Finished in 3.0392661094665527s\n",
            "\n",
            "Forwarding 3 inputs ...\n",
            "Total time = 1.188277006149292s / 3 inps = 2.524663848980587 ips\n",
            "Post processing 3 inputs ...\n",
            "Total time = 0.019829511642456055s / 3 inps = 151.28965625037574 ips\n"
          ],
          "name": "stdout"
        }
      ]
    },
    {
      "metadata": {
        "id": "8I6c4N3pdNOh",
        "colab_type": "code",
        "colab": {
          "autoexec": {
            "startup": false,
            "wait_interval": 0
          },
          "output_extras": [
            {
              "item_id": 1
            }
          ],
          "base_uri": "https://localhost:8080/",
          "height": 84
        },
        "outputId": "f2a3f370-fac6-448e-d31d-052c3864ff7c",
        "executionInfo": {
          "status": "ok",
          "timestamp": 1519403487458,
          "user_tz": -330,
          "elapsed": 939,
          "user": {
            "displayName": "Himanshu Rawlani",
            "photoUrl": "//lh4.googleusercontent.com/-25bwESRvc84/AAAAAAAAAAI/AAAAAAAAMDQ/XeEMbo9cdEI/s50-c-k-no/photo.jpg",
            "userId": "103244414105699526880"
          }
        }
      },
      "cell_type": "code",
      "source": [
        "!ls -l tiny-yolo-voc/darkflow/sample_img/out/"
      ],
      "execution_count": 15,
      "outputs": [
        {
          "output_type": "stream",
          "text": [
            "total 204\r\n",
            "-rw-r--r-- 1 root root 90998 Feb 23 16:31 n07753592_9454.jpg\r\n",
            "-rw-r--r-- 1 root root 20812 Feb 23 16:31 n07753592_956.jpg\r\n",
            "-rw-r--r-- 1 root root 87682 Feb 23 16:31 n07753592_9936.jpg\r\n"
          ],
          "name": "stdout"
        }
      ]
    },
    {
      "metadata": {
        "id": "DYp03c7g59q3",
        "colab_type": "code",
        "colab": {
          "autoexec": {
            "startup": false,
            "wait_interval": 0
          },
          "output_extras": [
            {
              "item_id": 10
            }
          ],
          "base_uri": "https://localhost:8080/",
          "height": 743
        },
        "outputId": "c4733f8b-2c29-4f99-fc7c-c1b7af0c2a46",
        "executionInfo": {
          "status": "ok",
          "timestamp": 1519403505815,
          "user_tz": -330,
          "elapsed": 7133,
          "user": {
            "displayName": "Himanshu Rawlani",
            "photoUrl": "//lh4.googleusercontent.com/-25bwESRvc84/AAAAAAAAAAI/AAAAAAAAMDQ/XeEMbo9cdEI/s50-c-k-no/photo.jpg",
            "userId": "103244414105699526880"
          }
        }
      },
      "cell_type": "code",
      "source": [
        "!cd tiny-yolo-voc/darkflow/ && flow --model cfg/tiny-yolo-voc-3c.cfg --load -1 --savepb"
      ],
      "execution_count": 16,
      "outputs": [
        {
          "output_type": "stream",
          "text": [
            "/usr/local/lib/python3.6/dist-packages/h5py/__init__.py:36: FutureWarning: Conversion of the second argument of issubdtype from `float` to `np.floating` is deprecated. In future, it will be treated as `np.float64 == np.dtype(float).type`.\r\n",
            "  from ._conv import register_converters as _register_converters\n",
            "\n",
            "Parsing cfg/tiny-yolo-voc-3c.cfg\n",
            "Loading None ...\n",
            "Finished in 7.390975952148438e-05s\n",
            "\n",
            "Building net ...\n",
            "Source | Train? | Layer description                | Output size\n",
            "-------+--------+----------------------------------+---------------\n",
            "       |        | input                            | (?, 416, 416, 3)\n",
            " Init  |  Yep!  | conv 3x3p1_1  +bnorm  leaky      | (?, 416, 416, 16)\n",
            " Load  |  Yep!  | maxp 2x2p0_2                     | (?, 208, 208, 16)\n",
            " Init  |  Yep!  | conv 3x3p1_1  +bnorm  leaky      | (?, 208, 208, 32)\n",
            " Load  |  Yep!  | maxp 2x2p0_2                     | (?, 104, 104, 32)\n",
            " Init  |  Yep!  | conv 3x3p1_1  +bnorm  leaky      | (?, 104, 104, 64)\n",
            " Load  |  Yep!  | maxp 2x2p0_2                     | (?, 52, 52, 64)\n",
            " Init  |  Yep!  | conv 3x3p1_1  +bnorm  leaky      | (?, 52, 52, 128)\n",
            " Load  |  Yep!  | maxp 2x2p0_2                     | (?, 26, 26, 128)\n",
            " Init  |  Yep!  | conv 3x3p1_1  +bnorm  leaky      | (?, 26, 26, 256)\n",
            " Load  |  Yep!  | maxp 2x2p0_2                     | (?, 13, 13, 256)\n",
            " Init  |  Yep!  | conv 3x3p1_1  +bnorm  leaky      | (?, 13, 13, 512)\n",
            " Load  |  Yep!  | maxp 2x2p0_1                     | (?, 13, 13, 512)\n",
            " Init  |  Yep!  | conv 3x3p1_1  +bnorm  leaky      | (?, 13, 13, 1024)\n",
            " Init  |  Yep!  | conv 3x3p1_1  +bnorm  leaky      | (?, 13, 13, 1024)\n",
            " Init  |  Yep!  | conv 1x1p0_1    linear           | (?, 13, 13, 55)\n",
            "-------+--------+----------------------------------+---------------\n",
            "Running entirely on CPU\n",
            "2018-02-23 16:31:43.665145: I tensorflow/stream_executor/cuda/cuda_gpu_executor.cc:898] successful NUMA node read from SysFS had negative value (-1), but there must be at least one NUMA node, so returning NUMA node zero\n",
            "2018-02-23 16:31:43.665702: I tensorflow/core/common_runtime/gpu/gpu_device.cc:1208] Found device 0 with properties: \n",
            "name: Tesla K80 major: 3 minor: 7 memoryClockRate(GHz): 0.8235\n",
            "pciBusID: 0000:00:04.0\n",
            "totalMemory: 11.17GiB freeMemory: 11.11GiB\n",
            "2018-02-23 16:31:43.665752: I tensorflow/core/common_runtime/gpu/gpu_device.cc:1308] Adding visible gpu devices: 0\n",
            "Loading from ./ckpt/tiny-yolo-voc-3c-1150\n",
            "Finished in 2.9713807106018066s\n",
            "\n",
            "Rebuild a constant version ...\n",
            "2018-02-23 16:31:44.461101: I tensorflow/core/common_runtime/gpu/gpu_device.cc:1308] Adding visible gpu devices: 0\n",
            "2018-02-23 16:31:44.569967: I tensorflow/core/common_runtime/gpu/gpu_device.cc:1308] Adding visible gpu devices: 0\n",
            "2018-02-23 16:31:44.570513: I tensorflow/core/common_runtime/gpu/gpu_device.cc:989] Creating TensorFlow device (/job:localhost/replica:0/task:0/device:GPU:0 with 10774 MB memory) -> physical GPU (device: 0, name: Tesla K80, pci bus id: 0000:00:04.0, compute capability: 3.7)\n",
            "Done\n"
          ],
          "name": "stdout"
        }
      ]
    },
    {
      "metadata": {
        "id": "5vTZDMzU6uaG",
        "colab_type": "code",
        "colab": {
          "autoexec": {
            "startup": false,
            "wait_interval": 0
          },
          "output_extras": [
            {
              "item_id": 1
            }
          ],
          "base_uri": "https://localhost:8080/",
          "height": 67
        },
        "outputId": "db858b77-5c5d-49b2-e3f7-6e7ab7a83daa",
        "executionInfo": {
          "status": "ok",
          "timestamp": 1519403511467,
          "user_tz": -330,
          "elapsed": 877,
          "user": {
            "displayName": "Himanshu Rawlani",
            "photoUrl": "//lh4.googleusercontent.com/-25bwESRvc84/AAAAAAAAAAI/AAAAAAAAMDQ/XeEMbo9cdEI/s50-c-k-no/photo.jpg",
            "userId": "103244414105699526880"
          }
        }
      },
      "cell_type": "code",
      "source": [
        "!ls -l tiny-yolo-voc/darkflow/built_graph/"
      ],
      "execution_count": 17,
      "outputs": [
        {
          "output_type": "stream",
          "text": [
            "total 61720\r\n",
            "-rw-r--r-- 1 root root      961 Feb 23 16:31 tiny-yolo-voc-3c.meta\r\n",
            "-rw-r--r-- 1 root root 63194382 Feb 23 16:31 tiny-yolo-voc-3c.pb\r\n"
          ],
          "name": "stdout"
        }
      ]
    },
    {
      "metadata": {
        "id": "nFHVeBSk-Yhi",
        "colab_type": "code",
        "colab": {
          "autoexec": {
            "startup": false,
            "wait_interval": 0
          },
          "output_extras": [
            {}
          ],
          "base_uri": "https://localhost:8080/",
          "height": 306
        },
        "outputId": "122b50e2-4b21-4c8e-c847-509d3d15d31e",
        "executionInfo": {
          "status": "ok",
          "timestamp": 1519327601304,
          "user_tz": -330,
          "elapsed": 4966,
          "user": {
            "displayName": "Himanshu Rawlani",
            "photoUrl": "//lh4.googleusercontent.com/-25bwESRvc84/AAAAAAAAAAI/AAAAAAAAMDQ/XeEMbo9cdEI/s50-c-k-no/photo.jpg",
            "userId": "103244414105699526880"
          }
        }
      },
      "cell_type": "code",
      "source": [
        "!cd tiny-yolo-voc/darkflow/ && flow --pbLoad built_graph/tiny-yolo-voc-3c.pb --metaLoad built_graph/tiny-yolo-voc-3c.meta"
      ],
      "execution_count": 0,
      "outputs": [
        {
          "output_type": "stream",
          "text": [
            "/usr/local/lib/python3.6/dist-packages/h5py/__init__.py:36: FutureWarning: Conversion of the second argument of issubdtype from `float` to `np.floating` is deprecated. In future, it will be treated as `np.float64 == np.dtype(float).type`.\r\n",
            "  from ._conv import register_converters as _register_converters\n",
            "\n",
            "\n",
            "Loading from .pb and .meta\n",
            "Running entirely on CPU\n",
            "2018-02-22 19:26:39.176160: I tensorflow/stream_executor/cuda/cuda_gpu_executor.cc:898] successful NUMA node read from SysFS had negative value (-1), but there must be at least one NUMA node, so returning NUMA node zero\n",
            "2018-02-22 19:26:39.176784: I tensorflow/core/common_runtime/gpu/gpu_device.cc:1208] Found device 0 with properties: \n",
            "name: Tesla K80 major: 3 minor: 7 memoryClockRate(GHz): 0.8235\n",
            "pciBusID: 0000:00:04.0\n",
            "totalMemory: 11.17GiB freeMemory: 11.11GiB\n",
            "2018-02-22 19:26:39.176844: I tensorflow/core/common_runtime/gpu/gpu_device.cc:1308] Adding visible gpu devices: 0\n",
            "Forwarding 3 inputs ...\n",
            "Total time = 0.829885721206665s / 3 inps = 3.614955557541055 ips\n",
            "Post processing 3 inputs ...\n",
            "Total time = 0.01611161231994629s / 3 inps = 186.20110392589194 ips\n"
          ],
          "name": "stdout"
        }
      ]
    },
    {
      "metadata": {
        "id": "mqkPl3YFoosr",
        "colab_type": "code",
        "colab": {
          "autoexec": {
            "startup": false,
            "wait_interval": 0
          }
        }
      },
      "cell_type": "code",
      "source": [
        "from google.colab import files\n",
        "\n",
        "files.download('tiny-yolo-voc/darkflow/sample_img/out/n07753592_9936.jpg')\n",
        "files.download('tiny-yolo-voc/darkflow/sample_img/out/n07753592_9454.jpg')\n",
        "files.download('tiny-yolo-voc/darkflow/sample_img/out/n07753592_956.jpg')\n",
        "files.download('tiny-yolo-voc/darkflow/built_graph/tiny-yolo-voc-3c.pb')"
      ],
      "execution_count": 0,
      "outputs": []
    },
    {
      "metadata": {
        "id": "s1DgVbSgo08t",
        "colab_type": "code",
        "colab": {
          "autoexec": {
            "startup": false,
            "wait_interval": 0
          }
        }
      },
      "cell_type": "code",
      "source": [
        ""
      ],
      "execution_count": 0,
      "outputs": []
    }
  ]
}