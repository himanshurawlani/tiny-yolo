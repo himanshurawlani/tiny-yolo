{
  "nbformat": 4,
  "nbformat_minor": 0,
  "metadata": {
    "colab": {
      "name": "training-yolo-darknet.ipynb",
      "version": "0.3.2",
      "views": {},
      "default_view": {},
      "provenance": [],
      "toc_visible": true
    },
    "kernelspec": {
      "name": "python3",
      "display_name": "Python 3"
    },
    "accelerator": "GPU"
  },
  "cells": [
    {
      "metadata": {
        "id": "tzENdlmgZK8K",
        "colab_type": "text"
      },
      "cell_type": "markdown",
      "source": [
        "Training tiny-yolo-voc on custom dataset"
      ]
    },
    {
      "metadata": {
        "id": "twUGrqq2ZGrX",
        "colab_type": "code",
        "colab": {
          "autoexec": {
            "startup": false,
            "wait_interval": 0
          },
          "output_extras": [
            {
              "item_id": 1
            }
          ],
          "base_uri": "https://localhost:8080/",
          "height": 51
        },
        "outputId": "85c58594-2c6a-48e6-8d3c-fa0f58f3bbbb",
        "executionInfo": {
          "status": "ok",
          "timestamp": 1519032559201,
          "user_tz": -330,
          "elapsed": 819,
          "user": {
            "displayName": "Himanshu Rawlani",
            "photoUrl": "//lh4.googleusercontent.com/-25bwESRvc84/AAAAAAAAAAI/AAAAAAAAMDQ/XeEMbo9cdEI/s50-c-k-no/photo.jpg",
            "userId": "103244414105699526880"
          }
        }
      },
      "cell_type": "code",
      "source": [
        "!ls -l"
      ],
      "execution_count": 1,
      "outputs": [
        {
          "output_type": "stream",
          "text": [
            "total 4\r\n",
            "drwxr-xr-x 1 root root 4096 Feb 19 09:26 datalab\r\n"
          ],
          "name": "stdout"
        }
      ]
    },
    {
      "metadata": {
        "id": "LSOZ4BcfZWLF",
        "colab_type": "code",
        "colab": {
          "autoexec": {
            "startup": false,
            "wait_interval": 0
          },
          "output_extras": [
            {
              "item_id": 3
            }
          ],
          "base_uri": "https://localhost:8080/",
          "height": 101
        },
        "outputId": "9ed091ed-5792-435a-b0db-f5ab5e496b5d",
        "executionInfo": {
          "status": "ok",
          "timestamp": 1519032575138,
          "user_tz": -330,
          "elapsed": 1485,
          "user": {
            "displayName": "Himanshu Rawlani",
            "photoUrl": "//lh4.googleusercontent.com/-25bwESRvc84/AAAAAAAAAAI/AAAAAAAAMDQ/XeEMbo9cdEI/s50-c-k-no/photo.jpg",
            "userId": "103244414105699526880"
          }
        }
      },
      "cell_type": "code",
      "source": [
        "!git clone https://github.com/pjreddie/darknet"
      ],
      "execution_count": 2,
      "outputs": [
        {
          "output_type": "stream",
          "text": [
            "Cloning into 'darknet'...\n",
            "remote: Counting objects: 5453, done.\u001b[K\n",
            "remote: Total 5453 (delta 0), reused 0 (delta 0), pack-reused 5453\u001b[K\n",
            "Receiving objects: 100% (5453/5453), 4.41 MiB | 30.75 MiB/s, done.\n",
            "Resolving deltas: 100% (3645/3645), done.\n"
          ],
          "name": "stdout"
        }
      ]
    },
    {
      "metadata": {
        "id": "R4dXXfYsZZ6H",
        "colab_type": "code",
        "colab": {
          "autoexec": {
            "startup": false,
            "wait_interval": 0
          },
          "output_extras": [
            {
              "item_id": 6
            },
            {
              "item_id": 16
            },
            {
              "item_id": 29
            },
            {
              "item_id": 33
            }
          ],
          "base_uri": "https://localhost:8080/",
          "height": 7580
        },
        "outputId": "a75ba741-0fcc-4bc5-bbb4-8c4e7230c567",
        "executionInfo": {
          "status": "ok",
          "timestamp": 1519032604267,
          "user_tz": -330,
          "elapsed": 15601,
          "user": {
            "displayName": "Himanshu Rawlani",
            "photoUrl": "//lh4.googleusercontent.com/-25bwESRvc84/AAAAAAAAAAI/AAAAAAAAMDQ/XeEMbo9cdEI/s50-c-k-no/photo.jpg",
            "userId": "103244414105699526880"
          }
        }
      },
      "cell_type": "code",
      "source": [
        "!cd darknet && make"
      ],
      "execution_count": 3,
      "outputs": [
        {
          "output_type": "stream",
          "text": [
            "mkdir -p obj\r\n",
            "mkdir -p results\r\n",
            "gcc -Iinclude/ -Isrc/ -Wall -Wno-unknown-pragmas -Wfatal-errors -fPIC -Ofast -c ./src/gemm.c -o obj/gemm.o\n",
            "gcc -Iinclude/ -Isrc/ -Wall -Wno-unknown-pragmas -Wfatal-errors -fPIC -Ofast -c ./src/utils.c -o obj/utils.o\n",
            "\u001b[01m\u001b[K./src/utils.c:\u001b[m\u001b[K In function ‘\u001b[01m\u001b[Kread_file\u001b[m\u001b[K’:\n",
            "\u001b[01m\u001b[K./src/utils.c:267:5:\u001b[m\u001b[K \u001b[01;35m\u001b[Kwarning: \u001b[m\u001b[Kignoring return value of ‘\u001b[01m\u001b[Kfread\u001b[m\u001b[K’, declared with attribute warn_unused_result [\u001b[01;35m\u001b[K-Wunused-result\u001b[m\u001b[K]\n",
            "     \u001b[01;35m\u001b[Kfread(text, 1, size, fp)\u001b[m\u001b[K;\n",
            "     \u001b[01;35m\u001b[K^~~~~~~~~~~~~~~~~~~~~~~~\u001b[m\u001b[K\n",
            "\u001b[01m\u001b[K./src/utils.c:\u001b[m\u001b[K In function ‘\u001b[01m\u001b[Kfgetl\u001b[m\u001b[K’:\n",
            "\u001b[01m\u001b[K./src/utils.c:355:9:\u001b[m\u001b[K \u001b[01;35m\u001b[Kwarning: \u001b[m\u001b[Kignoring return value of ‘\u001b[01m\u001b[Kfgets\u001b[m\u001b[K’, declared with attribute warn_unused_result [\u001b[01;35m\u001b[K-Wunused-result\u001b[m\u001b[K]\n",
            "         \u001b[01;35m\u001b[Kfgets(&line[curr], readsize, fp)\u001b[m\u001b[K;\n",
            "         \u001b[01;35m\u001b[K^~~~~~~~~~~~~~~~~~~~~~~~~~~~~~~~\u001b[m\u001b[K\n",
            "gcc -Iinclude/ -Isrc/ -Wall -Wno-unknown-pragmas -Wfatal-errors -fPIC -Ofast -c ./src/cuda.c -o obj/cuda.o\n",
            "gcc -Iinclude/ -Isrc/ -Wall -Wno-unknown-pragmas -Wfatal-errors -fPIC -Ofast -c ./src/deconvolutional_layer.c -o obj/deconvolutional_layer.o\n",
            "gcc -Iinclude/ -Isrc/ -Wall -Wno-unknown-pragmas -Wfatal-errors -fPIC -Ofast -c ./src/convolutional_layer.c -o obj/convolutional_layer.o\n",
            "gcc -Iinclude/ -Isrc/ -Wall -Wno-unknown-pragmas -Wfatal-errors -fPIC -Ofast -c ./src/list.c -o obj/list.o\n",
            "gcc -Iinclude/ -Isrc/ -Wall -Wno-unknown-pragmas -Wfatal-errors -fPIC -Ofast -c ./src/image.c -o obj/image.o\n",
            "In file included from \u001b[01m\u001b[K./src/image.c:9:0\u001b[m\u001b[K:\n",
            "\u001b[01m\u001b[K./src/stb_image.h:\u001b[m\u001b[K In function ‘\u001b[01m\u001b[Kstbi__convert_format\u001b[m\u001b[K’:\n",
            "\u001b[01m\u001b[K./src/stb_image.h:1338:44:\u001b[m\u001b[K \u001b[01;35m\u001b[Kwarning: \u001b[m\u001b[Kthis ‘\u001b[01m\u001b[Kfor\u001b[m\u001b[K’ clause does not guard... [\u001b[01;35m\u001b[K-Wmisleading-indentation\u001b[m\u001b[K]\n",
            "       #define CASE(a,b)   case COMBO(a,b): \u001b[01;35m\u001b[Kf\u001b[m\u001b[Kor(i=x-1; i >= 0; --i, src += a, dest += b)\n",
            "                                            \u001b[01;35m\u001b[K^\u001b[m\u001b[K\n",
            "\u001b[01m\u001b[K./src/stb_image.h:1342:10:\u001b[m\u001b[K \u001b[01;36m\u001b[Knote: \u001b[m\u001b[Kin expansion of macro ‘\u001b[01m\u001b[KCASE\u001b[m\u001b[K’\n",
            "          \u001b[01;36m\u001b[KCASE\u001b[m\u001b[K(1,2) dest[0]=src[0], dest[1]=255; break;\n",
            "          \u001b[01;36m\u001b[K^~~~\u001b[m\u001b[K\n",
            "\u001b[01m\u001b[K./src/stb_image.h:1342:49:\u001b[m\u001b[K \u001b[01;36m\u001b[Knote: \u001b[m\u001b[K...this statement, but the latter is misleadingly indented as if it were guarded by the ‘\u001b[01m\u001b[Kfor\u001b[m\u001b[K’\n",
            "          CASE(1,2) dest[0]=src[0], dest[1]=255; \u001b[01;36m\u001b[Kbreak\u001b[m\u001b[K;\n",
            "                                                 \u001b[01;36m\u001b[K^~~~~\u001b[m\u001b[K\n",
            "\u001b[01m\u001b[K./src/stb_image.h:1338:44:\u001b[m\u001b[K \u001b[01;35m\u001b[Kwarning: \u001b[m\u001b[Kthis ‘\u001b[01m\u001b[Kfor\u001b[m\u001b[K’ clause does not guard... [\u001b[01;35m\u001b[K-Wmisleading-indentation\u001b[m\u001b[K]\n",
            "       #define CASE(a,b)   case COMBO(a,b): \u001b[01;35m\u001b[Kf\u001b[m\u001b[Kor(i=x-1; i >= 0; --i, src += a, dest += b)\n",
            "                                            \u001b[01;35m\u001b[K^\u001b[m\u001b[K\n",
            "\u001b[01m\u001b[K./src/stb_image.h:1343:10:\u001b[m\u001b[K \u001b[01;36m\u001b[Knote: \u001b[m\u001b[Kin expansion of macro ‘\u001b[01m\u001b[KCASE\u001b[m\u001b[K’\n",
            "          \u001b[01;36m\u001b[KCASE\u001b[m\u001b[K(1,3) dest[0]=dest[1]=dest[2]=src[0]; break;\n",
            "          \u001b[01;36m\u001b[K^~~~\u001b[m\u001b[K\n",
            "\u001b[01m\u001b[K./src/stb_image.h:1343:52:\u001b[m\u001b[K \u001b[01;36m\u001b[Knote: \u001b[m\u001b[K...this statement, but the latter is misleadingly indented as if it were guarded by the ‘\u001b[01m\u001b[Kfor\u001b[m\u001b[K’\n",
            "          CASE(1,3) dest[0]=dest[1]=dest[2]=src[0]; \u001b[01;36m\u001b[Kbreak\u001b[m\u001b[K;\n",
            "                                                    \u001b[01;36m\u001b[K^~~~~\u001b[m\u001b[K\n",
            "\u001b[01m\u001b[K./src/stb_image.h:1338:44:\u001b[m\u001b[K \u001b[01;35m\u001b[Kwarning: \u001b[m\u001b[Kthis ‘\u001b[01m\u001b[Kfor\u001b[m\u001b[K’ clause does not guard... [\u001b[01;35m\u001b[K-Wmisleading-indentation\u001b[m\u001b[K]\n",
            "       #define CASE(a,b)   case COMBO(a,b): \u001b[01;35m\u001b[Kf\u001b[m\u001b[Kor(i=x-1; i >= 0; --i, src += a, dest += b)\n",
            "                                            \u001b[01;35m\u001b[K^\u001b[m\u001b[K\n",
            "\u001b[01m\u001b[K./src/stb_image.h:1344:10:\u001b[m\u001b[K \u001b[01;36m\u001b[Knote: \u001b[m\u001b[Kin expansion of macro ‘\u001b[01m\u001b[KCASE\u001b[m\u001b[K’\n",
            "          \u001b[01;36m\u001b[KCASE\u001b[m\u001b[K(1,4) dest[0]=dest[1]=dest[2]=src[0], dest[3]=255; break;\n",
            "          \u001b[01;36m\u001b[K^~~~\u001b[m\u001b[K\n",
            "\u001b[01m\u001b[K./src/stb_image.h:1344:65:\u001b[m\u001b[K \u001b[01;36m\u001b[Knote: \u001b[m\u001b[K...this statement, but the latter is misleadingly indented as if it were guarded by the ‘\u001b[01m\u001b[Kfor\u001b[m\u001b[K’\n",
            "          CASE(1,4) dest[0]=dest[1]=dest[2]=src[0], dest[3]=255; \u001b[01;36m\u001b[Kbreak\u001b[m\u001b[K;\n",
            "                                                                 \u001b[01;36m\u001b[K^~~~~\u001b[m\u001b[K\n",
            "\u001b[01m\u001b[K./src/stb_image.h:1338:44:\u001b[m\u001b[K \u001b[01;35m\u001b[Kwarning: \u001b[m\u001b[Kthis ‘\u001b[01m\u001b[Kfor\u001b[m\u001b[K’ clause does not guard... [\u001b[01;35m\u001b[K-Wmisleading-indentation\u001b[m\u001b[K]\n",
            "       #define CASE(a,b)   case COMBO(a,b): \u001b[01;35m\u001b[Kf\u001b[m\u001b[Kor(i=x-1; i >= 0; --i, src += a, dest += b)\n",
            "                                            \u001b[01;35m\u001b[K^\u001b[m\u001b[K\n",
            "\u001b[01m\u001b[K./src/stb_image.h:1345:10:\u001b[m\u001b[K \u001b[01;36m\u001b[Knote: \u001b[m\u001b[Kin expansion of macro ‘\u001b[01m\u001b[KCASE\u001b[m\u001b[K’\n",
            "          \u001b[01;36m\u001b[KCASE\u001b[m\u001b[K(2,1) dest[0]=src[0]; break;\n",
            "          \u001b[01;36m\u001b[K^~~~\u001b[m\u001b[K\n",
            "\u001b[01m\u001b[K./src/stb_image.h:1345:36:\u001b[m\u001b[K \u001b[01;36m\u001b[Knote: \u001b[m\u001b[K...this statement, but the latter is misleadingly indented as if it were guarded by the ‘\u001b[01m\u001b[Kfor\u001b[m\u001b[K’\n",
            "          CASE(2,1) dest[0]=src[0]; \u001b[01;36m\u001b[Kbreak\u001b[m\u001b[K;\n",
            "                                    \u001b[01;36m\u001b[K^~~~~\u001b[m\u001b[K\n",
            "\u001b[01m\u001b[K./src/stb_image.h:1338:44:\u001b[m\u001b[K \u001b[01;35m\u001b[Kwarning: \u001b[m\u001b[Kthis ‘\u001b[01m\u001b[Kfor\u001b[m\u001b[K’ clause does not guard... [\u001b[01;35m\u001b[K-Wmisleading-indentation\u001b[m\u001b[K]\n",
            "       #define CASE(a,b)   case COMBO(a,b): \u001b[01;35m\u001b[Kf\u001b[m\u001b[Kor(i=x-1; i >= 0; --i, src += a, dest += b)\n",
            "                                            \u001b[01;35m\u001b[K^\u001b[m\u001b[K\n",
            "\u001b[01m\u001b[K./src/stb_image.h:1346:10:\u001b[m\u001b[K \u001b[01;36m\u001b[Knote: \u001b[m\u001b[Kin expansion of macro ‘\u001b[01m\u001b[KCASE\u001b[m\u001b[K’\n",
            "          \u001b[01;36m\u001b[KCASE\u001b[m\u001b[K(2,3) dest[0]=dest[1]=dest[2]=src[0]; break;\n",
            "          \u001b[01;36m\u001b[K^~~~\u001b[m\u001b[K\n",
            "\u001b[01m\u001b[K./src/stb_image.h:1346:52:\u001b[m\u001b[K \u001b[01;36m\u001b[Knote: \u001b[m\u001b[K...this statement, but the latter is misleadingly indented as if it were guarded by the ‘\u001b[01m\u001b[Kfor\u001b[m\u001b[K’\n",
            "          CASE(2,3) dest[0]=dest[1]=dest[2]=src[0]; \u001b[01;36m\u001b[Kbreak\u001b[m\u001b[K;\n",
            "                                                    \u001b[01;36m\u001b[K^~~~~\u001b[m\u001b[K\n",
            "\u001b[01m\u001b[K./src/stb_image.h:1338:44:\u001b[m\u001b[K \u001b[01;35m\u001b[Kwarning: \u001b[m\u001b[Kthis ‘\u001b[01m\u001b[Kfor\u001b[m\u001b[K’ clause does not guard... [\u001b[01;35m\u001b[K-Wmisleading-indentation\u001b[m\u001b[K]\n",
            "       #define CASE(a,b)   case COMBO(a,b): \u001b[01;35m\u001b[Kf\u001b[m\u001b[Kor(i=x-1; i >= 0; --i, src += a, dest += b)\n",
            "                                            \u001b[01;35m\u001b[K^\u001b[m\u001b[K\n",
            "\u001b[01m\u001b[K./src/stb_image.h:1347:10:\u001b[m\u001b[K \u001b[01;36m\u001b[Knote: \u001b[m\u001b[Kin expansion of macro ‘\u001b[01m\u001b[KCASE\u001b[m\u001b[K’\n",
            "          \u001b[01;36m\u001b[KCASE\u001b[m\u001b[K(2,4) dest[0]=dest[1]=dest[2]=src[0], dest[3]=src[1]; break;\n",
            "          \u001b[01;36m\u001b[K^~~~\u001b[m\u001b[K\n",
            "\u001b[01m\u001b[K./src/stb_image.h:1347:68:\u001b[m\u001b[K \u001b[01;36m\u001b[Knote: \u001b[m\u001b[K...this statement, but the latter is misleadingly indented as if it were guarded by the ‘\u001b[01m\u001b[Kfor\u001b[m\u001b[K’\n",
            "          CASE(2,4) dest[0]=dest[1]=dest[2]=src[0], dest[3]=src[1]; \u001b[01;36m\u001b[Kbreak\u001b[m\u001b[K;\n",
            "                                                                    \u001b[01;36m\u001b[K^~~~~\u001b[m\u001b[K\n",
            "\u001b[01m\u001b[K./src/stb_image.h:1338:44:\u001b[m\u001b[K \u001b[01;35m\u001b[Kwarning: \u001b[m\u001b[Kthis ‘\u001b[01m\u001b[Kfor\u001b[m\u001b[K’ clause does not guard... [\u001b[01;35m\u001b[K-Wmisleading-indentation\u001b[m\u001b[K]\n",
            "       #define CASE(a,b)   case COMBO(a,b): \u001b[01;35m\u001b[Kf\u001b[m\u001b[Kor(i=x-1; i >= 0; --i, src += a, dest += b)\n",
            "                                            \u001b[01;35m\u001b[K^\u001b[m\u001b[K\n",
            "\u001b[01m\u001b[K./src/stb_image.h:1348:10:\u001b[m\u001b[K \u001b[01;36m\u001b[Knote: \u001b[m\u001b[Kin expansion of macro ‘\u001b[01m\u001b[KCASE\u001b[m\u001b[K’\n",
            "          \u001b[01;36m\u001b[KCASE\u001b[m\u001b[K(3,4) dest[0]=src[0],dest[1]=src[1],dest[2]=src[2],dest[3]=255; break;\n",
            "          \u001b[01;36m\u001b[K^~~~\u001b[m\u001b[K\n",
            "\u001b[01m\u001b[K./src/stb_image.h:1348:78:\u001b[m\u001b[K \u001b[01;36m\u001b[Knote: \u001b[m\u001b[K...this statement, but the latter is misleadingly indented as if it were guarded by the ‘\u001b[01m\u001b[Kfor\u001b[m\u001b[K’\n",
            "      CASE(3,4) dest[0]=src[0],dest[1]=src[1],dest[2]=src[2],dest[3]=255; \u001b[01;36m\u001b[Kbreak\u001b[m\u001b[K;\n",
            "                                                                          \u001b[01;36m\u001b[K^~~~~\u001b[m\u001b[K\n",
            "\u001b[01m\u001b[K./src/stb_image.h:1338:44:\u001b[m\u001b[K \u001b[01;35m\u001b[Kwarning: \u001b[m\u001b[Kthis ‘\u001b[01m\u001b[Kfor\u001b[m\u001b[K’ clause does not guard... [\u001b[01;35m\u001b[K-Wmisleading-indentation\u001b[m\u001b[K]\n",
            "       #define CASE(a,b)   case COMBO(a,b): \u001b[01;35m\u001b[Kf\u001b[m\u001b[Kor(i=x-1; i >= 0; --i, src += a, dest += b)\n",
            "                                            \u001b[01;35m\u001b[K^\u001b[m\u001b[K\n",
            "\u001b[01m\u001b[K./src/stb_image.h:1349:10:\u001b[m\u001b[K \u001b[01;36m\u001b[Knote: \u001b[m\u001b[Kin expansion of macro ‘\u001b[01m\u001b[KCASE\u001b[m\u001b[K’\n",
            "          \u001b[01;36m\u001b[KCASE\u001b[m\u001b[K(3,1) dest[0]=stbi__compute_y(src[0],src[1],src[2]); break;\n",
            "          \u001b[01;36m\u001b[K^~~~\u001b[m\u001b[K\n",
            "\u001b[01m\u001b[K./src/stb_image.h:1349:67:\u001b[m\u001b[K \u001b[01;36m\u001b[Knote: \u001b[m\u001b[K...this statement, but the latter is misleadingly indented as if it were guarded by the ‘\u001b[01m\u001b[Kfor\u001b[m\u001b[K’\n",
            "          CASE(3,1) dest[0]=stbi__compute_y(src[0],src[1],src[2]); \u001b[01;36m\u001b[Kbreak\u001b[m\u001b[K;\n",
            "                                                                   \u001b[01;36m\u001b[K^~~~~\u001b[m\u001b[K\n",
            "\u001b[01m\u001b[K./src/stb_image.h:1338:44:\u001b[m\u001b[K \u001b[01;35m\u001b[Kwarning: \u001b[m\u001b[Kthis ‘\u001b[01m\u001b[Kfor\u001b[m\u001b[K’ clause does not guard... [\u001b[01;35m\u001b[K-Wmisleading-indentation\u001b[m\u001b[K]\n",
            "       #define CASE(a,b)   case COMBO(a,b): \u001b[01;35m\u001b[Kf\u001b[m\u001b[Kor(i=x-1; i >= 0; --i, src += a, dest += b)\n",
            "                                            \u001b[01;35m\u001b[K^\u001b[m\u001b[K\n",
            "\u001b[01m\u001b[K./src/stb_image.h:1350:10:\u001b[m\u001b[K \u001b[01;36m\u001b[Knote: \u001b[m\u001b[Kin expansion of macro ‘\u001b[01m\u001b[KCASE\u001b[m\u001b[K’\n",
            "          \u001b[01;36m\u001b[KCASE\u001b[m\u001b[K(3,2) dest[0]=stbi__compute_y(src[0],src[1],src[2]), dest[1] = 255; break;\n",
            "          \u001b[01;36m\u001b[K^~~~\u001b[m\u001b[K\n",
            "\u001b[01m\u001b[K./src/stb_image.h:1350:82:\u001b[m\u001b[K \u001b[01;36m\u001b[Knote: \u001b[m\u001b[K...this statement, but the latter is misleadingly indented as if it were guarded by the ‘\u001b[01m\u001b[Kfor\u001b[m\u001b[K’\n",
            "  CASE(3,2) dest[0]=stbi__compute_y(src[0],src[1],src[2]), dest[1] = 255; \u001b[01;36m\u001b[Kbreak\u001b[m\u001b[K;\n",
            "                                                                          \u001b[01;36m\u001b[K^~~~~\u001b[m\u001b[K\n",
            "\u001b[01m\u001b[K./src/stb_image.h:1338:44:\u001b[m\u001b[K \u001b[01;35m\u001b[Kwarning: \u001b[m\u001b[Kthis ‘\u001b[01m\u001b[Kfor\u001b[m\u001b[K’ clause does not guard... [\u001b[01;35m\u001b[K-Wmisleading-indentation\u001b[m\u001b[K]\n",
            "       #define CASE(a,b)   case COMBO(a,b): \u001b[01;35m\u001b[Kf\u001b[m\u001b[Kor(i=x-1; i >= 0; --i, src += a, dest += b)\n",
            "                                            \u001b[01;35m\u001b[K^\u001b[m\u001b[K\n",
            "\u001b[01m\u001b[K./src/stb_image.h:1351:10:\u001b[m\u001b[K \u001b[01;36m\u001b[Knote: \u001b[m\u001b[Kin expansion of macro ‘\u001b[01m\u001b[KCASE\u001b[m\u001b[K’\n",
            "          \u001b[01;36m\u001b[KCASE\u001b[m\u001b[K(4,1) dest[0]=stbi__compute_y(src[0],src[1],src[2]); break;\n",
            "          \u001b[01;36m\u001b[K^~~~\u001b[m\u001b[K\n",
            "\u001b[01m\u001b[K./src/stb_image.h:1351:67:\u001b[m\u001b[K \u001b[01;36m\u001b[Knote: \u001b[m\u001b[K...this statement, but the latter is misleadingly indented as if it were guarded by the ‘\u001b[01m\u001b[Kfor\u001b[m\u001b[K’\n",
            "          CASE(4,1) dest[0]=stbi__compute_y(src[0],src[1],src[2]); \u001b[01;36m\u001b[Kbreak\u001b[m\u001b[K;\n",
            "                                                                   \u001b[01;36m\u001b[K^~~~~\u001b[m\u001b[K\n",
            "\u001b[01m\u001b[K./src/stb_image.h:1338:44:\u001b[m\u001b[K \u001b[01;35m\u001b[Kwarning: \u001b[m\u001b[Kthis ‘\u001b[01m\u001b[Kfor\u001b[m\u001b[K’ clause does not guard... [\u001b[01;35m\u001b[K-Wmisleading-indentation\u001b[m\u001b[K]\n",
            "       #define CASE(a,b)   case COMBO(a,b): \u001b[01;35m\u001b[Kf\u001b[m\u001b[Kor(i=x-1; i >= 0; --i, src += a, dest += b)\n",
            "                                            \u001b[01;35m\u001b[K^\u001b[m\u001b[K\n",
            "\u001b[01m\u001b[K./src/stb_image.h:1352:10:\u001b[m\u001b[K \u001b[01;36m\u001b[Knote: \u001b[m\u001b[Kin expansion of macro ‘\u001b[01m\u001b[KCASE\u001b[m\u001b[K’\n",
            "          \u001b[01;36m\u001b[KCASE\u001b[m\u001b[K(4,2) dest[0]=stbi__compute_y(src[0],src[1],src[2]), dest[1] = src[3]; break;\n",
            "          \u001b[01;36m\u001b[K^~~~\u001b[m\u001b[K\n",
            "\u001b[01m\u001b[K./src/stb_image.h:1352:85:\u001b[m\u001b[K \u001b[01;36m\u001b[Knote: \u001b[m\u001b[K...this statement, but the latter is misleadingly indented as if it were guarded by the ‘\u001b[01m\u001b[Kfor\u001b[m\u001b[K’\n",
            " SE(4,2) dest[0]=stbi__compute_y(src[0],src[1],src[2]), dest[1] = src[3]; \u001b[01;36m\u001b[Kbreak\u001b[m\u001b[K;\n",
            "                                                                          \u001b[01;36m\u001b[K^~~~~\u001b[m\u001b[K\n",
            "\u001b[01m\u001b[K./src/stb_image.h:1338:44:\u001b[m\u001b[K \u001b[01;35m\u001b[Kwarning: \u001b[m\u001b[Kthis ‘\u001b[01m\u001b[Kfor\u001b[m\u001b[K’ clause does not guard... [\u001b[01;35m\u001b[K-Wmisleading-indentation\u001b[m\u001b[K]\n",
            "       #define CASE(a,b)   case COMBO(a,b): \u001b[01;35m\u001b[Kf\u001b[m\u001b[Kor(i=x-1; i >= 0; --i, src += a, dest += b)\n",
            "                                            \u001b[01;35m\u001b[K^\u001b[m\u001b[K\n",
            "\u001b[01m\u001b[K./src/stb_image.h:1353:10:\u001b[m\u001b[K \u001b[01;36m\u001b[Knote: \u001b[m\u001b[Kin expansion of macro ‘\u001b[01m\u001b[KCASE\u001b[m\u001b[K’\n",
            "          \u001b[01;36m\u001b[KCASE\u001b[m\u001b[K(4,3) dest[0]=src[0],dest[1]=src[1],dest[2]=src[2]; break;\n",
            "          \u001b[01;36m\u001b[K^~~~\u001b[m\u001b[K\n",
            "\u001b[01m\u001b[K./src/stb_image.h:1353:66:\u001b[m\u001b[K \u001b[01;36m\u001b[Knote: \u001b[m\u001b[K...this statement, but the latter is misleadingly indented as if it were guarded by the ‘\u001b[01m\u001b[Kfor\u001b[m\u001b[K’\n",
            "          CASE(4,3) dest[0]=src[0],dest[1]=src[1],dest[2]=src[2]; \u001b[01;36m\u001b[Kbreak\u001b[m\u001b[K;\n",
            "                                                                  \u001b[01;36m\u001b[K^~~~~\u001b[m\u001b[K\n",
            "\u001b[01m\u001b[K./src/stb_image.h:\u001b[m\u001b[K In function ‘\u001b[01m\u001b[Kstbi__create_png_image_raw\u001b[m\u001b[K’:\n",
            "\u001b[01m\u001b[K./src/stb_image.h:4027:17:\u001b[m\u001b[K \u001b[01;35m\u001b[Kwarning: \u001b[m\u001b[Kthis ‘\u001b[01m\u001b[Kfor\u001b[m\u001b[K’ clause does not guard... [\u001b[01;35m\u001b[K-Wmisleading-indentation\u001b[m\u001b[K]\n",
            "                 \u001b[01;35m\u001b[Kf\u001b[m\u001b[Kor (k=0; k < nk; ++k)\n",
            "                 \u001b[01;35m\u001b[K^\u001b[m\u001b[K\n",
            "\u001b[01m\u001b[K./src/stb_image.h:4031:13:\u001b[m\u001b[K \u001b[01;36m\u001b[Knote: \u001b[m\u001b[Kin expansion of macro ‘\u001b[01m\u001b[KCASE\u001b[m\u001b[K’\n",
            "             \u001b[01;36m\u001b[KCASE\u001b[m\u001b[K(STBI__F_sub)          cur[k] = STBI__BYTECAST(raw[k] + cur[k-filter_bytes]); break;\n",
            "             \u001b[01;36m\u001b[K^~~~\u001b[m\u001b[K\n",
            "\u001b[01m\u001b[K./src/stb_image.h:4031:95:\u001b[m\u001b[K \u001b[01;36m\u001b[Knote: \u001b[m\u001b[K...this statement, but the latter is misleadingly indented as if it were guarded by the ‘\u001b[01m\u001b[Kfor\u001b[m\u001b[K’\n",
            " __F_sub)          cur[k] = STBI__BYTECAST(raw[k] + cur[k-filter_bytes]); \u001b[01;36m\u001b[Kbreak\u001b[m\u001b[K;\n",
            "                                                                          \u001b[01;36m\u001b[K^~~~~\u001b[m\u001b[K\n",
            "\u001b[01m\u001b[K./src/stb_image.h:4027:17:\u001b[m\u001b[K \u001b[01;35m\u001b[Kwarning: \u001b[m\u001b[Kthis ‘\u001b[01m\u001b[Kfor\u001b[m\u001b[K’ clause does not guard... [\u001b[01;35m\u001b[K-Wmisleading-indentation\u001b[m\u001b[K]\n",
            "                 \u001b[01;35m\u001b[Kf\u001b[m\u001b[Kor (k=0; k < nk; ++k)\n",
            "                 \u001b[01;35m\u001b[K^\u001b[m\u001b[K\n",
            "\u001b[01m\u001b[K./src/stb_image.h:4032:13:\u001b[m\u001b[K \u001b[01;36m\u001b[Knote: \u001b[m\u001b[Kin expansion of macro ‘\u001b[01m\u001b[KCASE\u001b[m\u001b[K’\n",
            "             \u001b[01;36m\u001b[KCASE\u001b[m\u001b[K(STBI__F_up)           cur[k] = STBI__BYTECAST(raw[k] + prior[k]); break;\n",
            "             \u001b[01;36m\u001b[K^~~~\u001b[m\u001b[K\n",
            "\u001b[01m\u001b[K./src/stb_image.h:4032:84:\u001b[m\u001b[K \u001b[01;36m\u001b[Knote: \u001b[m\u001b[K...this statement, but the latter is misleadingly indented as if it were guarded by the ‘\u001b[01m\u001b[Kfor\u001b[m\u001b[K’\n",
            "   CASE(STBI__F_up)           cur[k] = STBI__BYTECAST(raw[k] + prior[k]); \u001b[01;36m\u001b[Kbreak\u001b[m\u001b[K;\n",
            "                                                                          \u001b[01;36m\u001b[K^~~~~\u001b[m\u001b[K\n",
            "\u001b[01m\u001b[K./src/stb_image.h:4027:17:\u001b[m\u001b[K \u001b[01;35m\u001b[Kwarning: \u001b[m\u001b[Kthis ‘\u001b[01m\u001b[Kfor\u001b[m\u001b[K’ clause does not guard... [\u001b[01;35m\u001b[K-Wmisleading-indentation\u001b[m\u001b[K]\n",
            "                 \u001b[01;35m\u001b[Kf\u001b[m\u001b[Kor (k=0; k < nk; ++k)\n",
            "                 \u001b[01;35m\u001b[K^\u001b[m\u001b[K\n",
            "\u001b[01m\u001b[K./src/stb_image.h:4033:13:\u001b[m\u001b[K \u001b[01;36m\u001b[Knote: \u001b[m\u001b[Kin expansion of macro ‘\u001b[01m\u001b[KCASE\u001b[m\u001b[K’\n",
            "             \u001b[01;36m\u001b[KCASE\u001b[m\u001b[K(STBI__F_avg)          cur[k] = STBI__BYTECAST(raw[k] + ((prior[k] + cur[k-filter_bytes])>>1)); break;\n",
            "             \u001b[01;36m\u001b[K^~~~\u001b[m\u001b[K\n",
            "\u001b[01m\u001b[K./src/stb_image.h:4033:113:\u001b[m\u001b[K \u001b[01;36m\u001b[Knote: \u001b[m\u001b[K...this statement, but the latter is misleadingly indented as if it were guarded by the ‘\u001b[01m\u001b[Kfor\u001b[m\u001b[K’\n",
            " cur[k] = STBI__BYTECAST(raw[k] + ((prior[k] + cur[k-filter_bytes])>>1)); \u001b[01;36m\u001b[Kbreak\u001b[m\u001b[K;\n",
            "                                                                          \u001b[01;36m\u001b[K^~~~~\u001b[m\u001b[K\n",
            "\u001b[01m\u001b[K./src/stb_image.h:4027:17:\u001b[m\u001b[K \u001b[01;35m\u001b[Kwarning: \u001b[m\u001b[Kthis ‘\u001b[01m\u001b[Kfor\u001b[m\u001b[K’ clause does not guard... [\u001b[01;35m\u001b[K-Wmisleading-indentation\u001b[m\u001b[K]\n",
            "                 \u001b[01;35m\u001b[Kf\u001b[m\u001b[Kor (k=0; k < nk; ++k)\n",
            "                 \u001b[01;35m\u001b[K^\u001b[m\u001b[K\n",
            "\u001b[01m\u001b[K./src/stb_image.h:4034:13:\u001b[m\u001b[K \u001b[01;36m\u001b[Knote: \u001b[m\u001b[Kin expansion of macro ‘\u001b[01m\u001b[KCASE\u001b[m\u001b[K’\n",
            "             \u001b[01;36m\u001b[KCASE\u001b[m\u001b[K(STBI__F_paeth)        cur[k] = STBI__BYTECAST(raw[k] + stbi__paeth(cur[k-filter_bytes],prior[k],prior[k-filter_bytes])); break;\n",
            "             \u001b[01;36m\u001b[K^~~~\u001b[m\u001b[K\n",
            "\u001b[01m\u001b[K./src/stb_image.h:4034:139:\u001b[m\u001b[K \u001b[01;36m\u001b[Knote: \u001b[m\u001b[K...this statement, but the latter is misleadingly indented as if it were guarded by the ‘\u001b[01m\u001b[Kfor\u001b[m\u001b[K’\n",
            " w[k] + stbi__paeth(cur[k-filter_bytes],prior[k],prior[k-filter_bytes])); \u001b[01;36m\u001b[Kbreak\u001b[m\u001b[K;\n",
            "                                                                          \u001b[01;36m\u001b[K^~~~~\u001b[m\u001b[K\n",
            "\u001b[01m\u001b[K./src/stb_image.h:4027:17:\u001b[m\u001b[K \u001b[01;35m\u001b[Kwarning: \u001b[m\u001b[Kthis ‘\u001b[01m\u001b[Kfor\u001b[m\u001b[K’ clause does not guard... [\u001b[01;35m\u001b[K-Wmisleading-indentation\u001b[m\u001b[K]\n",
            "                 \u001b[01;35m\u001b[Kf\u001b[m\u001b[Kor (k=0; k < nk; ++k)\n",
            "                 \u001b[01;35m\u001b[K^\u001b[m\u001b[K\n",
            "\u001b[01m\u001b[K./src/stb_image.h:4035:13:\u001b[m\u001b[K \u001b[01;36m\u001b[Knote: \u001b[m\u001b[Kin expansion of macro ‘\u001b[01m\u001b[KCASE\u001b[m\u001b[K’\n",
            "             \u001b[01;36m\u001b[KCASE\u001b[m\u001b[K(STBI__F_avg_first)    cur[k] = STBI__BYTECAST(raw[k] + (cur[k-filter_bytes] >> 1)); break;\n",
            "             \u001b[01;36m\u001b[K^~~~\u001b[m\u001b[K\n",
            "\u001b[01m\u001b[K./src/stb_image.h:4035:102:\u001b[m\u001b[K \u001b[01;36m\u001b[Knote: \u001b[m\u001b[K...this statement, but the latter is misleadingly indented as if it were guarded by the ‘\u001b[01m\u001b[Kfor\u001b[m\u001b[K’\n",
            " _first)    cur[k] = STBI__BYTECAST(raw[k] + (cur[k-filter_bytes] >> 1)); \u001b[01;36m\u001b[Kbreak\u001b[m\u001b[K;\n",
            "                                                                          \u001b[01;36m\u001b[K^~~~~\u001b[m\u001b[K\n",
            "\u001b[01m\u001b[K./src/stb_image.h:4027:17:\u001b[m\u001b[K \u001b[01;35m\u001b[Kwarning: \u001b[m\u001b[Kthis ‘\u001b[01m\u001b[Kfor\u001b[m\u001b[K’ clause does not guard... [\u001b[01;35m\u001b[K-Wmisleading-indentation\u001b[m\u001b[K]\n",
            "                 \u001b[01;35m\u001b[Kf\u001b[m\u001b[Kor (k=0; k < nk; ++k)\n",
            "                 \u001b[01;35m\u001b[K^\u001b[m\u001b[K\n",
            "\u001b[01m\u001b[K./src/stb_image.h:4036:13:\u001b[m\u001b[K \u001b[01;36m\u001b[Knote: \u001b[m\u001b[Kin expansion of macro ‘\u001b[01m\u001b[KCASE\u001b[m\u001b[K’\n",
            "             \u001b[01;36m\u001b[KCASE\u001b[m\u001b[K(STBI__F_paeth_first)  cur[k] = STBI__BYTECAST(raw[k] + stbi__paeth(cur[k-filter_bytes],0,0)); break;\n",
            "             \u001b[01;36m\u001b[K^~~~\u001b[m\u001b[K\n",
            "\u001b[01m\u001b[K./src/stb_image.h:4036:112:\u001b[m\u001b[K \u001b[01;36m\u001b[Knote: \u001b[m\u001b[K...this statement, but the latter is misleadingly indented as if it were guarded by the ‘\u001b[01m\u001b[Kfor\u001b[m\u001b[K’\n",
            "  cur[k] = STBI__BYTECAST(raw[k] + stbi__paeth(cur[k-filter_bytes],0,0)); \u001b[01;36m\u001b[Kbreak\u001b[m\u001b[K;\n",
            "                                                                          \u001b[01;36m\u001b[K^~~~~\u001b[m\u001b[K\n",
            "\u001b[01m\u001b[K./src/stb_image.h:4045:20:\u001b[m\u001b[K \u001b[01;35m\u001b[Kwarning: \u001b[m\u001b[Kthis ‘\u001b[01m\u001b[Kfor\u001b[m\u001b[K’ clause does not guard... [\u001b[01;35m\u001b[K-Wmisleading-indentation\u001b[m\u001b[K]\n",
            "                    \u001b[01;35m\u001b[Kf\u001b[m\u001b[Kor (k=0; k < img_n; ++k)\n",
            "                    \u001b[01;35m\u001b[K^\u001b[m\u001b[K\n",
            "\u001b[01m\u001b[K./src/stb_image.h:4047:13:\u001b[m\u001b[K \u001b[01;36m\u001b[Knote: \u001b[m\u001b[Kin expansion of macro ‘\u001b[01m\u001b[KCASE\u001b[m\u001b[K’\n",
            "             \u001b[01;36m\u001b[KCASE\u001b[m\u001b[K(STBI__F_none)         cur[k] = raw[k]; break;\n",
            "             \u001b[01;36m\u001b[K^~~~\u001b[m\u001b[K\n",
            "\u001b[01m\u001b[K./src/stb_image.h:4047:57:\u001b[m\u001b[K \u001b[01;36m\u001b[Knote: \u001b[m\u001b[K...this statement, but the latter is misleadingly indented as if it were guarded by the ‘\u001b[01m\u001b[Kfor\u001b[m\u001b[K’\n",
            "             CASE(STBI__F_none)         cur[k] = raw[k]; \u001b[01;36m\u001b[Kbreak\u001b[m\u001b[K;\n",
            "                                                         \u001b[01;36m\u001b[K^~~~~\u001b[m\u001b[K\n",
            "\u001b[01m\u001b[K./src/stb_image.h:4045:20:\u001b[m\u001b[K \u001b[01;35m\u001b[Kwarning: \u001b[m\u001b[Kthis ‘\u001b[01m\u001b[Kfor\u001b[m\u001b[K’ clause does not guard... [\u001b[01;35m\u001b[K-Wmisleading-indentation\u001b[m\u001b[K]\n",
            "                    \u001b[01;35m\u001b[Kf\u001b[m\u001b[Kor (k=0; k < img_n; ++k)\n",
            "                    \u001b[01;35m\u001b[K^\u001b[m\u001b[K\n",
            "\u001b[01m\u001b[K./src/stb_image.h:4048:13:\u001b[m\u001b[K \u001b[01;36m\u001b[Knote: \u001b[m\u001b[Kin expansion of macro ‘\u001b[01m\u001b[KCASE\u001b[m\u001b[K’\n",
            "             \u001b[01;36m\u001b[KCASE\u001b[m\u001b[K(STBI__F_sub)          cur[k] = STBI__BYTECAST(raw[k] + cur[k-out_n]); break;\n",
            "             \u001b[01;36m\u001b[K^~~~\u001b[m\u001b[K\n",
            "\u001b[01m\u001b[K./src/stb_image.h:4048:88:\u001b[m\u001b[K \u001b[01;36m\u001b[Knote: \u001b[m\u001b[K...this statement, but the latter is misleadingly indented as if it were guarded by the ‘\u001b[01m\u001b[Kfor\u001b[m\u001b[K’\n",
            " SE(STBI__F_sub)          cur[k] = STBI__BYTECAST(raw[k] + cur[k-out_n]); \u001b[01;36m\u001b[Kbreak\u001b[m\u001b[K;\n",
            "                                                                          \u001b[01;36m\u001b[K^~~~~\u001b[m\u001b[K\n",
            "\u001b[01m\u001b[K./src/stb_image.h:4045:20:\u001b[m\u001b[K \u001b[01;35m\u001b[Kwarning: \u001b[m\u001b[Kthis ‘\u001b[01m\u001b[Kfor\u001b[m\u001b[K’ clause does not guard... [\u001b[01;35m\u001b[K-Wmisleading-indentation\u001b[m\u001b[K]\n",
            "                    \u001b[01;35m\u001b[Kf\u001b[m\u001b[Kor (k=0; k < img_n; ++k)\n",
            "                    \u001b[01;35m\u001b[K^\u001b[m\u001b[K\n",
            "\u001b[01m\u001b[K./src/stb_image.h:4049:13:\u001b[m\u001b[K \u001b[01;36m\u001b[Knote: \u001b[m\u001b[Kin expansion of macro ‘\u001b[01m\u001b[KCASE\u001b[m\u001b[K’\n",
            "             \u001b[01;36m\u001b[KCASE\u001b[m\u001b[K(STBI__F_up)           cur[k] = STBI__BYTECAST(raw[k] + prior[k]); break;\n",
            "             \u001b[01;36m\u001b[K^~~~\u001b[m\u001b[K\n",
            "\u001b[01m\u001b[K./src/stb_image.h:4049:84:\u001b[m\u001b[K \u001b[01;36m\u001b[Knote: \u001b[m\u001b[K...this statement, but the latter is misleadingly indented as if it were guarded by the ‘\u001b[01m\u001b[Kfor\u001b[m\u001b[K’\n",
            "   CASE(STBI__F_up)           cur[k] = STBI__BYTECAST(raw[k] + prior[k]); \u001b[01;36m\u001b[Kbreak\u001b[m\u001b[K;\n",
            "                                                                          \u001b[01;36m\u001b[K^~~~~\u001b[m\u001b[K\n",
            "\u001b[01m\u001b[K./src/stb_image.h:4045:20:\u001b[m\u001b[K \u001b[01;35m\u001b[Kwarning: \u001b[m\u001b[Kthis ‘\u001b[01m\u001b[Kfor\u001b[m\u001b[K’ clause does not guard... [\u001b[01;35m\u001b[K-Wmisleading-indentation\u001b[m\u001b[K]\n",
            "                    \u001b[01;35m\u001b[Kf\u001b[m\u001b[Kor (k=0; k < img_n; ++k)\n",
            "                    \u001b[01;35m\u001b[K^\u001b[m\u001b[K\n",
            "\u001b[01m\u001b[K./src/stb_image.h:4050:13:\u001b[m\u001b[K \u001b[01;36m\u001b[Knote: \u001b[m\u001b[Kin expansion of macro ‘\u001b[01m\u001b[KCASE\u001b[m\u001b[K’\n",
            "             \u001b[01;36m\u001b[KCASE\u001b[m\u001b[K(STBI__F_avg)          cur[k] = STBI__BYTECAST(raw[k] + ((prior[k] + cur[k-out_n])>>1)); break;\n",
            "             \u001b[01;36m\u001b[K^~~~\u001b[m\u001b[K\n",
            "\u001b[01m\u001b[K./src/stb_image.h:4050:106:\u001b[m\u001b[K \u001b[01;36m\u001b[Knote: \u001b[m\u001b[K...this statement, but the latter is misleadingly indented as if it were guarded by the ‘\u001b[01m\u001b[Kfor\u001b[m\u001b[K’\n",
            "        cur[k] = STBI__BYTECAST(raw[k] + ((prior[k] + cur[k-out_n])>>1)); \u001b[01;36m\u001b[Kbreak\u001b[m\u001b[K;\n",
            "                                                                          \u001b[01;36m\u001b[K^~~~~\u001b[m\u001b[K\n",
            "\u001b[01m\u001b[K./src/stb_image.h:4045:20:\u001b[m\u001b[K \u001b[01;35m\u001b[Kwarning: \u001b[m\u001b[Kthis ‘\u001b[01m\u001b[Kfor\u001b[m\u001b[K’ clause does not guard... [\u001b[01;35m\u001b[K-Wmisleading-indentation\u001b[m\u001b[K]\n",
            "                    \u001b[01;35m\u001b[Kf\u001b[m\u001b[Kor (k=0; k < img_n; ++k)\n",
            "                    \u001b[01;35m\u001b[K^\u001b[m\u001b[K\n",
            "\u001b[01m\u001b[K./src/stb_image.h:4051:13:\u001b[m\u001b[K \u001b[01;36m\u001b[Knote: \u001b[m\u001b[Kin expansion of macro ‘\u001b[01m\u001b[KCASE\u001b[m\u001b[K’\n",
            "             \u001b[01;36m\u001b[KCASE\u001b[m\u001b[K(STBI__F_paeth)        cur[k] = STBI__BYTECAST(raw[k] + stbi__paeth(cur[k-out_n],prior[k],prior[k-out_n])); break;\n",
            "             \u001b[01;36m\u001b[K^~~~\u001b[m\u001b[K\n",
            "\u001b[01m\u001b[K./src/stb_image.h:4051:125:\u001b[m\u001b[K \u001b[01;36m\u001b[Knote: \u001b[m\u001b[K...this statement, but the latter is misleadingly indented as if it were guarded by the ‘\u001b[01m\u001b[Kfor\u001b[m\u001b[K’\n",
            " I__BYTECAST(raw[k] + stbi__paeth(cur[k-out_n],prior[k],prior[k-out_n])); \u001b[01;36m\u001b[Kbreak\u001b[m\u001b[K;\n",
            "                                                                          \u001b[01;36m\u001b[K^~~~~\u001b[m\u001b[K\n",
            "\u001b[01m\u001b[K./src/stb_image.h:4045:20:\u001b[m\u001b[K \u001b[01;35m\u001b[Kwarning: \u001b[m\u001b[Kthis ‘\u001b[01m\u001b[Kfor\u001b[m\u001b[K’ clause does not guard... [\u001b[01;35m\u001b[K-Wmisleading-indentation\u001b[m\u001b[K]\n",
            "                    \u001b[01;35m\u001b[Kf\u001b[m\u001b[Kor (k=0; k < img_n; ++k)\n",
            "                    \u001b[01;35m\u001b[K^\u001b[m\u001b[K\n",
            "\u001b[01m\u001b[K./src/stb_image.h:4052:13:\u001b[m\u001b[K \u001b[01;36m\u001b[Knote: \u001b[m\u001b[Kin expansion of macro ‘\u001b[01m\u001b[KCASE\u001b[m\u001b[K’\n",
            "             \u001b[01;36m\u001b[KCASE\u001b[m\u001b[K(STBI__F_avg_first)    cur[k] = STBI__BYTECAST(raw[k] + (cur[k-out_n] >> 1)); break;\n",
            "             \u001b[01;36m\u001b[K^~~~\u001b[m\u001b[K\n",
            "\u001b[01m\u001b[K./src/stb_image.h:4052:95:\u001b[m\u001b[K \u001b[01;36m\u001b[Knote: \u001b[m\u001b[K...this statement, but the latter is misleadingly indented as if it were guarded by the ‘\u001b[01m\u001b[Kfor\u001b[m\u001b[K’\n",
            " __F_avg_first)    cur[k] = STBI__BYTECAST(raw[k] + (cur[k-out_n] >> 1)); \u001b[01;36m\u001b[Kbreak\u001b[m\u001b[K;\n",
            "                                                                          \u001b[01;36m\u001b[K^~~~~\u001b[m\u001b[K\n",
            "\u001b[01m\u001b[K./src/stb_image.h:4045:20:\u001b[m\u001b[K \u001b[01;35m\u001b[Kwarning: \u001b[m\u001b[Kthis ‘\u001b[01m\u001b[Kfor\u001b[m\u001b[K’ clause does not guard... [\u001b[01;35m\u001b[K-Wmisleading-indentation\u001b[m\u001b[K]\n",
            "                    \u001b[01;35m\u001b[Kf\u001b[m\u001b[Kor (k=0; k < img_n; ++k)\n",
            "                    \u001b[01;35m\u001b[K^\u001b[m\u001b[K\n",
            "\u001b[01m\u001b[K./src/stb_image.h:4053:13:\u001b[m\u001b[K \u001b[01;36m\u001b[Knote: \u001b[m\u001b[Kin expansion of macro ‘\u001b[01m\u001b[KCASE\u001b[m\u001b[K’\n",
            "             \u001b[01;36m\u001b[KCASE\u001b[m\u001b[K(STBI__F_paeth_first)  cur[k] = STBI__BYTECAST(raw[k] + stbi__paeth(cur[k-out_n],0,0)); break;\n",
            "             \u001b[01;36m\u001b[K^~~~\u001b[m\u001b[K\n",
            "\u001b[01m\u001b[K./src/stb_image.h:4053:105:\u001b[m\u001b[K \u001b[01;36m\u001b[Knote: \u001b[m\u001b[K...this statement, but the latter is misleadingly indented as if it were guarded by the ‘\u001b[01m\u001b[Kfor\u001b[m\u001b[K’\n",
            " first)  cur[k] = STBI__BYTECAST(raw[k] + stbi__paeth(cur[k-out_n],0,0)); \u001b[01;36m\u001b[Kbreak\u001b[m\u001b[K;\n",
            "                                                                          \u001b[01;36m\u001b[K^~~~~\u001b[m\u001b[K\n",
            "gcc -Iinclude/ -Isrc/ -Wall -Wno-unknown-pragmas -Wfatal-errors -fPIC -Ofast -c ./src/activations.c -o obj/activations.o\n",
            "gcc -Iinclude/ -Isrc/ -Wall -Wno-unknown-pragmas -Wfatal-errors -fPIC -Ofast -c ./src/im2col.c -o obj/im2col.o\n"
          ],
          "name": "stdout"
        },
        {
          "output_type": "stream",
          "text": [
            "gcc -Iinclude/ -Isrc/ -Wall -Wno-unknown-pragmas -Wfatal-errors -fPIC -Ofast -c ./src/col2im.c -o obj/col2im.o\n",
            "gcc -Iinclude/ -Isrc/ -Wall -Wno-unknown-pragmas -Wfatal-errors -fPIC -Ofast -c ./src/blas.c -o obj/blas.o\n",
            "gcc -Iinclude/ -Isrc/ -Wall -Wno-unknown-pragmas -Wfatal-errors -fPIC -Ofast -c ./src/crop_layer.c -o obj/crop_layer.o\n",
            "gcc -Iinclude/ -Isrc/ -Wall -Wno-unknown-pragmas -Wfatal-errors -fPIC -Ofast -c ./src/dropout_layer.c -o obj/dropout_layer.o\n",
            "gcc -Iinclude/ -Isrc/ -Wall -Wno-unknown-pragmas -Wfatal-errors -fPIC -Ofast -c ./src/maxpool_layer.c -o obj/maxpool_layer.o\n",
            "gcc -Iinclude/ -Isrc/ -Wall -Wno-unknown-pragmas -Wfatal-errors -fPIC -Ofast -c ./src/softmax_layer.c -o obj/softmax_layer.o\n",
            "gcc -Iinclude/ -Isrc/ -Wall -Wno-unknown-pragmas -Wfatal-errors -fPIC -Ofast -c ./src/data.c -o obj/data.o\n",
            "\u001b[01m\u001b[K./src/data.c:\u001b[m\u001b[K In function ‘\u001b[01m\u001b[Kload_regression_labels_paths\u001b[m\u001b[K’:\n",
            "\u001b[01m\u001b[K./src/data.c:558:9:\u001b[m\u001b[K \u001b[01;35m\u001b[Kwarning: \u001b[m\u001b[Kignoring return value of ‘\u001b[01m\u001b[Kfscanf\u001b[m\u001b[K’, declared with attribute warn_unused_result [\u001b[01;35m\u001b[K-Wunused-result\u001b[m\u001b[K]\n",
            "         \u001b[01;35m\u001b[Kfscanf(file, \"%f\", &(y.vals[i][0]))\u001b[m\u001b[K;\n",
            "         \u001b[01;35m\u001b[K^~~~~~~~~~~~~~~~~~~~~~~~~~~~~~~~~~~\u001b[m\u001b[K\n",
            "\u001b[01m\u001b[K./src/data.c:\u001b[m\u001b[K In function ‘\u001b[01m\u001b[Kload_cifar10_data\u001b[m\u001b[K’:\n",
            "\u001b[01m\u001b[K./src/data.c:1341:9:\u001b[m\u001b[K \u001b[01;35m\u001b[Kwarning: \u001b[m\u001b[Kignoring return value of ‘\u001b[01m\u001b[Kfread\u001b[m\u001b[K’, declared with attribute warn_unused_result [\u001b[01;35m\u001b[K-Wunused-result\u001b[m\u001b[K]\n",
            "         \u001b[01;35m\u001b[Kfread(bytes, 1, 3073, fp)\u001b[m\u001b[K;\n",
            "         \u001b[01;35m\u001b[K^~~~~~~~~~~~~~~~~~~~~~~~~\u001b[m\u001b[K\n",
            "\u001b[01m\u001b[K./src/data.c:\u001b[m\u001b[K In function ‘\u001b[01m\u001b[Kload_all_cifar10\u001b[m\u001b[K’:\n",
            "\u001b[01m\u001b[K./src/data.c:1404:13:\u001b[m\u001b[K \u001b[01;35m\u001b[Kwarning: \u001b[m\u001b[Kignoring return value of ‘\u001b[01m\u001b[Kfread\u001b[m\u001b[K’, declared with attribute warn_unused_result [\u001b[01;35m\u001b[K-Wunused-result\u001b[m\u001b[K]\n",
            "             \u001b[01;35m\u001b[Kfread(bytes, 1, 3073, fp)\u001b[m\u001b[K;\n",
            "             \u001b[01;35m\u001b[K^~~~~~~~~~~~~~~~~~~~~~~~~\u001b[m\u001b[K\n",
            "gcc -Iinclude/ -Isrc/ -Wall -Wno-unknown-pragmas -Wfatal-errors -fPIC -Ofast -c ./src/matrix.c -o obj/matrix.o\n",
            "gcc -Iinclude/ -Isrc/ -Wall -Wno-unknown-pragmas -Wfatal-errors -fPIC -Ofast -c ./src/network.c -o obj/network.o\n",
            "gcc -Iinclude/ -Isrc/ -Wall -Wno-unknown-pragmas -Wfatal-errors -fPIC -Ofast -c ./src/connected_layer.c -o obj/connected_layer.o\n",
            "gcc -Iinclude/ -Isrc/ -Wall -Wno-unknown-pragmas -Wfatal-errors -fPIC -Ofast -c ./src/cost_layer.c -o obj/cost_layer.o\n",
            "gcc -Iinclude/ -Isrc/ -Wall -Wno-unknown-pragmas -Wfatal-errors -fPIC -Ofast -c ./src/parser.c -o obj/parser.o\n",
            "\u001b[01m\u001b[K./src/parser.c:\u001b[m\u001b[K In function ‘\u001b[01m\u001b[Kload_connected_weights\u001b[m\u001b[K’:\n",
            "\u001b[01m\u001b[K./src/parser.c:978:5:\u001b[m\u001b[K \u001b[01;35m\u001b[Kwarning: \u001b[m\u001b[Kignoring return value of ‘\u001b[01m\u001b[Kfread\u001b[m\u001b[K’, declared with attribute warn_unused_result [\u001b[01;35m\u001b[K-Wunused-result\u001b[m\u001b[K]\n",
            "     \u001b[01;35m\u001b[Kfread(l.biases, sizeof(float), l.outputs, fp)\u001b[m\u001b[K;\n",
            "     \u001b[01;35m\u001b[K^~~~~~~~~~~~~~~~~~~~~~~~~~~~~~~~~~~~~~~~~~~~~\u001b[m\u001b[K\n",
            "\u001b[01m\u001b[K./src/parser.c:979:5:\u001b[m\u001b[K \u001b[01;35m\u001b[Kwarning: \u001b[m\u001b[Kignoring return value of ‘\u001b[01m\u001b[Kfread\u001b[m\u001b[K’, declared with attribute warn_unused_result [\u001b[01;35m\u001b[K-Wunused-result\u001b[m\u001b[K]\n",
            "     \u001b[01;35m\u001b[Kfread(l.weights, sizeof(float), l.outputs*l.inputs, fp)\u001b[m\u001b[K;\n",
            "     \u001b[01;35m\u001b[K^~~~~~~~~~~~~~~~~~~~~~~~~~~~~~~~~~~~~~~~~~~~~~~~~~~~~~~\u001b[m\u001b[K\n",
            "\u001b[01m\u001b[K./src/parser.c:986:9:\u001b[m\u001b[K \u001b[01;35m\u001b[Kwarning: \u001b[m\u001b[Kignoring return value of ‘\u001b[01m\u001b[Kfread\u001b[m\u001b[K’, declared with attribute warn_unused_result [\u001b[01;35m\u001b[K-Wunused-result\u001b[m\u001b[K]\n",
            "         \u001b[01;35m\u001b[Kfread(l.scales, sizeof(float), l.outputs, fp)\u001b[m\u001b[K;\n",
            "         \u001b[01;35m\u001b[K^~~~~~~~~~~~~~~~~~~~~~~~~~~~~~~~~~~~~~~~~~~~~\u001b[m\u001b[K\n",
            "\u001b[01m\u001b[K./src/parser.c:987:9:\u001b[m\u001b[K \u001b[01;35m\u001b[Kwarning: \u001b[m\u001b[Kignoring return value of ‘\u001b[01m\u001b[Kfread\u001b[m\u001b[K’, declared with attribute warn_unused_result [\u001b[01;35m\u001b[K-Wunused-result\u001b[m\u001b[K]\n",
            "         \u001b[01;35m\u001b[Kfread(l.rolling_mean, sizeof(float), l.outputs, fp)\u001b[m\u001b[K;\n",
            "         \u001b[01;35m\u001b[K^~~~~~~~~~~~~~~~~~~~~~~~~~~~~~~~~~~~~~~~~~~~~~~~~~~\u001b[m\u001b[K\n",
            "\u001b[01m\u001b[K./src/parser.c:988:9:\u001b[m\u001b[K \u001b[01;35m\u001b[Kwarning: \u001b[m\u001b[Kignoring return value of ‘\u001b[01m\u001b[Kfread\u001b[m\u001b[K’, declared with attribute warn_unused_result [\u001b[01;35m\u001b[K-Wunused-result\u001b[m\u001b[K]\n",
            "         \u001b[01;35m\u001b[Kfread(l.rolling_variance, sizeof(float), l.outputs, fp)\u001b[m\u001b[K;\n",
            "         \u001b[01;35m\u001b[K^~~~~~~~~~~~~~~~~~~~~~~~~~~~~~~~~~~~~~~~~~~~~~~~~~~~~~~\u001b[m\u001b[K\n",
            "\u001b[01m\u001b[K./src/parser.c:\u001b[m\u001b[K In function ‘\u001b[01m\u001b[Kload_batchnorm_weights\u001b[m\u001b[K’:\n",
            "\u001b[01m\u001b[K./src/parser.c:1002:5:\u001b[m\u001b[K \u001b[01;35m\u001b[Kwarning: \u001b[m\u001b[Kignoring return value of ‘\u001b[01m\u001b[Kfread\u001b[m\u001b[K’, declared with attribute warn_unused_result [\u001b[01;35m\u001b[K-Wunused-result\u001b[m\u001b[K]\n",
            "     \u001b[01;35m\u001b[Kfread(l.scales, sizeof(float), l.c, fp)\u001b[m\u001b[K;\n",
            "     \u001b[01;35m\u001b[K^~~~~~~~~~~~~~~~~~~~~~~~~~~~~~~~~~~~~~~\u001b[m\u001b[K\n",
            "\u001b[01m\u001b[K./src/parser.c:1003:5:\u001b[m\u001b[K \u001b[01;35m\u001b[Kwarning: \u001b[m\u001b[Kignoring return value of ‘\u001b[01m\u001b[Kfread\u001b[m\u001b[K’, declared with attribute warn_unused_result [\u001b[01;35m\u001b[K-Wunused-result\u001b[m\u001b[K]\n",
            "     \u001b[01;35m\u001b[Kfread(l.rolling_mean, sizeof(float), l.c, fp)\u001b[m\u001b[K;\n",
            "     \u001b[01;35m\u001b[K^~~~~~~~~~~~~~~~~~~~~~~~~~~~~~~~~~~~~~~~~~~~~\u001b[m\u001b[K\n",
            "\u001b[01m\u001b[K./src/parser.c:1004:5:\u001b[m\u001b[K \u001b[01;35m\u001b[Kwarning: \u001b[m\u001b[Kignoring return value of ‘\u001b[01m\u001b[Kfread\u001b[m\u001b[K’, declared with attribute warn_unused_result [\u001b[01;35m\u001b[K-Wunused-result\u001b[m\u001b[K]\n",
            "     \u001b[01;35m\u001b[Kfread(l.rolling_variance, sizeof(float), l.c, fp)\u001b[m\u001b[K;\n",
            "     \u001b[01;35m\u001b[K^~~~~~~~~~~~~~~~~~~~~~~~~~~~~~~~~~~~~~~~~~~~~~~~~\u001b[m\u001b[K\n",
            "\u001b[01m\u001b[K./src/parser.c:\u001b[m\u001b[K In function ‘\u001b[01m\u001b[Kload_convolutional_weights_binary\u001b[m\u001b[K’:\n",
            "\u001b[01m\u001b[K./src/parser.c:1014:5:\u001b[m\u001b[K \u001b[01;35m\u001b[Kwarning: \u001b[m\u001b[Kignoring return value of ‘\u001b[01m\u001b[Kfread\u001b[m\u001b[K’, declared with attribute warn_unused_result [\u001b[01;35m\u001b[K-Wunused-result\u001b[m\u001b[K]\n",
            "     \u001b[01;35m\u001b[Kfread(l.biases, sizeof(float), l.n, fp)\u001b[m\u001b[K;\n",
            "     \u001b[01;35m\u001b[K^~~~~~~~~~~~~~~~~~~~~~~~~~~~~~~~~~~~~~~\u001b[m\u001b[K\n",
            "\u001b[01m\u001b[K./src/parser.c:1016:9:\u001b[m\u001b[K \u001b[01;35m\u001b[Kwarning: \u001b[m\u001b[Kignoring return value of ‘\u001b[01m\u001b[Kfread\u001b[m\u001b[K’, declared with attribute warn_unused_result [\u001b[01;35m\u001b[K-Wunused-result\u001b[m\u001b[K]\n",
            "         \u001b[01;35m\u001b[Kfread(l.scales, sizeof(float), l.n, fp)\u001b[m\u001b[K;\n",
            "         \u001b[01;35m\u001b[K^~~~~~~~~~~~~~~~~~~~~~~~~~~~~~~~~~~~~~~\u001b[m\u001b[K\n",
            "\u001b[01m\u001b[K./src/parser.c:1017:9:\u001b[m\u001b[K \u001b[01;35m\u001b[Kwarning: \u001b[m\u001b[Kignoring return value of ‘\u001b[01m\u001b[Kfread\u001b[m\u001b[K’, declared with attribute warn_unused_result [\u001b[01;35m\u001b[K-Wunused-result\u001b[m\u001b[K]\n",
            "         \u001b[01;35m\u001b[Kfread(l.rolling_mean, sizeof(float), l.n, fp)\u001b[m\u001b[K;\n",
            "         \u001b[01;35m\u001b[K^~~~~~~~~~~~~~~~~~~~~~~~~~~~~~~~~~~~~~~~~~~~~\u001b[m\u001b[K\n",
            "\u001b[01m\u001b[K./src/parser.c:1018:9:\u001b[m\u001b[K \u001b[01;35m\u001b[Kwarning: \u001b[m\u001b[Kignoring return value of ‘\u001b[01m\u001b[Kfread\u001b[m\u001b[K’, declared with attribute warn_unused_result [\u001b[01;35m\u001b[K-Wunused-result\u001b[m\u001b[K]\n",
            "         \u001b[01;35m\u001b[Kfread(l.rolling_variance, sizeof(float), l.n, fp)\u001b[m\u001b[K;\n",
            "         \u001b[01;35m\u001b[K^~~~~~~~~~~~~~~~~~~~~~~~~~~~~~~~~~~~~~~~~~~~~~~~~\u001b[m\u001b[K\n",
            "\u001b[01m\u001b[K./src/parser.c:1024:9:\u001b[m\u001b[K \u001b[01;35m\u001b[Kwarning: \u001b[m\u001b[Kignoring return value of ‘\u001b[01m\u001b[Kfread\u001b[m\u001b[K’, declared with attribute warn_unused_result [\u001b[01;35m\u001b[K-Wunused-result\u001b[m\u001b[K]\n",
            "         \u001b[01;35m\u001b[Kfread(&mean, sizeof(float), 1, fp)\u001b[m\u001b[K;\n",
            "         \u001b[01;35m\u001b[K^~~~~~~~~~~~~~~~~~~~~~~~~~~~~~~~~~\u001b[m\u001b[K\n",
            "\u001b[01m\u001b[K./src/parser.c:1028:13:\u001b[m\u001b[K \u001b[01;35m\u001b[Kwarning: \u001b[m\u001b[Kignoring return value of ‘\u001b[01m\u001b[Kfread\u001b[m\u001b[K’, declared with attribute warn_unused_result [\u001b[01;35m\u001b[K-Wunused-result\u001b[m\u001b[K]\n",
            "             \u001b[01;35m\u001b[Kfread(&c, sizeof(char), 1, fp)\u001b[m\u001b[K;\n",
            "             \u001b[01;35m\u001b[K^~~~~~~~~~~~~~~~~~~~~~~~~~~~~~\u001b[m\u001b[K\n",
            "\u001b[01m\u001b[K./src/parser.c:\u001b[m\u001b[K In function ‘\u001b[01m\u001b[Kload_convolutional_weights\u001b[m\u001b[K’:\n",
            "\u001b[01m\u001b[K./src/parser.c:1049:5:\u001b[m\u001b[K \u001b[01;35m\u001b[Kwarning: \u001b[m\u001b[Kignoring return value of ‘\u001b[01m\u001b[Kfread\u001b[m\u001b[K’, declared with attribute warn_unused_result [\u001b[01;35m\u001b[K-Wunused-result\u001b[m\u001b[K]\n",
            "     \u001b[01;35m\u001b[Kfread(l.biases, sizeof(float), l.n, fp)\u001b[m\u001b[K;\n",
            "     \u001b[01;35m\u001b[K^~~~~~~~~~~~~~~~~~~~~~~~~~~~~~~~~~~~~~~\u001b[m\u001b[K\n",
            "\u001b[01m\u001b[K./src/parser.c:1051:9:\u001b[m\u001b[K \u001b[01;35m\u001b[Kwarning: \u001b[m\u001b[Kignoring return value of ‘\u001b[01m\u001b[Kfread\u001b[m\u001b[K’, declared with attribute warn_unused_result [\u001b[01;35m\u001b[K-Wunused-result\u001b[m\u001b[K]\n",
            "         \u001b[01;35m\u001b[Kfread(l.scales, sizeof(float), l.n, fp)\u001b[m\u001b[K;\n",
            "         \u001b[01;35m\u001b[K^~~~~~~~~~~~~~~~~~~~~~~~~~~~~~~~~~~~~~~\u001b[m\u001b[K\n",
            "\u001b[01m\u001b[K./src/parser.c:1052:9:\u001b[m\u001b[K \u001b[01;35m\u001b[Kwarning: \u001b[m\u001b[Kignoring return value of ‘\u001b[01m\u001b[Kfread\u001b[m\u001b[K’, declared with attribute warn_unused_result [\u001b[01;35m\u001b[K-Wunused-result\u001b[m\u001b[K]\n",
            "         \u001b[01;35m\u001b[Kfread(l.rolling_mean, sizeof(float), l.n, fp)\u001b[m\u001b[K;\n",
            "         \u001b[01;35m\u001b[K^~~~~~~~~~~~~~~~~~~~~~~~~~~~~~~~~~~~~~~~~~~~~\u001b[m\u001b[K\n",
            "\u001b[01m\u001b[K./src/parser.c:1053:9:\u001b[m\u001b[K \u001b[01;35m\u001b[Kwarning: \u001b[m\u001b[Kignoring return value of ‘\u001b[01m\u001b[Kfread\u001b[m\u001b[K’, declared with attribute warn_unused_result [\u001b[01;35m\u001b[K-Wunused-result\u001b[m\u001b[K]\n",
            "         \u001b[01;35m\u001b[Kfread(l.rolling_variance, sizeof(float), l.n, fp)\u001b[m\u001b[K;\n",
            "         \u001b[01;35m\u001b[K^~~~~~~~~~~~~~~~~~~~~~~~~~~~~~~~~~~~~~~~~~~~~~~~~\u001b[m\u001b[K\n",
            "\u001b[01m\u001b[K./src/parser.c:1081:5:\u001b[m\u001b[K \u001b[01;35m\u001b[Kwarning: \u001b[m\u001b[Kignoring return value of ‘\u001b[01m\u001b[Kfread\u001b[m\u001b[K’, declared with attribute warn_unused_result [\u001b[01;35m\u001b[K-Wunused-result\u001b[m\u001b[K]\n",
            "     \u001b[01;35m\u001b[Kfread(l.weights, sizeof(float), num, fp)\u001b[m\u001b[K;\n",
            "     \u001b[01;35m\u001b[K^~~~~~~~~~~~~~~~~~~~~~~~~~~~~~~~~~~~~~~~\u001b[m\u001b[K\n",
            "\u001b[01m\u001b[K./src/parser.c:\u001b[m\u001b[K In function ‘\u001b[01m\u001b[Kload_weights_upto\u001b[m\u001b[K’:\n",
            "\u001b[01m\u001b[K./src/parser.c:1110:5:\u001b[m\u001b[K \u001b[01;35m\u001b[Kwarning: \u001b[m\u001b[Kignoring return value of ‘\u001b[01m\u001b[Kfread\u001b[m\u001b[K’, declared with attribute warn_unused_result [\u001b[01;35m\u001b[K-Wunused-result\u001b[m\u001b[K]\n",
            "     \u001b[01;35m\u001b[Kfread(&major, sizeof(int), 1, fp)\u001b[m\u001b[K;\n",
            "     \u001b[01;35m\u001b[K^~~~~~~~~~~~~~~~~~~~~~~~~~~~~~~~~\u001b[m\u001b[K\n",
            "\u001b[01m\u001b[K./src/parser.c:1111:5:\u001b[m\u001b[K \u001b[01;35m\u001b[Kwarning: \u001b[m\u001b[Kignoring return value of ‘\u001b[01m\u001b[Kfread\u001b[m\u001b[K’, declared with attribute warn_unused_result [\u001b[01;35m\u001b[K-Wunused-result\u001b[m\u001b[K]\n",
            "     \u001b[01;35m\u001b[Kfread(&minor, sizeof(int), 1, fp)\u001b[m\u001b[K;\n",
            "     \u001b[01;35m\u001b[K^~~~~~~~~~~~~~~~~~~~~~~~~~~~~~~~~\u001b[m\u001b[K\n",
            "\u001b[01m\u001b[K./src/parser.c:1112:5:\u001b[m\u001b[K \u001b[01;35m\u001b[Kwarning: \u001b[m\u001b[Kignoring return value of ‘\u001b[01m\u001b[Kfread\u001b[m\u001b[K’, declared with attribute warn_unused_result [\u001b[01;35m\u001b[K-Wunused-result\u001b[m\u001b[K]\n",
            "     \u001b[01;35m\u001b[Kfread(&revision, sizeof(int), 1, fp)\u001b[m\u001b[K;\n",
            "     \u001b[01;35m\u001b[K^~~~~~~~~~~~~~~~~~~~~~~~~~~~~~~~~~~~\u001b[m\u001b[K\n",
            "\u001b[01m\u001b[K./src/parser.c:1114:9:\u001b[m\u001b[K \u001b[01;35m\u001b[Kwarning: \u001b[m\u001b[Kignoring return value of ‘\u001b[01m\u001b[Kfread\u001b[m\u001b[K’, declared with attribute warn_unused_result [\u001b[01;35m\u001b[K-Wunused-result\u001b[m\u001b[K]\n",
            "         \u001b[01;35m\u001b[Kfread(net->seen, sizeof(size_t), 1, fp)\u001b[m\u001b[K;\n",
            "         \u001b[01;35m\u001b[K^~~~~~~~~~~~~~~~~~~~~~~~~~~~~~~~~~~~~~~\u001b[m\u001b[K\n",
            "\u001b[01m\u001b[K./src/parser.c:1117:9:\u001b[m\u001b[K \u001b[01;35m\u001b[Kwarning: \u001b[m\u001b[Kignoring return value of ‘\u001b[01m\u001b[Kfread\u001b[m\u001b[K’, declared with attribute warn_unused_result [\u001b[01;35m\u001b[K-Wunused-result\u001b[m\u001b[K]\n",
            "         \u001b[01;35m\u001b[Kfread(&iseen, sizeof(int), 1, fp)\u001b[m\u001b[K;\n",
            "         \u001b[01;35m\u001b[K^~~~~~~~~~~~~~~~~~~~~~~~~~~~~~~~~\u001b[m\u001b[K\n",
            "\u001b[01m\u001b[K./src/parser.c:1172:13:\u001b[m\u001b[K \u001b[01;35m\u001b[Kwarning: \u001b[m\u001b[Kignoring return value of ‘\u001b[01m\u001b[Kfread\u001b[m\u001b[K’, declared with attribute warn_unused_result [\u001b[01;35m\u001b[K-Wunused-result\u001b[m\u001b[K]\n",
            "             \u001b[01;35m\u001b[Kfread(l.biases, sizeof(float), l.outputs, fp)\u001b[m\u001b[K;\n",
            "             \u001b[01;35m\u001b[K^~~~~~~~~~~~~~~~~~~~~~~~~~~~~~~~~~~~~~~~~~~~~\u001b[m\u001b[K\n",
            "\u001b[01m\u001b[K./src/parser.c:1173:13:\u001b[m\u001b[K \u001b[01;35m\u001b[Kwarning: \u001b[m\u001b[Kignoring return value of ‘\u001b[01m\u001b[Kfread\u001b[m\u001b[K’, declared with attribute warn_unused_result [\u001b[01;35m\u001b[K-Wunused-result\u001b[m\u001b[K]\n",
            "             \u001b[01;35m\u001b[Kfread(l.weights, sizeof(float), size, fp)\u001b[m\u001b[K;\n",
            "             \u001b[01;35m\u001b[K^~~~~~~~~~~~~~~~~~~~~~~~~~~~~~~~~~~~~~~~~\u001b[m\u001b[K\n",
            "gcc -Iinclude/ -Isrc/ -Wall -Wno-unknown-pragmas -Wfatal-errors -fPIC -Ofast -c ./src/option_list.c -o obj/option_list.o\n",
            "gcc -Iinclude/ -Isrc/ -Wall -Wno-unknown-pragmas -Wfatal-errors -fPIC -Ofast -c ./src/detection_layer.c -o obj/detection_layer.o\n",
            "gcc -Iinclude/ -Isrc/ -Wall -Wno-unknown-pragmas -Wfatal-errors -fPIC -Ofast -c ./src/route_layer.c -o obj/route_layer.o\n",
            "gcc -Iinclude/ -Isrc/ -Wall -Wno-unknown-pragmas -Wfatal-errors -fPIC -Ofast -c ./src/box.c -o obj/box.o\n",
            "gcc -Iinclude/ -Isrc/ -Wall -Wno-unknown-pragmas -Wfatal-errors -fPIC -Ofast -c ./src/normalization_layer.c -o obj/normalization_layer.o\n",
            "gcc -Iinclude/ -Isrc/ -Wall -Wno-unknown-pragmas -Wfatal-errors -fPIC -Ofast -c ./src/avgpool_layer.c -o obj/avgpool_layer.o\n"
          ],
          "name": "stdout"
        },
        {
          "output_type": "stream",
          "text": [
            "gcc -Iinclude/ -Isrc/ -Wall -Wno-unknown-pragmas -Wfatal-errors -fPIC -Ofast -c ./src/layer.c -o obj/layer.o\n",
            "gcc -Iinclude/ -Isrc/ -Wall -Wno-unknown-pragmas -Wfatal-errors -fPIC -Ofast -c ./src/local_layer.c -o obj/local_layer.o\n",
            "gcc -Iinclude/ -Isrc/ -Wall -Wno-unknown-pragmas -Wfatal-errors -fPIC -Ofast -c ./src/shortcut_layer.c -o obj/shortcut_layer.o\n",
            "gcc -Iinclude/ -Isrc/ -Wall -Wno-unknown-pragmas -Wfatal-errors -fPIC -Ofast -c ./src/activation_layer.c -o obj/activation_layer.o\n",
            "gcc -Iinclude/ -Isrc/ -Wall -Wno-unknown-pragmas -Wfatal-errors -fPIC -Ofast -c ./src/rnn_layer.c -o obj/rnn_layer.o\n",
            "gcc -Iinclude/ -Isrc/ -Wall -Wno-unknown-pragmas -Wfatal-errors -fPIC -Ofast -c ./src/gru_layer.c -o obj/gru_layer.o\n",
            "gcc -Iinclude/ -Isrc/ -Wall -Wno-unknown-pragmas -Wfatal-errors -fPIC -Ofast -c ./src/crnn_layer.c -o obj/crnn_layer.o\n",
            "gcc -Iinclude/ -Isrc/ -Wall -Wno-unknown-pragmas -Wfatal-errors -fPIC -Ofast -c ./src/demo.c -o obj/demo.o\n",
            "gcc -Iinclude/ -Isrc/ -Wall -Wno-unknown-pragmas -Wfatal-errors -fPIC -Ofast -c ./src/batchnorm_layer.c -o obj/batchnorm_layer.o\n",
            "gcc -Iinclude/ -Isrc/ -Wall -Wno-unknown-pragmas -Wfatal-errors -fPIC -Ofast -c ./src/region_layer.c -o obj/region_layer.o\n",
            "gcc -Iinclude/ -Isrc/ -Wall -Wno-unknown-pragmas -Wfatal-errors -fPIC -Ofast -c ./src/reorg_layer.c -o obj/reorg_layer.o\n",
            "gcc -Iinclude/ -Isrc/ -Wall -Wno-unknown-pragmas -Wfatal-errors -fPIC -Ofast -c ./src/tree.c -o obj/tree.o\n",
            "gcc -Iinclude/ -Isrc/ -Wall -Wno-unknown-pragmas -Wfatal-errors -fPIC -Ofast -c ./src/lstm_layer.c -o obj/lstm_layer.o\n",
            "gcc -Wall -Wno-unknown-pragmas -Wfatal-errors -fPIC -Ofast -shared obj/gemm.o obj/utils.o obj/cuda.o obj/deconvolutional_layer.o obj/convolutional_layer.o obj/list.o obj/image.o obj/activations.o obj/im2col.o obj/col2im.o obj/blas.o obj/crop_layer.o obj/dropout_layer.o obj/maxpool_layer.o obj/softmax_layer.o obj/data.o obj/matrix.o obj/network.o obj/connected_layer.o obj/cost_layer.o obj/parser.o obj/option_list.o obj/detection_layer.o obj/route_layer.o obj/box.o obj/normalization_layer.o obj/avgpool_layer.o obj/layer.o obj/local_layer.o obj/shortcut_layer.o obj/activation_layer.o obj/rnn_layer.o obj/gru_layer.o obj/crnn_layer.o obj/demo.o obj/batchnorm_layer.o obj/region_layer.o obj/reorg_layer.o obj/tree.o obj/lstm_layer.o -o libdarknet.so -lm -pthread \n",
            "ar rcs libdarknet.a obj/gemm.o obj/utils.o obj/cuda.o obj/deconvolutional_layer.o obj/convolutional_layer.o obj/list.o obj/image.o obj/activations.o obj/im2col.o obj/col2im.o obj/blas.o obj/crop_layer.o obj/dropout_layer.o obj/maxpool_layer.o obj/softmax_layer.o obj/data.o obj/matrix.o obj/network.o obj/connected_layer.o obj/cost_layer.o obj/parser.o obj/option_list.o obj/detection_layer.o obj/route_layer.o obj/box.o obj/normalization_layer.o obj/avgpool_layer.o obj/layer.o obj/local_layer.o obj/shortcut_layer.o obj/activation_layer.o obj/rnn_layer.o obj/gru_layer.o obj/crnn_layer.o obj/demo.o obj/batchnorm_layer.o obj/region_layer.o obj/reorg_layer.o obj/tree.o obj/lstm_layer.o\n",
            "gcc -Iinclude/ -Isrc/ -Wall -Wno-unknown-pragmas -Wfatal-errors -fPIC -Ofast -c ./examples/captcha.c -o obj/captcha.o\n",
            "gcc -Iinclude/ -Isrc/ -Wall -Wno-unknown-pragmas -Wfatal-errors -fPIC -Ofast -c ./examples/lsd.c -o obj/lsd.o\n",
            "gcc -Iinclude/ -Isrc/ -Wall -Wno-unknown-pragmas -Wfatal-errors -fPIC -Ofast -c ./examples/super.c -o obj/super.o\n",
            "gcc -Iinclude/ -Isrc/ -Wall -Wno-unknown-pragmas -Wfatal-errors -fPIC -Ofast -c ./examples/art.c -o obj/art.o\n",
            "gcc -Iinclude/ -Isrc/ -Wall -Wno-unknown-pragmas -Wfatal-errors -fPIC -Ofast -c ./examples/tag.c -o obj/tag.o\n",
            "gcc -Iinclude/ -Isrc/ -Wall -Wno-unknown-pragmas -Wfatal-errors -fPIC -Ofast -c ./examples/cifar.c -o obj/cifar.o\n",
            "gcc -Iinclude/ -Isrc/ -Wall -Wno-unknown-pragmas -Wfatal-errors -fPIC -Ofast -c ./examples/go.c -o obj/go.o\n",
            "\u001b[01m\u001b[K./examples/go.c:\u001b[m\u001b[K In function ‘\u001b[01m\u001b[Kengine_go\u001b[m\u001b[K’:\n",
            "\u001b[01m\u001b[K./examples/go.c:844:9:\u001b[m\u001b[K \u001b[01;35m\u001b[Kwarning: \u001b[m\u001b[Kignoring return value of ‘\u001b[01m\u001b[Kscanf\u001b[m\u001b[K’, declared with attribute warn_unused_result [\u001b[01;35m\u001b[K-Wunused-result\u001b[m\u001b[K]\n",
            "         \u001b[01;35m\u001b[Kscanf(\"%s\", buff)\u001b[m\u001b[K;\n",
            "         \u001b[01;35m\u001b[K^~~~~~~~~~~~~~~~~\u001b[m\u001b[K\n",
            "\u001b[01m\u001b[K./examples/go.c:861:13:\u001b[m\u001b[K \u001b[01;35m\u001b[Kwarning: \u001b[m\u001b[Kignoring return value of ‘\u001b[01m\u001b[Kscanf\u001b[m\u001b[K’, declared with attribute warn_unused_result [\u001b[01;35m\u001b[K-Wunused-result\u001b[m\u001b[K]\n",
            "             \u001b[01;35m\u001b[Kscanf(\"%d %d %d\", &main_time, &byo_yomi_time, &byo_yomi_stones)\u001b[m\u001b[K;\n",
            "             \u001b[01;35m\u001b[K^~~~~~~~~~~~~~~~~~~~~~~~~~~~~~~~~~~~~~~~~~~~~~~~~~~~~~~~~~~~~~~\u001b[m\u001b[K\n",
            "\u001b[01m\u001b[K./examples/go.c:867:13:\u001b[m\u001b[K \u001b[01;35m\u001b[Kwarning: \u001b[m\u001b[Kignoring return value of ‘\u001b[01m\u001b[Kscanf\u001b[m\u001b[K’, declared with attribute warn_unused_result [\u001b[01;35m\u001b[K-Wunused-result\u001b[m\u001b[K]\n",
            "             \u001b[01;35m\u001b[Kscanf(\"%s %d %d\", color, &time, &stones)\u001b[m\u001b[K;\n",
            "             \u001b[01;35m\u001b[K^~~~~~~~~~~~~~~~~~~~~~~~~~~~~~~~~~~~~~~~\u001b[m\u001b[K\n",
            "\u001b[01m\u001b[K./examples/go.c:884:13:\u001b[m\u001b[K \u001b[01;35m\u001b[Kwarning: \u001b[m\u001b[Kignoring return value of ‘\u001b[01m\u001b[Kscanf\u001b[m\u001b[K’, declared with attribute warn_unused_result [\u001b[01;35m\u001b[K-Wunused-result\u001b[m\u001b[K]\n",
            "             \u001b[01;35m\u001b[Kscanf(\"%s\", comm)\u001b[m\u001b[K;\n",
            "             \u001b[01;35m\u001b[K^~~~~~~~~~~~~~~~~\u001b[m\u001b[K\n",
            "\u001b[01m\u001b[K./examples/go.c:908:13:\u001b[m\u001b[K \u001b[01;35m\u001b[Kwarning: \u001b[m\u001b[Kignoring return value of ‘\u001b[01m\u001b[Kscanf\u001b[m\u001b[K’, declared with attribute warn_unused_result [\u001b[01;35m\u001b[K-Wunused-result\u001b[m\u001b[K]\n",
            "             \u001b[01;35m\u001b[Kscanf(\"%d\", &boardsize)\u001b[m\u001b[K;\n",
            "             \u001b[01;35m\u001b[K^~~~~~~~~~~~~~~~~~~~~~~\u001b[m\u001b[K\n",
            "\u001b[01m\u001b[K./examples/go.c:921:13:\u001b[m\u001b[K \u001b[01;35m\u001b[Kwarning: \u001b[m\u001b[Kignoring return value of ‘\u001b[01m\u001b[Kscanf\u001b[m\u001b[K’, declared with attribute warn_unused_result [\u001b[01;35m\u001b[K-Wunused-result\u001b[m\u001b[K]\n",
            "             \u001b[01;35m\u001b[Kscanf(\"%d\", &handicap)\u001b[m\u001b[K;\n",
            "             \u001b[01;35m\u001b[K^~~~~~~~~~~~~~~~~~~~~~\u001b[m\u001b[K\n",
            "\u001b[01m\u001b[K./examples/go.c:938:13:\u001b[m\u001b[K \u001b[01;35m\u001b[Kwarning: \u001b[m\u001b[Kignoring return value of ‘\u001b[01m\u001b[Kscanf\u001b[m\u001b[K’, declared with attribute warn_unused_result [\u001b[01;35m\u001b[K-Wunused-result\u001b[m\u001b[K]\n",
            "             \u001b[01;35m\u001b[Kscanf(\"%f\", &komi)\u001b[m\u001b[K;\n",
            "             \u001b[01;35m\u001b[K^~~~~~~~~~~~~~~~~~\u001b[m\u001b[K\n",
            "\u001b[01m\u001b[K./examples/go.c:949:17:\u001b[m\u001b[K \u001b[01;35m\u001b[Kwarning: \u001b[m\u001b[Kignoring return value of ‘\u001b[01m\u001b[Kscanf\u001b[m\u001b[K’, declared with attribute warn_unused_result [\u001b[01;35m\u001b[K-Wunused-result\u001b[m\u001b[K]\n",
            "                 \u001b[01;35m\u001b[Kscanf(\"%s \", color)\u001b[m\u001b[K;\n",
            "                 \u001b[01;35m\u001b[K^~~~~~~~~~~~~~~~~~~\u001b[m\u001b[K\n",
            "\u001b[01m\u001b[K./examples/go.c:951:17:\u001b[m\u001b[K \u001b[01;35m\u001b[Kwarning: \u001b[m\u001b[Kignoring return value of ‘\u001b[01m\u001b[Kscanf\u001b[m\u001b[K’, declared with attribute warn_unused_result [\u001b[01;35m\u001b[K-Wunused-result\u001b[m\u001b[K]\n",
            "                 \u001b[01;35m\u001b[Kscanf(\" \")\u001b[m\u001b[K;\n",
            "                 \u001b[01;35m\u001b[K^~~~~~~~~~\u001b[m\u001b[K\n",
            "\u001b[01m\u001b[K./examples/go.c:995:17:\u001b[m\u001b[K \u001b[01;35m\u001b[Kwarning: \u001b[m\u001b[Kignoring return value of ‘\u001b[01m\u001b[Kscanf\u001b[m\u001b[K’, declared with attribute warn_unused_result [\u001b[01;35m\u001b[K-Wunused-result\u001b[m\u001b[K]\n",
            "                 \u001b[01;35m\u001b[Kscanf(\"%s\", color)\u001b[m\u001b[K;\n",
            "                 \u001b[01;35m\u001b[K^~~~~~~~~~~~~~~~~~\u001b[m\u001b[K\n",
            "\u001b[01m\u001b[K./examples/go.c:1043:13:\u001b[m\u001b[K \u001b[01;35m\u001b[Kwarning: \u001b[m\u001b[Kignoring return value of ‘\u001b[01m\u001b[Kscanf\u001b[m\u001b[K’, declared with attribute warn_unused_result [\u001b[01;35m\u001b[K-Wunused-result\u001b[m\u001b[K]\n",
            "             \u001b[01;35m\u001b[Kscanf(\"%s\", type)\u001b[m\u001b[K;\n",
            "             \u001b[01;35m\u001b[K^~~~~~~~~~~~~~~~~\u001b[m\u001b[K\n",
            "\u001b[01m\u001b[K./examples/go.c:1068:13:\u001b[m\u001b[K \u001b[01;35m\u001b[Kwarning: \u001b[m\u001b[Kignoring return value of ‘\u001b[01m\u001b[Kscanf\u001b[m\u001b[K’, declared with attribute warn_unused_result [\u001b[01;35m\u001b[K-Wunused-result\u001b[m\u001b[K]\n",
            "             \u001b[01;35m\u001b[Kscanf(\"%s\", type)\u001b[m\u001b[K;\n",
            "             \u001b[01;35m\u001b[K^~~~~~~~~~~~~~~~~\u001b[m\u001b[K\n",
            "gcc -Iinclude/ -Isrc/ -Wall -Wno-unknown-pragmas -Wfatal-errors -fPIC -Ofast -c ./examples/rnn.c -o obj/rnn.o\n",
            "\u001b[01m\u001b[K./examples/rnn.c:\u001b[m\u001b[K In function ‘\u001b[01m\u001b[Kget_seq2seq_data\u001b[m\u001b[K’:\n",
            "\u001b[01m\u001b[K./examples/rnn.c:104:13:\u001b[m\u001b[K \u001b[01;35m\u001b[Kwarning: \u001b[m\u001b[Kunused variable ‘\u001b[01m\u001b[Kdlen\u001b[m\u001b[K’ [\u001b[01;35m\u001b[K-Wunused-variable\u001b[m\u001b[K]\n",
            "         int \u001b[01;35m\u001b[Kdlen\u001b[m\u001b[K = strlen(dest[index]);\n",
            "             \u001b[01;35m\u001b[K^~~~\u001b[m\u001b[K\n",
            "\u001b[01m\u001b[K./examples/rnn.c:103:13:\u001b[m\u001b[K \u001b[01;35m\u001b[Kwarning: \u001b[m\u001b[Kunused variable ‘\u001b[01m\u001b[Kslen\u001b[m\u001b[K’ [\u001b[01;35m\u001b[K-Wunused-variable\u001b[m\u001b[K]\n",
            "         int \u001b[01;35m\u001b[Kslen\u001b[m\u001b[K = strlen(source[index]);\n",
            "             \u001b[01;35m\u001b[K^~~~\u001b[m\u001b[K\n",
            "gcc -Iinclude/ -Isrc/ -Wall -Wno-unknown-pragmas -Wfatal-errors -fPIC -Ofast -c ./examples/segmenter.c -o obj/segmenter.o\n",
            "gcc -Iinclude/ -Isrc/ -Wall -Wno-unknown-pragmas -Wfatal-errors -fPIC -Ofast -c ./examples/regressor.c -o obj/regressor.o\n",
            "gcc -Iinclude/ -Isrc/ -Wall -Wno-unknown-pragmas -Wfatal-errors -fPIC -Ofast -c ./examples/classifier.c -o obj/classifier.o\n",
            "gcc -Iinclude/ -Isrc/ -Wall -Wno-unknown-pragmas -Wfatal-errors -fPIC -Ofast -c ./examples/coco.c -o obj/coco.o\n",
            "gcc -Iinclude/ -Isrc/ -Wall -Wno-unknown-pragmas -Wfatal-errors -fPIC -Ofast -c ./examples/yolo.c -o obj/yolo.o\n"
          ],
          "name": "stdout"
        },
        {
          "output_type": "stream",
          "text": [
            "gcc -Iinclude/ -Isrc/ -Wall -Wno-unknown-pragmas -Wfatal-errors -fPIC -Ofast -c ./examples/detector.c -o obj/detector.o\n",
            "gcc -Iinclude/ -Isrc/ -Wall -Wno-unknown-pragmas -Wfatal-errors -fPIC -Ofast -c ./examples/nightmare.c -o obj/nightmare.o\n",
            "gcc -Iinclude/ -Isrc/ -Wall -Wno-unknown-pragmas -Wfatal-errors -fPIC -Ofast -c ./examples/attention.c -o obj/attention.o\n",
            "\u001b[01m\u001b[K./examples/attention.c:\u001b[m\u001b[K In function ‘\u001b[01m\u001b[Knetwork_loss_data\u001b[m\u001b[K’:\n",
            "\u001b[01m\u001b[K./examples/attention.c:43:17:\u001b[m\u001b[K \u001b[01;35m\u001b[Kwarning: \u001b[m\u001b[Kunused variable ‘\u001b[01m\u001b[Kt\u001b[m\u001b[K’ [\u001b[01;35m\u001b[K-Wunused-variable\u001b[m\u001b[K]\n",
            "             int \u001b[01;35m\u001b[Kt\u001b[m\u001b[K = max_index(y + b*test.y.cols, 1000);\n",
            "                 \u001b[01;35m\u001b[K^\u001b[m\u001b[K\n",
            "\u001b[01m\u001b[K./examples/attention.c:\u001b[m\u001b[K In function ‘\u001b[01m\u001b[Ktrain_attention\u001b[m\u001b[K’:\n",
            "\u001b[01m\u001b[K./examples/attention.c:179:15:\u001b[m\u001b[K \u001b[01;35m\u001b[Kwarning: \u001b[m\u001b[Kunused variable ‘\u001b[01m\u001b[Kim\u001b[m\u001b[K’ [\u001b[01;35m\u001b[K-Wunused-variable\u001b[m\u001b[K]\n",
            "         image \u001b[01;35m\u001b[Kim\u001b[m\u001b[K = float_to_image(64,64,3,resized.X.vals[0]);\n",
            "               \u001b[01;35m\u001b[K^~\u001b[m\u001b[K\n",
            "\u001b[01m\u001b[K./examples/attention.c:\u001b[m\u001b[K In function ‘\u001b[01m\u001b[Krun_attention\u001b[m\u001b[K’:\n",
            "\u001b[01m\u001b[K./examples/attention.c:452:11:\u001b[m\u001b[K \u001b[01;35m\u001b[Kwarning: \u001b[m\u001b[Kunused variable ‘\u001b[01m\u001b[Klayer_s\u001b[m\u001b[K’ [\u001b[01;35m\u001b[K-Wunused-variable\u001b[m\u001b[K]\n",
            "     char *\u001b[01;35m\u001b[Klayer_s\u001b[m\u001b[K = (argc > 7) ? argv[7]: 0;\n",
            "           \u001b[01;35m\u001b[K^~~~~~~\u001b[m\u001b[K\n",
            "gcc -Iinclude/ -Isrc/ -Wall -Wno-unknown-pragmas -Wfatal-errors -fPIC -Ofast -c ./examples/darknet.c -o obj/darknet.o\n",
            "gcc -Iinclude/ -Isrc/ -Wall -Wno-unknown-pragmas -Wfatal-errors -fPIC -Ofast obj/captcha.o obj/lsd.o obj/super.o obj/art.o obj/tag.o obj/cifar.o obj/go.o obj/rnn.o obj/segmenter.o obj/regressor.o obj/classifier.o obj/coco.o obj/yolo.o obj/detector.o obj/nightmare.o obj/attention.o obj/darknet.o libdarknet.a -o darknet -lm -pthread  libdarknet.a\n"
          ],
          "name": "stdout"
        }
      ]
    },
    {
      "metadata": {
        "id": "chHrunTgluM6",
        "colab_type": "code",
        "colab": {
          "autoexec": {
            "startup": false,
            "wait_interval": 0
          },
          "output_extras": [
            {
              "item_id": 1
            }
          ],
          "base_uri": "https://localhost:8080/",
          "height": 118
        },
        "outputId": "54426844-922e-45e2-fa46-c2a8262e81ba",
        "executionInfo": {
          "status": "ok",
          "timestamp": 1519035974702,
          "user_tz": -330,
          "elapsed": 886,
          "user": {
            "displayName": "Himanshu Rawlani",
            "photoUrl": "//lh4.googleusercontent.com/-25bwESRvc84/AAAAAAAAAAI/AAAAAAAAMDQ/XeEMbo9cdEI/s50-c-k-no/photo.jpg",
            "userId": "103244414105699526880"
          }
        }
      },
      "cell_type": "code",
      "source": [
        "!cd darknet/cfg && cat voc.data"
      ],
      "execution_count": 18,
      "outputs": [
        {
          "output_type": "stream",
          "text": [
            "classes= 20\r\n",
            "train  = /home/pjreddie/data/voc/train.txt\r\n",
            "valid  = /home/pjreddie/data/voc/2007_test.txt\r\n",
            "names = data/voc.names\r\n",
            "backup = backup\r\n",
            "\r\n"
          ],
          "name": "stdout"
        }
      ]
    },
    {
      "metadata": {
        "id": "R-XxDJn0mBRn",
        "colab_type": "code",
        "colab": {
          "autoexec": {
            "startup": false,
            "wait_interval": 0
          },
          "output_extras": [
            {
              "item_id": 17
            }
          ],
          "base_uri": "https://localhost:8080/",
          "height": 118
        },
        "outputId": "5fecc9a7-decf-40b2-843f-368016961ed1",
        "executionInfo": {
          "status": "ok",
          "timestamp": 1519038273042,
          "user_tz": -330,
          "elapsed": 8972,
          "user": {
            "displayName": "Himanshu Rawlani",
            "photoUrl": "//lh4.googleusercontent.com/-25bwESRvc84/AAAAAAAAAAI/AAAAAAAAMDQ/XeEMbo9cdEI/s50-c-k-no/photo.jpg",
            "userId": "103244414105699526880"
          }
        }
      },
      "cell_type": "code",
      "source": [
        "!git clone https://github.com/himanshurawlani/tiny-yolo-voc.git"
      ],
      "execution_count": 21,
      "outputs": [
        {
          "output_type": "stream",
          "text": [
            "Cloning into 'tiny-yolo-voc'...\n",
            "remote: Counting objects: 2241, done.\u001b[K\n",
            "remote: Compressing objects: 100% (6/6), done.\u001b[K\n",
            "remote: Total 2241 (delta 3), reused 8 (delta 3), pack-reused 2231\u001b[K\n",
            "Receiving objects: 100% (2241/2241), 198.23 MiB | 33.87 MiB/s, done.\n",
            "Resolving deltas: 100% (368/368), done.\n"
          ],
          "name": "stdout"
        }
      ]
    },
    {
      "metadata": {
        "id": "7BJs_3Maq7Zd",
        "colab_type": "code",
        "colab": {
          "autoexec": {
            "startup": false,
            "wait_interval": 0
          },
          "output_extras": [
            {
              "item_id": 1
            }
          ],
          "base_uri": "https://localhost:8080/",
          "height": 202
        },
        "outputId": "cb7701d3-937f-413b-ddaa-7887a0d33477",
        "executionInfo": {
          "status": "ok",
          "timestamp": 1519038301383,
          "user_tz": -330,
          "elapsed": 923,
          "user": {
            "displayName": "Himanshu Rawlani",
            "photoUrl": "//lh4.googleusercontent.com/-25bwESRvc84/AAAAAAAAAAI/AAAAAAAAMDQ/XeEMbo9cdEI/s50-c-k-no/photo.jpg",
            "userId": "103244414105699526880"
          }
        }
      },
      "cell_type": "code",
      "source": [
        "!cd tiny-yolo-voc/ && ls -l"
      ],
      "execution_count": 23,
      "outputs": [
        {
          "output_type": "stream",
          "text": [
            "total 124\r\n",
            "-rw-r--r-- 1 root root 39092 Feb 19 11:04 2018_train.txt\r\n",
            "-rw-r--r-- 1 root root  4289 Feb 19 11:04 2018_val.txt\r\n",
            "-rw-r--r-- 1 root root   635 Feb 19 11:04 check_annotation_image_file.py\r\n",
            "-rw-r--r-- 1 root root   798 Feb 19 11:04 extract_image_ids.py\r\n",
            "-rw-r--r-- 1 root root    78 Feb 19 11:04 README.md\r\n",
            "-rw-r--r-- 1 root root  4412 Feb 19 11:04 test.txt\r\n",
            "drwxr-xr-x 2 root root  4096 Feb 19 11:04 tiny-yolo-voc\r\n",
            "-rw-r--r-- 1 root root 43381 Feb 19 11:04 train.txt\r\n",
            "drwxr-xr-x 3 root root  4096 Feb 19 11:04 VOCdevkit\r\n",
            "-rw-r--r-- 1 root root  1902 Feb 19 11:04 voc_label.py\r\n"
          ],
          "name": "stdout"
        }
      ]
    },
    {
      "metadata": {
        "id": "AI6ics33vMUh",
        "colab_type": "code",
        "colab": {
          "autoexec": {
            "startup": false,
            "wait_interval": 0
          },
          "output_extras": [
            {
              "item_id": 1
            }
          ],
          "base_uri": "https://localhost:8080/",
          "height": 34
        },
        "outputId": "576e8ec1-cfc0-4173-c7ed-d151c0eb7efc",
        "executionInfo": {
          "status": "ok",
          "timestamp": 1519038364723,
          "user_tz": -330,
          "elapsed": 970,
          "user": {
            "displayName": "Himanshu Rawlani",
            "photoUrl": "//lh4.googleusercontent.com/-25bwESRvc84/AAAAAAAAAAI/AAAAAAAAMDQ/XeEMbo9cdEI/s50-c-k-no/photo.jpg",
            "userId": "103244414105699526880"
          }
        }
      },
      "cell_type": "code",
      "source": [
        "!cd tiny-yolo-voc/ && python check_annotation_image_file.py"
      ],
      "execution_count": 24,
      "outputs": [
        {
          "output_type": "stream",
          "text": [
            "364\r\n"
          ],
          "name": "stdout"
        }
      ]
    },
    {
      "metadata": {
        "id": "cByBnlJSvfff",
        "colab_type": "code",
        "colab": {
          "autoexec": {
            "startup": false,
            "wait_interval": 0
          }
        }
      },
      "cell_type": "code",
      "source": [
        "!cd tiny-yolo-voc/ && python extract_image_ids.py\n",
        "!cd tiny-yolo-voc/ && python voc_label.py"
      ],
      "execution_count": 0,
      "outputs": []
    },
    {
      "metadata": {
        "id": "-poOdlhlvrlH",
        "colab_type": "code",
        "colab": {
          "autoexec": {
            "startup": false,
            "wait_interval": 0
          },
          "output_extras": [
            {
              "item_id": 1
            }
          ],
          "base_uri": "https://localhost:8080/",
          "height": 185
        },
        "outputId": "5e48243d-39d3-45fe-f089-807e2fd1c77a",
        "executionInfo": {
          "status": "ok",
          "timestamp": 1519038497130,
          "user_tz": -330,
          "elapsed": 1195,
          "user": {
            "displayName": "Himanshu Rawlani",
            "photoUrl": "//lh4.googleusercontent.com/-25bwESRvc84/AAAAAAAAAAI/AAAAAAAAMDQ/XeEMbo9cdEI/s50-c-k-no/photo.jpg",
            "userId": "103244414105699526880"
          }
        }
      },
      "cell_type": "code",
      "source": [
        "!cd tiny-yolo-voc/ && cat 2018_*.txt > train.txt\n",
        "!cd tiny-yolo-voc/ && head train.txt"
      ],
      "execution_count": 28,
      "outputs": [
        {
          "output_type": "stream",
          "text": [
            "/content/tiny-yolo-voc/VOCdevkit/VOC2018/JPEGImages/n07753592_19698.jpg\r\n",
            "/content/tiny-yolo-voc/VOCdevkit/VOC2018/JPEGImages/n07753592_2732.jpg\r\n",
            "/content/tiny-yolo-voc/VOCdevkit/VOC2018/JPEGImages/n07753592_3949.jpg\r\n",
            "/content/tiny-yolo-voc/VOCdevkit/VOC2018/JPEGImages/n07753592_1737.jpg\r\n",
            "/content/tiny-yolo-voc/VOCdevkit/VOC2018/JPEGImages/n07753592_2799.jpg\r\n",
            "/content/tiny-yolo-voc/VOCdevkit/VOC2018/JPEGImages/n07753592_6708.jpg\r\n",
            "/content/tiny-yolo-voc/VOCdevkit/VOC2018/JPEGImages/n07753592_2049.jpg\r\n",
            "/content/tiny-yolo-voc/VOCdevkit/VOC2018/JPEGImages/n07753592_188.jpg\r\n",
            "/content/tiny-yolo-voc/VOCdevkit/VOC2018/JPEGImages/n07753592_2956.jpg\r\n",
            "/content/tiny-yolo-voc/VOCdevkit/VOC2018/JPEGImages/n07753592_2919.jpg\r\n"
          ],
          "name": "stdout"
        }
      ]
    },
    {
      "metadata": {
        "id": "h_B3fV9Tvw0a",
        "colab_type": "code",
        "colab": {
          "autoexec": {
            "startup": false,
            "wait_interval": 0
          },
          "output_extras": [
            {
              "item_id": 1
            }
          ],
          "base_uri": "https://localhost:8080/",
          "height": 118
        },
        "outputId": "76a7fed6-28b2-4112-ac3b-d9289bde4c29",
        "executionInfo": {
          "status": "ok",
          "timestamp": 1519038995557,
          "user_tz": -330,
          "elapsed": 1666,
          "user": {
            "displayName": "Himanshu Rawlani",
            "photoUrl": "//lh4.googleusercontent.com/-25bwESRvc84/AAAAAAAAAAI/AAAAAAAAMDQ/XeEMbo9cdEI/s50-c-k-no/photo.jpg",
            "userId": "103244414105699526880"
          }
        }
      },
      "cell_type": "code",
      "source": [
        "!cp tiny-yolo-voc/tiny-yolo-voc/voc.data darknet/cfg/\n",
        "!cp tiny-yolo-voc/tiny-yolo-voc/test.names darknet/data/\n",
        "!cd darknet/cfg/ && cat voc.data"
      ],
      "execution_count": 37,
      "outputs": [
        {
          "output_type": "stream",
          "text": [
            "classes= 1\r\n",
            "train  = /content/tiny-yolo-voc/train.txt\r\n",
            "valid  = /content/tiny-yolo-voc/test.txt\r\n",
            "names = data/test.names\r\n",
            "backup = backup/\r\n",
            "\r\n"
          ],
          "name": "stdout"
        }
      ]
    },
    {
      "metadata": {
        "id": "D_wcwCCkxkTm",
        "colab_type": "code",
        "colab": {
          "autoexec": {
            "startup": false,
            "wait_interval": 0
          },
          "output_extras": [
            {
              "item_id": 35
            },
            {
              "item_id": 77
            },
            {
              "item_id": 119
            },
            {
              "item_id": 159
            }
          ],
          "base_uri": "https://localhost:8080/",
          "height": 3259
        },
        "outputId": "3c7718e5-5c3b-47c1-f5b6-ee1d11b1668d"
      },
      "cell_type": "code",
      "source": [
        "!cd darknet/ && ./darknet detector train cfg/voc.data ../tiny-yolo-voc/tiny-yolo-voc/tiny-yolo-voc.cfg ../tiny-yolo-voc/tiny-yolo-voc/tiny-yolo-voc.weights"
      ],
      "execution_count": 0,
      "outputs": [
        {
          "output_type": "stream",
          "text": [
            "tiny-yolo-voc\r\n",
            "layer     filters    size              input                output\n",
            "    0 conv     16  3 x 3 / 1   416 x 416 x   3   ->   416 x 416 x  16\n",
            "    1 max          2 x 2 / 2   416 x 416 x  16   ->   208 x 208 x  16\n",
            "    2 conv     32  3 x 3 / 1   208 x 208 x  16   ->   208 x 208 x  32\n",
            "    3 max          2 x 2 / 2   208 x 208 x  32   ->   104 x 104 x  32\n",
            "    4 conv     64  3 x 3 / 1   104 x 104 x  32   ->   104 x 104 x  64\n",
            "    5 max          2 x 2 / 2   104 x 104 x  64   ->    52 x  52 x  64\n",
            "    6 conv    128  3 x 3 / 1    52 x  52 x  64   ->    52 x  52 x 128\n",
            "    7 max          2 x 2 / 2    52 x  52 x 128   ->    26 x  26 x 128\n",
            "    8 conv    256  3 x 3 / 1    26 x  26 x 128   ->    26 x  26 x 256\n",
            "    9 max          2 x 2 / 2    26 x  26 x 256   ->    13 x  13 x 256\n",
            "   10 conv    512  3 x 3 / 1    13 x  13 x 256   ->    13 x  13 x 512\n",
            "   11 max          2 x 2 / 1    13 x  13 x 512   ->    13 x  13 x 512\n",
            "   12 conv   1024  3 x 3 / 1    13 x  13 x 512   ->    13 x  13 x1024\n",
            "   13 conv   1024  3 x 3 / 1    13 x  13 x1024   ->    13 x  13 x1024\n",
            "   14 conv     30  1 x 1 / 1    13 x  13 x1024   ->    13 x  13 x  30\n",
            "   15 detection\n",
            "mask_scale: Using default '1.000000'\n",
            "Loading weights from ../tiny-yolo-voc/tiny-yolo-voc/tiny-yolo-voc.weights...Done!\n",
            "Learning Rate: 0.001, Momentum: 0.9, Decay: 0.0005\n",
            "Resizing\n",
            "608\n",
            "Loaded: 0.000048 seconds\n",
            "Region Avg IOU: 0.291377, Class: 1.000000, Obj: 0.410518, No Obj: 0.323556, Avg Recall: 0.125000,  count: 8\n",
            "Region Avg IOU: 0.269320, Class: 1.000000, Obj: 0.411671, No Obj: 0.324954, Avg Recall: 0.076923,  count: 13\n",
            "Region Avg IOU: 0.287718, Class: 1.000000, Obj: 0.289603, No Obj: 0.325821, Avg Recall: 0.111111,  count: 18\n",
            "Region Avg IOU: 0.259123, Class: 1.000000, Obj: 0.405847, No Obj: 0.323518, Avg Recall: 0.176471,  count: 17\n",
            "Region Avg IOU: 0.402582, Class: 1.000000, Obj: 0.396251, No Obj: 0.325072, Avg Recall: 0.230769,  count: 13\n",
            "Region Avg IOU: 0.474148, Class: 1.000000, Obj: 0.425872, No Obj: 0.324292, Avg Recall: 0.545455,  count: 11\n",
            "Region Avg IOU: 0.350669, Class: 1.000000, Obj: 0.416955, No Obj: 0.324200, Avg Recall: 0.166667,  count: 18\n",
            "Region Avg IOU: 0.254412, Class: 1.000000, Obj: 0.400885, No Obj: 0.325709, Avg Recall: 0.214286,  count: 14\n",
            "40101: 289.011261, 289.011261 avg, 0.001000 rate, 448.087033 seconds, 2566464 images\n",
            "Loaded: 0.000064 seconds\n",
            "Region Avg IOU: 0.349213, Class: 1.000000, Obj: 0.334617, No Obj: 0.327792, Avg Recall: 0.375000,  count: 8\n",
            "Region Avg IOU: 0.388447, Class: 1.000000, Obj: 0.462014, No Obj: 0.325647, Avg Recall: 0.416667,  count: 12\n",
            "Region Avg IOU: 0.283252, Class: 1.000000, Obj: 0.286004, No Obj: 0.324998, Avg Recall: 0.250000,  count: 16\n",
            "Region Avg IOU: 0.310213, Class: 1.000000, Obj: 0.344067, No Obj: 0.325301, Avg Recall: 0.272727,  count: 11\n",
            "Region Avg IOU: 0.323271, Class: 1.000000, Obj: 0.294619, No Obj: 0.326589, Avg Recall: 0.277778,  count: 18\n",
            "Region Avg IOU: 0.236500, Class: 1.000000, Obj: 0.433734, No Obj: 0.324786, Avg Recall: 0.181818,  count: 11\n",
            "Region Avg IOU: 0.218017, Class: 1.000000, Obj: 0.430529, No Obj: 0.326187, Avg Recall: 0.125000,  count: 16\n",
            "Region Avg IOU: 0.252905, Class: 1.000000, Obj: 0.307670, No Obj: 0.327146, Avg Recall: 0.000000,  count: 15\n",
            "40102: 295.372803, 289.647400 avg, 0.001000 rate, 446.364699 seconds, 2566528 images\n",
            "Loaded: 0.000081 seconds\n",
            "Region Avg IOU: 0.439298, Class: 1.000000, Obj: 0.465274, No Obj: 0.325015, Avg Recall: 0.466667,  count: 15\n",
            "Region Avg IOU: 0.346893, Class: 1.000000, Obj: 0.337129, No Obj: 0.324760, Avg Recall: 0.266667,  count: 15\n",
            "Region Avg IOU: 0.303215, Class: 1.000000, Obj: 0.378423, No Obj: 0.324511, Avg Recall: 0.125000,  count: 16\n",
            "Region Avg IOU: 0.223665, Class: 1.000000, Obj: 0.397104, No Obj: 0.324768, Avg Recall: 0.117647,  count: 17\n",
            "Region Avg IOU: 0.367868, Class: 1.000000, Obj: 0.288531, No Obj: 0.327156, Avg Recall: 0.285714,  count: 14\n",
            "Region Avg IOU: 0.368333, Class: 1.000000, Obj: 0.373472, No Obj: 0.325887, Avg Recall: 0.384615,  count: 13\n",
            "Region Avg IOU: 0.275663, Class: 1.000000, Obj: 0.398820, No Obj: 0.329240, Avg Recall: 0.176471,  count: 17\n",
            "Region Avg IOU: 0.345627, Class: 1.000000, Obj: 0.183294, No Obj: 0.329812, Avg Recall: 0.230769,  count: 13\n",
            "40103: 296.092987, 290.291962 avg, 0.001000 rate, 443.259524 seconds, 2566592 images\n",
            "Loaded: 0.000064 seconds\n",
            "Region Avg IOU: 0.354607, Class: 1.000000, Obj: 0.354381, No Obj: 0.325244, Avg Recall: 0.333333,  count: 12\n"
          ],
          "name": "stdout"
        },
        {
          "output_type": "stream",
          "text": [
            "Region Avg IOU: 0.332972, Class: 1.000000, Obj: 0.457437, No Obj: 0.328799, Avg Recall: 0.333333,  count: 9\n",
            "Region Avg IOU: 0.370444, Class: 1.000000, Obj: 0.492330, No Obj: 0.324794, Avg Recall: 0.333333,  count: 15\n",
            "Region Avg IOU: 0.279220, Class: 1.000000, Obj: 0.383231, No Obj: 0.324712, Avg Recall: 0.214286,  count: 14\n",
            "Region Avg IOU: 0.267694, Class: 1.000000, Obj: 0.391140, No Obj: 0.324802, Avg Recall: 0.071429,  count: 14\n",
            "Region Avg IOU: 0.483595, Class: 1.000000, Obj: 0.401175, No Obj: 0.324641, Avg Recall: 0.615385,  count: 13\n",
            "Region Avg IOU: 0.323358, Class: 1.000000, Obj: 0.319634, No Obj: 0.324523, Avg Recall: 0.266667,  count: 15\n",
            "Region Avg IOU: 0.399639, Class: 1.000000, Obj: 0.396251, No Obj: 0.325113, Avg Recall: 0.294118,  count: 17\n",
            "40104: 287.784332, 290.041199 avg, 0.001000 rate, 442.721512 seconds, 2566656 images\n",
            "Loaded: 0.000063 seconds\n",
            "Region Avg IOU: 0.275307, Class: 1.000000, Obj: 0.363137, No Obj: 0.325968, Avg Recall: 0.333333,  count: 12\n",
            "Region Avg IOU: 0.124948, Class: 1.000000, Obj: 0.308860, No Obj: 0.326543, Avg Recall: 0.000000,  count: 13\n",
            "Region Avg IOU: 0.253943, Class: 1.000000, Obj: 0.415118, No Obj: 0.326062, Avg Recall: 0.176471,  count: 17\n",
            "Region Avg IOU: 0.283045, Class: 1.000000, Obj: 0.489249, No Obj: 0.324236, Avg Recall: 0.333333,  count: 15\n",
            "Region Avg IOU: 0.476495, Class: 1.000000, Obj: 0.369928, No Obj: 0.323741, Avg Recall: 0.400000,  count: 10\n",
            "Region Avg IOU: 0.272235, Class: 1.000000, Obj: 0.388951, No Obj: 0.324621, Avg Recall: 0.200000,  count: 10\n",
            "Region Avg IOU: 0.323236, Class: 1.000000, Obj: 0.382741, No Obj: 0.325039, Avg Recall: 0.250000,  count: 12\n",
            "Region Avg IOU: 0.290500, Class: 1.000000, Obj: 0.356807, No Obj: 0.323889, Avg Recall: 0.142857,  count: 14\n",
            "40105: 292.691559, 290.306244 avg, 0.001000 rate, 444.120383 seconds, 2566720 images\n",
            "Loaded: 0.000065 seconds\n",
            "Region Avg IOU: 0.235599, Class: 1.000000, Obj: 0.296053, No Obj: 0.324754, Avg Recall: 0.076923,  count: 13\n",
            "Region Avg IOU: 0.308251, Class: 1.000000, Obj: 0.319898, No Obj: 0.324618, Avg Recall: 0.142857,  count: 14\n",
            "Region Avg IOU: 0.181186, Class: 1.000000, Obj: 0.390075, No Obj: 0.325717, Avg Recall: 0.000000,  count: 17\n",
            "Region Avg IOU: 0.390306, Class: 1.000000, Obj: 0.290306, No Obj: 0.325355, Avg Recall: 0.214286,  count: 14\n",
            "Region Avg IOU: 0.405353, Class: 1.000000, Obj: 0.478792, No Obj: 0.323861, Avg Recall: 0.363636,  count: 11\n",
            "Region Avg IOU: 0.512443, Class: 1.000000, Obj: 0.341280, No Obj: 0.325208, Avg Recall: 0.545455,  count: 11\n",
            "Region Avg IOU: 0.196629, Class: 1.000000, Obj: 0.419431, No Obj: 0.326125, Avg Recall: 0.058824,  count: 17\n",
            "Region Avg IOU: 0.285996, Class: 1.000000, Obj: 0.373170, No Obj: 0.326717, Avg Recall: 0.142857,  count: 14\n",
            "40106: 292.000397, 290.475647 avg, 0.001000 rate, 445.508976 seconds, 2566784 images\n",
            "Loaded: 0.000072 seconds\n",
            "Region Avg IOU: 0.369485, Class: 1.000000, Obj: 0.363956, No Obj: 0.324889, Avg Recall: 0.222222,  count: 9\n",
            "Region Avg IOU: 0.287513, Class: 1.000000, Obj: 0.404794, No Obj: 0.323876, Avg Recall: 0.222222,  count: 18\n",
            "Region Avg IOU: 0.226626, Class: 1.000000, Obj: 0.319960, No Obj: 0.326613, Avg Recall: 0.142857,  count: 14\n",
            "Region Avg IOU: 0.286543, Class: 1.000000, Obj: 0.450581, No Obj: 0.323173, Avg Recall: 0.142857,  count: 14\n",
            "Region Avg IOU: 0.339729, Class: 1.000000, Obj: 0.365963, No Obj: 0.325358, Avg Recall: 0.200000,  count: 15\n",
            "Region Avg IOU: 0.349506, Class: 1.000000, Obj: 0.439851, No Obj: 0.325366, Avg Recall: 0.294118,  count: 17\n",
            "Region Avg IOU: 0.267579, Class: 1.000000, Obj: 0.286545, No Obj: 0.327038, Avg Recall: 0.047619,  count: 21\n",
            "Region Avg IOU: 0.369901, Class: 1.000000, Obj: 0.308064, No Obj: 0.324681, Avg Recall: 0.214286,  count: 14\n",
            "40107: 292.711273, 290.699219 avg, 0.001000 rate, 438.021016 seconds, 2566848 images\n",
            "Loaded: 0.000085 seconds\n",
            "Region Avg IOU: 0.359510, Class: 1.000000, Obj: 0.435935, No Obj: 0.325452, Avg Recall: 0.230769,  count: 13\n",
            "Region Avg IOU: 0.269178, Class: 1.000000, Obj: 0.383504, No Obj: 0.323068, Avg Recall: 0.181818,  count: 11\n",
            "Region Avg IOU: 0.125005, Class: 1.000000, Obj: 0.301198, No Obj: 0.327957, Avg Recall: 0.000000,  count: 13\n",
            "Region Avg IOU: 0.287577, Class: 1.000000, Obj: 0.381197, No Obj: 0.325369, Avg Recall: 0.125000,  count: 16\n",
            "Region Avg IOU: 0.219553, Class: 1.000000, Obj: 0.355280, No Obj: 0.325068, Avg Recall: 0.076923,  count: 13\n",
            "Region Avg IOU: 0.191802, Class: 1.000000, Obj: 0.377634, No Obj: 0.325559, Avg Recall: 0.181818,  count: 11\n",
            "Region Avg IOU: 0.260614, Class: 1.000000, Obj: 0.225327, No Obj: 0.325921, Avg Recall: 0.272727,  count: 22\n"
          ],
          "name": "stdout"
        },
        {
          "output_type": "stream",
          "text": [
            "Region Avg IOU: 0.360220, Class: 1.000000, Obj: 0.424418, No Obj: 0.323934, Avg Recall: 0.307692,  count: 13\n",
            "40108: 292.394012, 290.868713 avg, 0.001000 rate, 458.172755 seconds, 2566912 images\n",
            "Loaded: 0.000062 seconds\n",
            "Region Avg IOU: 0.208718, Class: 1.000000, Obj: 0.547826, No Obj: 0.325492, Avg Recall: 0.153846,  count: 13\n",
            "Region Avg IOU: 0.295595, Class: 1.000000, Obj: 0.392205, No Obj: 0.325544, Avg Recall: 0.181818,  count: 11\n",
            "Region Avg IOU: 0.378122, Class: 1.000000, Obj: 0.321931, No Obj: 0.324606, Avg Recall: 0.166667,  count: 12\n",
            "Region Avg IOU: 0.213422, Class: 1.000000, Obj: 0.395568, No Obj: 0.326036, Avg Recall: 0.076923,  count: 13\n",
            "Region Avg IOU: 0.311283, Class: 1.000000, Obj: 0.306113, No Obj: 0.323902, Avg Recall: 0.181818,  count: 11\n",
            "Region Avg IOU: 0.337866, Class: 1.000000, Obj: 0.398266, No Obj: 0.325374, Avg Recall: 0.125000,  count: 8\n",
            "Region Avg IOU: 0.247613, Class: 1.000000, Obj: 0.431392, No Obj: 0.324421, Avg Recall: 0.157895,  count: 19\n",
            "Region Avg IOU: 0.371161, Class: 1.000000, Obj: 0.325325, No Obj: 0.325420, Avg Recall: 0.307692,  count: 13\n",
            "40109: 292.423798, 291.024231 avg, 0.001000 rate, 461.235873 seconds, 2566976 images\n",
            "Loaded: 0.000081 seconds\n",
            "Region Avg IOU: 0.271174, Class: 1.000000, Obj: 0.346616, No Obj: 0.326253, Avg Recall: 0.230769,  count: 13\n",
            "Region Avg IOU: 0.353329, Class: 1.000000, Obj: 0.417886, No Obj: 0.324470, Avg Recall: 0.266667,  count: 15\n",
            "Region Avg IOU: 0.206017, Class: 1.000000, Obj: 0.319530, No Obj: 0.326903, Avg Recall: 0.000000,  count: 17\n",
            "Region Avg IOU: 0.355732, Class: 1.000000, Obj: 0.492629, No Obj: 0.324721, Avg Recall: 0.333333,  count: 12\n",
            "Region Avg IOU: 0.357716, Class: 1.000000, Obj: 0.472714, No Obj: 0.324336, Avg Recall: 0.272727,  count: 11\n",
            "Region Avg IOU: 0.259386, Class: 1.000000, Obj: 0.333501, No Obj: 0.326684, Avg Recall: 0.166667,  count: 12\n",
            "Region Avg IOU: 0.266568, Class: 1.000000, Obj: 0.235754, No Obj: 0.330432, Avg Recall: 0.153846,  count: 13\n",
            "Region Avg IOU: 0.293727, Class: 1.000000, Obj: 0.325145, No Obj: 0.325733, Avg Recall: 0.222222,  count: 18\n",
            "40110: 294.789246, 291.400726 avg, 0.001000 rate, 460.421423 seconds, 2567040 images\n",
            "Resizing\n",
            "608\n",
            "Loaded: 1.323560 seconds\n",
            "Region Avg IOU: 0.459065, Class: 1.000000, Obj: 0.375704, No Obj: 0.325311, Avg Recall: 0.428571,  count: 14\n",
            "Region Avg IOU: 0.335095, Class: 1.000000, Obj: 0.339139, No Obj: 0.325608, Avg Recall: 0.307692,  count: 13\n",
            "Region Avg IOU: 0.384907, Class: 1.000000, Obj: 0.430473, No Obj: 0.324175, Avg Recall: 0.357143,  count: 14\n",
            "Region Avg IOU: 0.242584, Class: 1.000000, Obj: 0.471005, No Obj: 0.324136, Avg Recall: 0.000000,  count: 17\n",
            "Region Avg IOU: 0.304128, Class: 1.000000, Obj: 0.403199, No Obj: 0.324248, Avg Recall: 0.294118,  count: 17\n",
            "Region Avg IOU: 0.372745, Class: 1.000000, Obj: 0.403917, No Obj: 0.324758, Avg Recall: 0.166667,  count: 12\n",
            "Region Avg IOU: 0.368176, Class: 1.000000, Obj: 0.278586, No Obj: 0.324331, Avg Recall: 0.200000,  count: 15\n",
            "Region Avg IOU: 0.321972, Class: 1.000000, Obj: 0.389361, No Obj: 0.324568, Avg Recall: 0.350000,  count: 20\n",
            "40111: 287.560760, 291.016724 avg, 0.001000 rate, 465.913066 seconds, 2567104 images\n",
            "Loaded: 0.000085 seconds\n",
            "Region Avg IOU: 0.389316, Class: 1.000000, Obj: 0.455643, No Obj: 0.323981, Avg Recall: 0.400000,  count: 15\n",
            "Region Avg IOU: 0.318641, Class: 1.000000, Obj: 0.511614, No Obj: 0.325960, Avg Recall: 0.166667,  count: 12\n",
            "Region Avg IOU: 0.370757, Class: 1.000000, Obj: 0.413106, No Obj: 0.325454, Avg Recall: 0.272727,  count: 11\n",
            "Region Avg IOU: 0.359408, Class: 1.000000, Obj: 0.429676, No Obj: 0.326240, Avg Recall: 0.166667,  count: 12\n",
            "Region Avg IOU: 0.303472, Class: 1.000000, Obj: 0.447307, No Obj: 0.325107, Avg Recall: 0.111111,  count: 9\n",
            "Region Avg IOU: 0.273615, Class: 1.000000, Obj: 0.272792, No Obj: 0.326020, Avg Recall: 0.200000,  count: 10\n",
            "Region Avg IOU: 0.251535, Class: 1.000000, Obj: 0.377932, No Obj: 0.325997, Avg Recall: 0.100000,  count: 20\n",
            "Region Avg IOU: 0.225717, Class: 1.000000, Obj: 0.261254, No Obj: 0.325515, Avg Recall: 0.105263,  count: 19\n",
            "40112: 289.805908, 290.895630 avg, 0.001000 rate, 474.486286 seconds, 2567168 images\n",
            "Loaded: 0.000073 seconds\n",
            "Region Avg IOU: 0.298359, Class: 1.000000, Obj: 0.496299, No Obj: 0.325557, Avg Recall: 0.214286,  count: 14\n",
            "Region Avg IOU: 0.320201, Class: 1.000000, Obj: 0.463424, No Obj: 0.324558, Avg Recall: 0.285714,  count: 14\n",
            "Region Avg IOU: 0.339434, Class: 1.000000, Obj: 0.366587, No Obj: 0.325024, Avg Recall: 0.166667,  count: 12\n"
          ],
          "name": "stdout"
        },
        {
          "output_type": "stream",
          "text": [
            "Region Avg IOU: 0.265224, Class: 1.000000, Obj: 0.365918, No Obj: 0.330428, Avg Recall: 0.200000,  count: 15\n",
            "Region Avg IOU: 0.312343, Class: 1.000000, Obj: 0.327484, No Obj: 0.324114, Avg Recall: 0.214286,  count: 14\n",
            "Region Avg IOU: 0.319950, Class: 1.000000, Obj: 0.379544, No Obj: 0.326405, Avg Recall: 0.272727,  count: 11\n",
            "Region Avg IOU: 0.297360, Class: 1.000000, Obj: 0.392718, No Obj: 0.324877, Avg Recall: 0.153846,  count: 13\n",
            "Region Avg IOU: 0.340036, Class: 1.000000, Obj: 0.347509, No Obj: 0.324733, Avg Recall: 0.363636,  count: 11\n",
            "40113: 290.471619, 290.853241 avg, 0.001000 rate, 470.597226 seconds, 2567232 images\n",
            "Loaded: 0.000056 seconds\n",
            "Region Avg IOU: 0.394439, Class: 1.000000, Obj: 0.401927, No Obj: 0.326061, Avg Recall: 0.300000,  count: 10\n",
            "Region Avg IOU: 0.368547, Class: 1.000000, Obj: 0.397067, No Obj: 0.324326, Avg Recall: 0.266667,  count: 15\n",
            "Region Avg IOU: 0.222036, Class: 1.000000, Obj: 0.336877, No Obj: 0.329136, Avg Recall: 0.181818,  count: 11\n",
            "Region Avg IOU: 0.240218, Class: 1.000000, Obj: 0.357114, No Obj: 0.324771, Avg Recall: 0.058824,  count: 17\n",
            "Region Avg IOU: 0.310077, Class: 1.000000, Obj: 0.400897, No Obj: 0.326287, Avg Recall: 0.133333,  count: 15\n",
            "Region Avg IOU: 0.275560, Class: 1.000000, Obj: 0.256932, No Obj: 0.326407, Avg Recall: 0.210526,  count: 19\n",
            "Region Avg IOU: 0.384576, Class: 1.000000, Obj: 0.322660, No Obj: 0.324009, Avg Recall: 0.181818,  count: 11\n",
            "Region Avg IOU: 0.196992, Class: 1.000000, Obj: 0.366113, No Obj: 0.325362, Avg Recall: 0.066667,  count: 15\n",
            "40114: 292.097961, 290.977722 avg, 0.001000 rate, 470.806142 seconds, 2567296 images\n",
            "Loaded: 0.000067 seconds\n",
            "Region Avg IOU: 0.325254, Class: 1.000000, Obj: 0.332766, No Obj: 0.324001, Avg Recall: 0.222222,  count: 9\n",
            "Region Avg IOU: 0.282543, Class: 1.000000, Obj: 0.350879, No Obj: 0.326948, Avg Recall: 0.166667,  count: 12\n",
            "Region Avg IOU: 0.336583, Class: 1.000000, Obj: 0.349316, No Obj: 0.325265, Avg Recall: 0.307692,  count: 13\n",
            "Region Avg IOU: 0.302716, Class: 1.000000, Obj: 0.376239, No Obj: 0.330941, Avg Recall: 0.230769,  count: 13\n",
            "Region Avg IOU: 0.272228, Class: 1.000000, Obj: 0.403162, No Obj: 0.324953, Avg Recall: 0.133333,  count: 15\n",
            "Region Avg IOU: 0.287801, Class: 1.000000, Obj: 0.301431, No Obj: 0.326658, Avg Recall: 0.300000,  count: 10\n",
            "Region Avg IOU: 0.276744, Class: 1.000000, Obj: 0.302823, No Obj: 0.324445, Avg Recall: 0.153846,  count: 13\n",
            "Region Avg IOU: 0.276364, Class: 1.000000, Obj: 0.471930, No Obj: 0.325820, Avg Recall: 0.272727,  count: 11\n",
            "40115: 290.598206, 290.939758 avg, 0.001000 rate, 473.152045 seconds, 2567360 images\n",
            "Loaded: 0.000079 seconds\n",
            "Region Avg IOU: 0.365809, Class: 1.000000, Obj: 0.403586, No Obj: 0.325480, Avg Recall: 0.200000,  count: 15\n",
            "Region Avg IOU: 0.269638, Class: 1.000000, Obj: 0.471249, No Obj: 0.323575, Avg Recall: 0.187500,  count: 16\n",
            "Region Avg IOU: 0.248133, Class: 1.000000, Obj: 0.428568, No Obj: 0.325625, Avg Recall: 0.166667,  count: 12\n",
            "Region Avg IOU: 0.283263, Class: 1.000000, Obj: 0.316393, No Obj: 0.324407, Avg Recall: 0.133333,  count: 15\n",
            "Region Avg IOU: 0.397649, Class: 1.000000, Obj: 0.230675, No Obj: 0.325602, Avg Recall: 0.166667,  count: 12\n",
            "Region Avg IOU: 0.296185, Class: 1.000000, Obj: 0.353204, No Obj: 0.325516, Avg Recall: 0.166667,  count: 12\n",
            "Region Avg IOU: 0.270988, Class: 1.000000, Obj: 0.371218, No Obj: 0.323969, Avg Recall: 0.142857,  count: 14\n",
            "Region Avg IOU: 0.335884, Class: 1.000000, Obj: 0.424131, No Obj: 0.323937, Avg Recall: 0.315789,  count: 19\n",
            "40116: 291.659454, 291.011719 avg, 0.001000 rate, 473.544782 seconds, 2567424 images\n",
            "Loaded: 0.000093 seconds\n",
            "Region Avg IOU: 0.442833, Class: 1.000000, Obj: 0.395289, No Obj: 0.323041, Avg Recall: 0.416667,  count: 12\n",
            "Region Avg IOU: 0.474192, Class: 1.000000, Obj: 0.414201, No Obj: 0.323169, Avg Recall: 0.428571,  count: 14\n",
            "Region Avg IOU: 0.345887, Class: 1.000000, Obj: 0.410917, No Obj: 0.324872, Avg Recall: 0.333333,  count: 12\n",
            "Region Avg IOU: 0.315215, Class: 1.000000, Obj: 0.326745, No Obj: 0.323316, Avg Recall: 0.250000,  count: 16\n",
            "Region Avg IOU: 0.280708, Class: 1.000000, Obj: 0.459352, No Obj: 0.324272, Avg Recall: 0.071429,  count: 14\n",
            "Region Avg IOU: 0.298774, Class: 1.000000, Obj: 0.443935, No Obj: 0.326545, Avg Recall: 0.187500,  count: 16\n",
            "Region Avg IOU: 0.227909, Class: 1.000000, Obj: 0.241511, No Obj: 0.326018, Avg Recall: 0.066667,  count: 15\n"
          ],
          "name": "stdout"
        }
      ]
    },
    {
      "metadata": {
        "id": "nfKPlM3Iymvy",
        "colab_type": "code",
        "colab": {
          "autoexec": {
            "startup": false,
            "wait_interval": 0
          }
        }
      },
      "cell_type": "code",
      "source": [
        "!cd darknet/ && ./darknet detector test cfg/voc.data ../train_yolo/tiny-yolo-voc.cfg ../train_yolo/tiny-yolo-voc.weights n07753592_8465.jpg"
      ],
      "execution_count": 0,
      "outputs": []
    },
    {
      "metadata": {
        "id": "2JP_0Y6xJ6dy",
        "colab_type": "code",
        "colab": {
          "autoexec": {
            "startup": false,
            "wait_interval": 0
          }
        }
      },
      "cell_type": "code",
      "source": [
        ""
      ],
      "execution_count": 0,
      "outputs": []
    }
  ]
}